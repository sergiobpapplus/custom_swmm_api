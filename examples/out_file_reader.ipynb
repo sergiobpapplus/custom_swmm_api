{
 "cells": [
  {
   "cell_type": "markdown",
   "source": [
    "## Example for OUT File Reader\n"
   ],
   "metadata": {
    "collapsed": false
   }
  },
  {
   "cell_type": "code",
   "execution_count": 1,
   "metadata": {
    "collapsed": true,
    "ExecuteTime": {
     "start_time": "2023-04-07T09:10:48.297306Z",
     "end_time": "2023-04-07T09:10:48.767664Z"
    }
   },
   "outputs": [],
   "source": [
    "from swmm_api import read_out_file, SwmmOutput"
   ]
  },
  {
   "cell_type": "code",
   "execution_count": 2,
   "outputs": [],
   "source": [
    "out = read_out_file('epaswmm5_apps_manual/Example7-Final.out')"
   ],
   "metadata": {
    "collapsed": false,
    "ExecuteTime": {
     "start_time": "2023-04-07T09:10:48.768825Z",
     "end_time": "2023-04-07T09:10:48.772423Z"
    }
   }
  },
  {
   "cell_type": "markdown",
   "source": [
    "Is equal to:"
   ],
   "metadata": {
    "collapsed": false
   }
  },
  {
   "cell_type": "code",
   "execution_count": 3,
   "outputs": [],
   "source": [
    "out = SwmmOutput('epaswmm5_apps_manual/Example7-Final.out')"
   ],
   "metadata": {
    "collapsed": false,
    "ExecuteTime": {
     "start_time": "2023-04-07T09:10:48.773244Z",
     "end_time": "2023-04-07T09:10:48.775418Z"
    }
   }
  },
  {
   "cell_type": "markdown",
   "source": [
    "# Available Data in the file"
   ],
   "metadata": {
    "collapsed": false
   }
  },
  {
   "cell_type": "markdown",
   "source": [
    "## Which variables are present in the out file for each object type?\n",
    "Using this method will generate a dictionary with the object type as the key and a list of variables as the value.\n",
    "\n",
    "The structure of this dictionary will be consistent across all out files, unless pollutants are introduced. In that case, the pollutants will be appended to the link and node variables."
   ],
   "metadata": {
    "collapsed": false
   }
  },
  {
   "cell_type": "code",
   "execution_count": 4,
   "outputs": [
    {
     "data": {
      "text/plain": "{'subcatchment': ['rainfall',\n  'snow_depth',\n  'evaporation',\n  'infiltration',\n  'runoff',\n  'groundwater_outflow',\n  'groundwater_elevation',\n  'soil_moisture'],\n 'node': ['depth',\n  'head',\n  'volume',\n  'lateral_inflow',\n  'total_inflow',\n  'flooding'],\n 'link': ['flow', 'depth', 'velocity', 'volume', 'capacity'],\n 'pollutant': [],\n 'system': ['air_temperature',\n  'rainfall',\n  'snow_depth',\n  'infiltration',\n  'runoff',\n  'dry_weather_inflow',\n  'groundwater_inflow',\n  'RDII_inflow',\n  'direct_inflow',\n  'lateral_inflow',\n  'flooding',\n  'outflow',\n  'volume',\n  'evaporation',\n  'PET']}"
     },
     "execution_count": 4,
     "metadata": {},
     "output_type": "execute_result"
    }
   ],
   "source": [
    "out.variables"
   ],
   "metadata": {
    "collapsed": false,
    "ExecuteTime": {
     "start_time": "2023-04-07T09:10:48.777701Z",
     "end_time": "2023-04-07T09:10:48.779757Z"
    }
   }
  },
  {
   "cell_type": "markdown",
   "source": [
    "## What are the object labels in the out file for each object type?\n",
    "Using this method will produce a dictionary where the object type is the key and the object labels are the value."
   ],
   "metadata": {
    "collapsed": false
   }
  },
  {
   "cell_type": "code",
   "execution_count": 5,
   "outputs": [
    {
     "data": {
      "text/plain": "{'subcatchment': ['S1', 'S2', 'S3', 'S4', 'S5', 'S6', 'S7'],\n 'node': ['J1',\n  'J2a',\n  'J2',\n  'J3',\n  'J4',\n  'J5',\n  'J6',\n  'J7',\n  'J8',\n  'J9',\n  'J10',\n  'J11',\n  'Aux1',\n  'Aux2',\n  'Aux3',\n  'O1'],\n 'link': ['C2a',\n  'C2',\n  'C3',\n  'C4',\n  'C5',\n  'C6',\n  'C7',\n  'C8',\n  'C9',\n  'C10',\n  'C11',\n  'C_Aux1',\n  'C_Aux2',\n  'C_Aux1to2',\n  'C_Aux3',\n  'P1',\n  'P2',\n  'P3',\n  'P4',\n  'P5',\n  'P6',\n  'P7',\n  'P8'],\n 'pollutant': [],\n 'system': ['']}"
     },
     "execution_count": 5,
     "metadata": {},
     "output_type": "execute_result"
    }
   ],
   "source": [
    "out.labels"
   ],
   "metadata": {
    "collapsed": false,
    "ExecuteTime": {
     "start_time": "2023-04-07T09:10:48.781979Z",
     "end_time": "2023-04-07T09:10:48.783782Z"
    }
   }
  },
  {
   "cell_type": "code",
   "execution_count": 6,
   "outputs": [
    {
     "data": {
      "text/plain": "'CFS'"
     },
     "execution_count": 6,
     "metadata": {},
     "output_type": "execute_result"
    }
   ],
   "source": [
    "out.flow_unit"
   ],
   "metadata": {
    "collapsed": false,
    "ExecuteTime": {
     "start_time": "2023-04-07T09:10:48.784899Z",
     "end_time": "2023-04-07T09:10:48.786755Z"
    }
   }
  },
  {
   "cell_type": "code",
   "execution_count": 7,
   "outputs": [
    {
     "data": {
      "text/plain": "{}"
     },
     "execution_count": 7,
     "metadata": {},
     "output_type": "execute_result"
    }
   ],
   "source": [
    "out.pollutant_units"
   ],
   "metadata": {
    "collapsed": false,
    "ExecuteTime": {
     "start_time": "2023-04-07T09:10:48.787718Z",
     "end_time": "2023-04-07T09:10:48.825239Z"
    }
   }
  },
  {
   "cell_type": "code",
   "execution_count": 8,
   "outputs": [
    {
     "data": {
      "text/plain": "720"
     },
     "execution_count": 8,
     "metadata": {},
     "output_type": "execute_result"
    }
   ],
   "source": [
    "out.n_periods"
   ],
   "metadata": {
    "collapsed": false,
    "ExecuteTime": {
     "start_time": "2023-04-07T09:10:48.790263Z",
     "end_time": "2023-04-07T09:10:48.825470Z"
    }
   }
  },
  {
   "cell_type": "code",
   "execution_count": 9,
   "outputs": [
    {
     "data": {
      "text/plain": "datetime.timedelta(seconds=60)"
     },
     "execution_count": 9,
     "metadata": {},
     "output_type": "execute_result"
    }
   ],
   "source": [
    "out.report_interval"
   ],
   "metadata": {
    "collapsed": false,
    "ExecuteTime": {
     "start_time": "2023-04-07T09:10:48.792922Z",
     "end_time": "2023-04-07T09:10:48.825630Z"
    }
   }
  },
  {
   "cell_type": "code",
   "execution_count": 10,
   "outputs": [
    {
     "data": {
      "text/plain": "False"
     },
     "execution_count": 10,
     "metadata": {},
     "output_type": "execute_result"
    }
   ],
   "source": [
    "out.run_failed"
   ],
   "metadata": {
    "collapsed": false,
    "ExecuteTime": {
     "start_time": "2023-04-07T09:10:48.796073Z",
     "end_time": "2023-04-07T09:10:48.825777Z"
    }
   }
  },
  {
   "cell_type": "code",
   "execution_count": 11,
   "outputs": [
    {
     "data": {
      "text/plain": "51015"
     },
     "execution_count": 11,
     "metadata": {},
     "output_type": "execute_result"
    }
   ],
   "source": [
    "out.swmm_version"
   ],
   "metadata": {
    "collapsed": false,
    "ExecuteTime": {
     "start_time": "2023-04-07T09:10:48.799495Z",
     "end_time": "2023-04-07T09:10:48.825863Z"
    }
   }
  },
  {
   "cell_type": "code",
   "execution_count": 12,
   "outputs": [
    {
     "data": {
      "text/plain": "datetime.datetime(2007, 1, 1, 0, 1)"
     },
     "execution_count": 12,
     "metadata": {},
     "output_type": "execute_result"
    }
   ],
   "source": [
    "out.start_date"
   ],
   "metadata": {
    "collapsed": false,
    "ExecuteTime": {
     "start_time": "2023-04-07T09:10:48.802339Z",
     "end_time": "2023-04-07T09:10:48.825971Z"
    }
   }
  },
  {
   "cell_type": "markdown",
   "source": [
    "To extract a subset of model parameters of the objects, you can use the following function which returns a nested dictionary.\n",
    "The object type serves as the first key, the label as the second key, the parameter as the third key, and the associated value as the value."
   ],
   "metadata": {
    "collapsed": false
   }
  },
  {
   "cell_type": "code",
   "execution_count": 13,
   "outputs": [
    {
     "data": {
      "text/plain": "{'subcatchment': {'S1': {'area': 4.550000190734863},\n  'S2': {'area': 4.739999771118164},\n  'S3': {'area': 3.740000009536743},\n  'S4': {'area': 6.789999961853027},\n  'S5': {'area': 4.789999961853027},\n  'S6': {'area': 1.9800000190734863},\n  'S7': {'area': 2.3299999237060547}},\n 'node': {'J1': {'type': 'JUNCTION',\n   'invert': 4969.0,\n   'max_depth': 5.300000190734863},\n  'J2a': {'type': 'JUNCTION',\n   'invert': 4966.7001953125,\n   'max_depth': 5.300000190734863},\n  'J2': {'type': 'JUNCTION', 'invert': 4965.0, 'max_depth': 5.300000190734863},\n  'J3': {'type': 'JUNCTION', 'invert': 4973.0, 'max_depth': 3.0},\n  'J4': {'type': 'JUNCTION', 'invert': 4965.0, 'max_depth': 9.0},\n  'J5': {'type': 'JUNCTION', 'invert': 4965.7998046875, 'max_depth': 7.0},\n  'J6': {'type': 'JUNCTION', 'invert': 4969.0, 'max_depth': 3.5},\n  'J7': {'type': 'JUNCTION', 'invert': 4963.5, 'max_depth': 11.0},\n  'J8': {'type': 'JUNCTION', 'invert': 4966.5, 'max_depth': 3.5},\n  'J9': {'type': 'JUNCTION', 'invert': 4964.7998046875, 'max_depth': 3.0},\n  'J10': {'type': 'JUNCTION', 'invert': 4957.7998046875, 'max_depth': 9.0},\n  'J11': {'type': 'JUNCTION', 'invert': 4957.0, 'max_depth': 9.0},\n  'Aux1': {'type': 'JUNCTION',\n   'invert': 4975.0,\n   'max_depth': 1.2999999523162842},\n  'Aux2': {'type': 'JUNCTION',\n   'invert': 4971.7998046875,\n   'max_depth': 1.2999999523162842},\n  'Aux3': {'type': 'JUNCTION', 'invert': 4968.5, 'max_depth': 9.0},\n  'O1': {'type': 'OUTFALL', 'invert': 4956.0, 'max_depth': 4.75}},\n 'link': {'C2a': {'type': 'CONDUIT',\n   'offset': 4.0,\n   'offset_2': 4.0,\n   'max_depth': 1.2999999523162842,\n   'length': 157.47999572753906},\n  'C2': {'type': 'CONDUIT',\n   'offset': 4.0,\n   'offset_2': 6.0,\n   'max_depth': 1.2999999523162842,\n   'length': 526.0},\n  'C3': {'type': 'CONDUIT',\n   'offset': 0.0,\n   'offset_2': 6.0,\n   'max_depth': 2.25,\n   'length': 109.0},\n  'C4': {'type': 'CONDUIT',\n   'offset': 6.0,\n   'offset_2': 4.0,\n   'max_depth': 3.0,\n   'length': 133.0},\n  'C5': {'type': 'CONDUIT',\n   'offset': 4.0,\n   'offset_2': 0.0,\n   'max_depth': 3.0,\n   'length': 207.0},\n  'C6': {'type': 'CONDUIT',\n   'offset': 8.0,\n   'offset_2': 0.0,\n   'max_depth': 3.0,\n   'length': 140.0},\n  'C7': {'type': 'CONDUIT',\n   'offset': 0.0,\n   'offset_2': 0.0,\n   'max_depth': 3.5,\n   'length': 95.0},\n  'C8': {'type': 'CONDUIT',\n   'offset': 0.0,\n   'offset_2': 0.0,\n   'max_depth': 3.0,\n   'length': 166.0},\n  'C9': {'type': 'CONDUIT',\n   'offset': 0.0,\n   'offset_2': 6.0,\n   'max_depth': 3.0,\n   'length': 320.0},\n  'C10': {'type': 'CONDUIT',\n   'offset': 6.0,\n   'offset_2': 6.0,\n   'max_depth': 3.0,\n   'length': 145.0},\n  'C11': {'type': 'CONDUIT',\n   'offset': 0.0,\n   'offset_2': 0.0,\n   'max_depth': 4.75,\n   'length': 89.0},\n  'C_Aux1': {'type': 'CONDUIT',\n   'offset': 0.0,\n   'offset_2': 4.0,\n   'max_depth': 1.2999999523162842,\n   'length': 377.30999755859375},\n  'C_Aux2': {'type': 'CONDUIT',\n   'offset': 0.0,\n   'offset_2': 4.0,\n   'max_depth': 1.2999999523162842,\n   'length': 239.41000366210938},\n  'C_Aux1to2': {'type': 'CONDUIT',\n   'offset': 4.0,\n   'offset_2': 0.0,\n   'max_depth': 1.2999999523162842,\n   'length': 286.05999755859375},\n  'C_Aux3': {'type': 'CONDUIT',\n   'offset': 6.0,\n   'offset_2': 0.0,\n   'max_depth': 3.0,\n   'length': 444.75},\n  'P1': {'type': 'CONDUIT',\n   'offset': 0.0,\n   'offset_2': 0.0,\n   'max_depth': 1.3300000429153442,\n   'length': 185.38999938964844},\n  'P2': {'type': 'CONDUIT',\n   'offset': 0.0,\n   'offset_2': 0.0,\n   'max_depth': 1.5,\n   'length': 157.47999572753906},\n  'P3': {'type': 'CONDUIT',\n   'offset': 0.0,\n   'offset_2': 0.0,\n   'max_depth': 1.5,\n   'length': 529.219970703125},\n  'P4': {'type': 'CONDUIT',\n   'offset': 0.0,\n   'offset_2': 0.0,\n   'max_depth': 1.6699999570846558,\n   'length': 567.1900024414062},\n  'P5': {'type': 'CONDUIT',\n   'offset': 0.0,\n   'offset_2': 0.0,\n   'max_depth': 1.8300000429153442,\n   'length': 125.9800033569336},\n  'P6': {'type': 'CONDUIT',\n   'offset': 0.0,\n   'offset_2': 0.0,\n   'max_depth': 2.0,\n   'length': 360.3900146484375},\n  'P7': {'type': 'CONDUIT',\n   'offset': 0.0,\n   'offset_2': 0.0,\n   'max_depth': 2.0,\n   'length': 507.760009765625},\n  'P8': {'type': 'CONDUIT',\n   'offset': 0.0,\n   'offset_2': 0.0,\n   'max_depth': 3.1700000762939453,\n   'length': 144.5}}}"
     },
     "execution_count": 13,
     "metadata": {},
     "output_type": "execute_result"
    }
   ],
   "source": [
    "out.model_properties"
   ],
   "metadata": {
    "collapsed": false,
    "ExecuteTime": {
     "start_time": "2023-04-07T09:10:48.807548Z",
     "end_time": "2023-04-07T09:10:48.826163Z"
    }
   }
  },
  {
   "cell_type": "markdown",
   "source": [
    "## What is the total number of columns present in the out file?\n",
    "The answer can be calculated by multiplying the number of object types with the number of objects per type and then multiplying the result with the number of variables per type."
   ],
   "metadata": {
    "collapsed": false
   }
  },
  {
   "cell_type": "code",
   "execution_count": 14,
   "outputs": [
    {
     "data": {
      "text/plain": "282"
     },
     "execution_count": 14,
     "metadata": {},
     "output_type": "execute_result"
    }
   ],
   "source": [
    "out.number_columns"
   ],
   "metadata": {
    "collapsed": false,
    "ExecuteTime": {
     "start_time": "2023-04-07T09:10:48.812442Z",
     "end_time": "2023-04-07T09:10:48.826238Z"
    }
   }
  },
  {
   "cell_type": "markdown",
   "source": [
    "# Retrieving the data\n",
    "## Retrieving the Data in Numpy Array Format\n",
    "\n",
    "This method involves reading the entire file and storing the data in memory as a numpy array. This numpy array will later be used to create a pandas dataframe."
   ],
   "metadata": {
    "collapsed": false
   }
  },
  {
   "cell_type": "code",
   "execution_count": 15,
   "outputs": [
    {
     "data": {
      "text/plain": "numpy.ndarray"
     },
     "execution_count": 15,
     "metadata": {},
     "output_type": "execute_result"
    }
   ],
   "source": [
    "type(out.to_numpy())"
   ],
   "metadata": {
    "collapsed": false,
    "ExecuteTime": {
     "start_time": "2023-04-07T09:10:48.814550Z",
     "end_time": "2023-04-07T09:10:48.826311Z"
    }
   }
  },
  {
   "cell_type": "markdown",
   "source": [
    "## Retrieving the data in Pandas Dataframe Format\n",
    "\n",
    "Using this method, a pandas dataframe will be created with all the data present in the file. The columns of the dataframe will be organized with a multi-index that includes the following levels: object type, object label, and variable. (see [pandas-docs/stable/user_guide/advanced indexing](https://pandas.pydata.org/pandas-docs/stable/user_guide/advanced.html))\n",
    "\n",
    "It is recommended to use this method when a majority of the columns are needed, or when the out file contains only a few columns. However, if the out file has a large number of columns and only a small subset of columns are required, it is advisable to use the function introduced below."
   ],
   "metadata": {
    "collapsed": false
   }
  },
  {
   "cell_type": "code",
   "execution_count": 16,
   "outputs": [
    {
     "data": {
      "text/plain": "                    subcatchment                                      \\\n                              S1                                       \n                        rainfall snow_depth evaporation infiltration   \n2007-01-01 00:01:00         1.00        0.0         0.0      0.43200   \n2007-01-01 00:02:00         1.00        0.0         0.0      0.43200   \n2007-01-01 00:03:00         1.00        0.0         0.0      0.43200   \n2007-01-01 00:04:00         1.00        0.0         0.0      0.43200   \n2007-01-01 00:05:00         1.14        0.0         0.0      0.49248   \n...                          ...        ...         ...          ...   \n2007-01-01 11:56:00         0.00        0.0         0.0      0.00000   \n2007-01-01 11:57:00         0.00        0.0         0.0      0.00000   \n2007-01-01 11:58:00         0.00        0.0         0.0      0.00000   \n2007-01-01 11:59:00         0.00        0.0         0.0      0.00000   \n2007-01-01 12:00:00         0.00        0.0         0.0      0.00000   \n\n                                                                         \\\n                                                                          \n                       runoff groundwater_outflow groundwater_elevation   \n2007-01-01 00:01:00  0.088076                 0.0                   0.0   \n2007-01-01 00:02:00  0.233792                 0.0                   0.0   \n2007-01-01 00:03:00  0.368483                 0.0                   0.0   \n2007-01-01 00:04:00  0.531651                 0.0                   0.0   \n2007-01-01 00:05:00  0.973276                 0.0                   0.0   \n...                       ...                 ...                   ...   \n2007-01-01 11:56:00  0.000000                 0.0                   0.0   \n2007-01-01 11:57:00  0.000000                 0.0                   0.0   \n2007-01-01 11:58:00  0.000000                 0.0                   0.0   \n2007-01-01 11:59:00  0.000000                 0.0                   0.0   \n2007-01-01 12:00:00  0.000000                 0.0                   0.0   \n\n                                                       ...             system  \\\n                                        S2             ...                      \n                    soil_moisture rainfall snow_depth  ... dry_weather_inflow   \n2007-01-01 00:01:00           0.0     1.00        0.0  ...                0.0   \n2007-01-01 00:02:00           0.0     1.00        0.0  ...                0.0   \n2007-01-01 00:03:00           0.0     1.00        0.0  ...                0.0   \n2007-01-01 00:04:00           0.0     1.00        0.0  ...                0.0   \n2007-01-01 00:05:00           0.0     1.14        0.0  ...                0.0   \n...                           ...      ...        ...  ...                ...   \n2007-01-01 11:56:00           0.0     0.00        0.0  ...                0.0   \n2007-01-01 11:57:00           0.0     0.00        0.0  ...                0.0   \n2007-01-01 11:58:00           0.0     0.00        0.0  ...                0.0   \n2007-01-01 11:59:00           0.0     0.00        0.0  ...                0.0   \n2007-01-01 12:00:00           0.0     0.00        0.0  ...                0.0   \n\n                                                                  \\\n                                                                   \n                    groundwater_inflow RDII_inflow direct_inflow   \n2007-01-01 00:01:00                0.0         0.0           0.0   \n2007-01-01 00:02:00                0.0         0.0           0.0   \n2007-01-01 00:03:00                0.0         0.0           0.0   \n2007-01-01 00:04:00                0.0         0.0           0.0   \n2007-01-01 00:05:00                0.0         0.0           0.0   \n...                                ...         ...           ...   \n2007-01-01 11:56:00                0.0         0.0           0.0   \n2007-01-01 11:57:00                0.0         0.0           0.0   \n2007-01-01 11:58:00                0.0         0.0           0.0   \n2007-01-01 11:59:00                0.0         0.0           0.0   \n2007-01-01 12:00:00                0.0         0.0           0.0   \n\n                                                                               \\\n                                                                                \n                    lateral_inflow flooding   outflow      volume evaporation   \n2007-01-01 00:01:00       0.563977      0.0  0.003971   14.105279         0.0   \n2007-01-01 00:02:00       1.466747      0.0  0.022646   57.129456         0.0   \n2007-01-01 00:03:00       2.281808      0.0  0.085892  158.937866         0.0   \n2007-01-01 00:04:00       3.297160      0.0  0.287618  309.448669         0.0   \n2007-01-01 00:05:00       6.085905      0.0  0.730127  536.387329         0.0   \n...                            ...      ...       ...         ...         ...   \n2007-01-01 11:56:00       0.000000      0.0  0.000612    8.957918         0.0   \n2007-01-01 11:57:00       0.000000      0.0  0.000610    8.935231         0.0   \n2007-01-01 11:58:00       0.000000      0.0  0.000608    8.912636         0.0   \n2007-01-01 11:59:00       0.000000      0.0  0.000605    8.890132         0.0   \n2007-01-01 12:00:00       0.000000      0.0  0.000603    8.867590         0.0   \n\n                          \n                          \n                     PET  \n2007-01-01 00:01:00  0.0  \n2007-01-01 00:02:00  0.0  \n2007-01-01 00:03:00  0.0  \n2007-01-01 00:04:00  0.0  \n2007-01-01 00:05:00  0.0  \n...                  ...  \n2007-01-01 11:56:00  0.0  \n2007-01-01 11:57:00  0.0  \n2007-01-01 11:58:00  0.0  \n2007-01-01 11:59:00  0.0  \n2007-01-01 12:00:00  0.0  \n\n[720 rows x 282 columns]",
      "text/html": "<div>\n<style scoped>\n    .dataframe tbody tr th:only-of-type {\n        vertical-align: middle;\n    }\n\n    .dataframe tbody tr th {\n        vertical-align: top;\n    }\n\n    .dataframe thead tr th {\n        text-align: left;\n    }\n</style>\n<table border=\"1\" class=\"dataframe\">\n  <thead>\n    <tr>\n      <th></th>\n      <th colspan=\"10\" halign=\"left\">subcatchment</th>\n      <th>...</th>\n      <th colspan=\"10\" halign=\"left\">system</th>\n    </tr>\n    <tr>\n      <th></th>\n      <th colspan=\"8\" halign=\"left\">S1</th>\n      <th colspan=\"2\" halign=\"left\">S2</th>\n      <th>...</th>\n      <th colspan=\"10\" halign=\"left\"></th>\n    </tr>\n    <tr>\n      <th></th>\n      <th>rainfall</th>\n      <th>snow_depth</th>\n      <th>evaporation</th>\n      <th>infiltration</th>\n      <th>runoff</th>\n      <th>groundwater_outflow</th>\n      <th>groundwater_elevation</th>\n      <th>soil_moisture</th>\n      <th>rainfall</th>\n      <th>snow_depth</th>\n      <th>...</th>\n      <th>dry_weather_inflow</th>\n      <th>groundwater_inflow</th>\n      <th>RDII_inflow</th>\n      <th>direct_inflow</th>\n      <th>lateral_inflow</th>\n      <th>flooding</th>\n      <th>outflow</th>\n      <th>volume</th>\n      <th>evaporation</th>\n      <th>PET</th>\n    </tr>\n  </thead>\n  <tbody>\n    <tr>\n      <th>2007-01-01 00:01:00</th>\n      <td>1.00</td>\n      <td>0.0</td>\n      <td>0.0</td>\n      <td>0.43200</td>\n      <td>0.088076</td>\n      <td>0.0</td>\n      <td>0.0</td>\n      <td>0.0</td>\n      <td>1.00</td>\n      <td>0.0</td>\n      <td>...</td>\n      <td>0.0</td>\n      <td>0.0</td>\n      <td>0.0</td>\n      <td>0.0</td>\n      <td>0.563977</td>\n      <td>0.0</td>\n      <td>0.003971</td>\n      <td>14.105279</td>\n      <td>0.0</td>\n      <td>0.0</td>\n    </tr>\n    <tr>\n      <th>2007-01-01 00:02:00</th>\n      <td>1.00</td>\n      <td>0.0</td>\n      <td>0.0</td>\n      <td>0.43200</td>\n      <td>0.233792</td>\n      <td>0.0</td>\n      <td>0.0</td>\n      <td>0.0</td>\n      <td>1.00</td>\n      <td>0.0</td>\n      <td>...</td>\n      <td>0.0</td>\n      <td>0.0</td>\n      <td>0.0</td>\n      <td>0.0</td>\n      <td>1.466747</td>\n      <td>0.0</td>\n      <td>0.022646</td>\n      <td>57.129456</td>\n      <td>0.0</td>\n      <td>0.0</td>\n    </tr>\n    <tr>\n      <th>2007-01-01 00:03:00</th>\n      <td>1.00</td>\n      <td>0.0</td>\n      <td>0.0</td>\n      <td>0.43200</td>\n      <td>0.368483</td>\n      <td>0.0</td>\n      <td>0.0</td>\n      <td>0.0</td>\n      <td>1.00</td>\n      <td>0.0</td>\n      <td>...</td>\n      <td>0.0</td>\n      <td>0.0</td>\n      <td>0.0</td>\n      <td>0.0</td>\n      <td>2.281808</td>\n      <td>0.0</td>\n      <td>0.085892</td>\n      <td>158.937866</td>\n      <td>0.0</td>\n      <td>0.0</td>\n    </tr>\n    <tr>\n      <th>2007-01-01 00:04:00</th>\n      <td>1.00</td>\n      <td>0.0</td>\n      <td>0.0</td>\n      <td>0.43200</td>\n      <td>0.531651</td>\n      <td>0.0</td>\n      <td>0.0</td>\n      <td>0.0</td>\n      <td>1.00</td>\n      <td>0.0</td>\n      <td>...</td>\n      <td>0.0</td>\n      <td>0.0</td>\n      <td>0.0</td>\n      <td>0.0</td>\n      <td>3.297160</td>\n      <td>0.0</td>\n      <td>0.287618</td>\n      <td>309.448669</td>\n      <td>0.0</td>\n      <td>0.0</td>\n    </tr>\n    <tr>\n      <th>2007-01-01 00:05:00</th>\n      <td>1.14</td>\n      <td>0.0</td>\n      <td>0.0</td>\n      <td>0.49248</td>\n      <td>0.973276</td>\n      <td>0.0</td>\n      <td>0.0</td>\n      <td>0.0</td>\n      <td>1.14</td>\n      <td>0.0</td>\n      <td>...</td>\n      <td>0.0</td>\n      <td>0.0</td>\n      <td>0.0</td>\n      <td>0.0</td>\n      <td>6.085905</td>\n      <td>0.0</td>\n      <td>0.730127</td>\n      <td>536.387329</td>\n      <td>0.0</td>\n      <td>0.0</td>\n    </tr>\n    <tr>\n      <th>...</th>\n      <td>...</td>\n      <td>...</td>\n      <td>...</td>\n      <td>...</td>\n      <td>...</td>\n      <td>...</td>\n      <td>...</td>\n      <td>...</td>\n      <td>...</td>\n      <td>...</td>\n      <td>...</td>\n      <td>...</td>\n      <td>...</td>\n      <td>...</td>\n      <td>...</td>\n      <td>...</td>\n      <td>...</td>\n      <td>...</td>\n      <td>...</td>\n      <td>...</td>\n      <td>...</td>\n    </tr>\n    <tr>\n      <th>2007-01-01 11:56:00</th>\n      <td>0.00</td>\n      <td>0.0</td>\n      <td>0.0</td>\n      <td>0.00000</td>\n      <td>0.000000</td>\n      <td>0.0</td>\n      <td>0.0</td>\n      <td>0.0</td>\n      <td>0.00</td>\n      <td>0.0</td>\n      <td>...</td>\n      <td>0.0</td>\n      <td>0.0</td>\n      <td>0.0</td>\n      <td>0.0</td>\n      <td>0.000000</td>\n      <td>0.0</td>\n      <td>0.000612</td>\n      <td>8.957918</td>\n      <td>0.0</td>\n      <td>0.0</td>\n    </tr>\n    <tr>\n      <th>2007-01-01 11:57:00</th>\n      <td>0.00</td>\n      <td>0.0</td>\n      <td>0.0</td>\n      <td>0.00000</td>\n      <td>0.000000</td>\n      <td>0.0</td>\n      <td>0.0</td>\n      <td>0.0</td>\n      <td>0.00</td>\n      <td>0.0</td>\n      <td>...</td>\n      <td>0.0</td>\n      <td>0.0</td>\n      <td>0.0</td>\n      <td>0.0</td>\n      <td>0.000000</td>\n      <td>0.0</td>\n      <td>0.000610</td>\n      <td>8.935231</td>\n      <td>0.0</td>\n      <td>0.0</td>\n    </tr>\n    <tr>\n      <th>2007-01-01 11:58:00</th>\n      <td>0.00</td>\n      <td>0.0</td>\n      <td>0.0</td>\n      <td>0.00000</td>\n      <td>0.000000</td>\n      <td>0.0</td>\n      <td>0.0</td>\n      <td>0.0</td>\n      <td>0.00</td>\n      <td>0.0</td>\n      <td>...</td>\n      <td>0.0</td>\n      <td>0.0</td>\n      <td>0.0</td>\n      <td>0.0</td>\n      <td>0.000000</td>\n      <td>0.0</td>\n      <td>0.000608</td>\n      <td>8.912636</td>\n      <td>0.0</td>\n      <td>0.0</td>\n    </tr>\n    <tr>\n      <th>2007-01-01 11:59:00</th>\n      <td>0.00</td>\n      <td>0.0</td>\n      <td>0.0</td>\n      <td>0.00000</td>\n      <td>0.000000</td>\n      <td>0.0</td>\n      <td>0.0</td>\n      <td>0.0</td>\n      <td>0.00</td>\n      <td>0.0</td>\n      <td>...</td>\n      <td>0.0</td>\n      <td>0.0</td>\n      <td>0.0</td>\n      <td>0.0</td>\n      <td>0.000000</td>\n      <td>0.0</td>\n      <td>0.000605</td>\n      <td>8.890132</td>\n      <td>0.0</td>\n      <td>0.0</td>\n    </tr>\n    <tr>\n      <th>2007-01-01 12:00:00</th>\n      <td>0.00</td>\n      <td>0.0</td>\n      <td>0.0</td>\n      <td>0.00000</td>\n      <td>0.000000</td>\n      <td>0.0</td>\n      <td>0.0</td>\n      <td>0.0</td>\n      <td>0.00</td>\n      <td>0.0</td>\n      <td>...</td>\n      <td>0.0</td>\n      <td>0.0</td>\n      <td>0.0</td>\n      <td>0.0</td>\n      <td>0.000000</td>\n      <td>0.0</td>\n      <td>0.000603</td>\n      <td>8.867590</td>\n      <td>0.0</td>\n      <td>0.0</td>\n    </tr>\n  </tbody>\n</table>\n<p>720 rows × 282 columns</p>\n</div>"
     },
     "execution_count": 16,
     "metadata": {},
     "output_type": "execute_result"
    }
   ],
   "source": [
    "out.to_frame()"
   ],
   "metadata": {
    "collapsed": false,
    "ExecuteTime": {
     "start_time": "2023-04-07T09:10:48.819464Z",
     "end_time": "2023-04-07T09:10:48.890293Z"
    }
   }
  },
  {
   "cell_type": "markdown",
   "source": [
    "## Retrieving a Subset of Data in Pandas Dataframe or Series Format\n",
    "\n",
    "To retrieve a specific subset of the data and save computation time, use `get_part`.\n",
    "\n",
    "When a specific object type, label, and variable are specified, the function returns a pandas series.\n",
    "On the other hand, when a list of labels or a list of variables is provided or when the label or variable is set to `None`, a pandas dataframe will be returned."
   ],
   "metadata": {
    "collapsed": false
   }
  },
  {
   "cell_type": "code",
   "execution_count": 17,
   "outputs": [
    {
     "data": {
      "text/plain": "                     node/J1/head\n2007-01-01 00:01:00   4969.000000\n2007-01-01 00:02:00   4969.001953\n2007-01-01 00:03:00   4969.026855\n2007-01-01 00:04:00   4969.064941\n2007-01-01 00:05:00   4969.108887\n...                           ...\n2007-01-01 11:56:00   4969.001465\n2007-01-01 11:57:00   4969.001465\n2007-01-01 11:58:00   4969.001465\n2007-01-01 11:59:00   4969.001465\n2007-01-01 12:00:00   4969.001465\n\n[720 rows x 1 columns]",
      "text/html": "<div>\n<style scoped>\n    .dataframe tbody tr th:only-of-type {\n        vertical-align: middle;\n    }\n\n    .dataframe tbody tr th {\n        vertical-align: top;\n    }\n\n    .dataframe thead th {\n        text-align: right;\n    }\n</style>\n<table border=\"1\" class=\"dataframe\">\n  <thead>\n    <tr style=\"text-align: right;\">\n      <th></th>\n      <th>node/J1/head</th>\n    </tr>\n  </thead>\n  <tbody>\n    <tr>\n      <th>2007-01-01 00:01:00</th>\n      <td>4969.000000</td>\n    </tr>\n    <tr>\n      <th>2007-01-01 00:02:00</th>\n      <td>4969.001953</td>\n    </tr>\n    <tr>\n      <th>2007-01-01 00:03:00</th>\n      <td>4969.026855</td>\n    </tr>\n    <tr>\n      <th>2007-01-01 00:04:00</th>\n      <td>4969.064941</td>\n    </tr>\n    <tr>\n      <th>2007-01-01 00:05:00</th>\n      <td>4969.108887</td>\n    </tr>\n    <tr>\n      <th>...</th>\n      <td>...</td>\n    </tr>\n    <tr>\n      <th>2007-01-01 11:56:00</th>\n      <td>4969.001465</td>\n    </tr>\n    <tr>\n      <th>2007-01-01 11:57:00</th>\n      <td>4969.001465</td>\n    </tr>\n    <tr>\n      <th>2007-01-01 11:58:00</th>\n      <td>4969.001465</td>\n    </tr>\n    <tr>\n      <th>2007-01-01 11:59:00</th>\n      <td>4969.001465</td>\n    </tr>\n    <tr>\n      <th>2007-01-01 12:00:00</th>\n      <td>4969.001465</td>\n    </tr>\n  </tbody>\n</table>\n<p>720 rows × 1 columns</p>\n</div>"
     },
     "execution_count": 17,
     "metadata": {},
     "output_type": "execute_result"
    }
   ],
   "source": [
    "out.get_part('node', 'J1', 'head').to_frame()"
   ],
   "metadata": {
    "collapsed": false,
    "ExecuteTime": {
     "start_time": "2023-04-07T09:10:48.848869Z",
     "end_time": "2023-04-07T09:10:48.890851Z"
    }
   }
  },
  {
   "cell_type": "markdown",
   "source": [
    "The object types and their associated variables are pre-defined as objects to facilitate the use of auto-complete feature in IDEs.\n",
    "\n",
    "However, an exception to this rule is the pollutants, which vary depending on the model used."
   ],
   "metadata": {
    "collapsed": false
   }
  },
  {
   "cell_type": "code",
   "execution_count": 18,
   "outputs": [
    {
     "data": {
      "text/plain": "                     node/J1/head\n2007-01-01 00:01:00   4969.000000\n2007-01-01 00:02:00   4969.001953\n2007-01-01 00:03:00   4969.026855\n2007-01-01 00:04:00   4969.064941\n2007-01-01 00:05:00   4969.108887\n...                           ...\n2007-01-01 11:56:00   4969.001465\n2007-01-01 11:57:00   4969.001465\n2007-01-01 11:58:00   4969.001465\n2007-01-01 11:59:00   4969.001465\n2007-01-01 12:00:00   4969.001465\n\n[720 rows x 1 columns]",
      "text/html": "<div>\n<style scoped>\n    .dataframe tbody tr th:only-of-type {\n        vertical-align: middle;\n    }\n\n    .dataframe tbody tr th {\n        vertical-align: top;\n    }\n\n    .dataframe thead th {\n        text-align: right;\n    }\n</style>\n<table border=\"1\" class=\"dataframe\">\n  <thead>\n    <tr style=\"text-align: right;\">\n      <th></th>\n      <th>node/J1/head</th>\n    </tr>\n  </thead>\n  <tbody>\n    <tr>\n      <th>2007-01-01 00:01:00</th>\n      <td>4969.000000</td>\n    </tr>\n    <tr>\n      <th>2007-01-01 00:02:00</th>\n      <td>4969.001953</td>\n    </tr>\n    <tr>\n      <th>2007-01-01 00:03:00</th>\n      <td>4969.026855</td>\n    </tr>\n    <tr>\n      <th>2007-01-01 00:04:00</th>\n      <td>4969.064941</td>\n    </tr>\n    <tr>\n      <th>2007-01-01 00:05:00</th>\n      <td>4969.108887</td>\n    </tr>\n    <tr>\n      <th>...</th>\n      <td>...</td>\n    </tr>\n    <tr>\n      <th>2007-01-01 11:56:00</th>\n      <td>4969.001465</td>\n    </tr>\n    <tr>\n      <th>2007-01-01 11:57:00</th>\n      <td>4969.001465</td>\n    </tr>\n    <tr>\n      <th>2007-01-01 11:58:00</th>\n      <td>4969.001465</td>\n    </tr>\n    <tr>\n      <th>2007-01-01 11:59:00</th>\n      <td>4969.001465</td>\n    </tr>\n    <tr>\n      <th>2007-01-01 12:00:00</th>\n      <td>4969.001465</td>\n    </tr>\n  </tbody>\n</table>\n<p>720 rows × 1 columns</p>\n</div>"
     },
     "execution_count": 18,
     "metadata": {},
     "output_type": "execute_result"
    }
   ],
   "source": [
    "from swmm_api.output_file import VARIABLES, OBJECTS\n",
    "out.get_part(OBJECTS.NODE, 'J1', VARIABLES.NODE.HEAD).to_frame()"
   ],
   "metadata": {
    "collapsed": false,
    "ExecuteTime": {
     "start_time": "2023-04-07T09:10:48.854247Z",
     "end_time": "2023-04-07T09:10:48.905949Z"
    }
   }
  },
  {
   "cell_type": "code",
   "execution_count": 19,
   "outputs": [
    {
     "data": {
      "text/plain": "                        depth         head  volume  lateral_inflow  \\\n2007-01-01 00:01:00  0.000000  4969.000000     0.0             0.0   \n2007-01-01 00:02:00  0.002062  4969.001953     0.0             0.0   \n2007-01-01 00:03:00  0.026991  4969.026855     0.0             0.0   \n2007-01-01 00:04:00  0.064753  4969.064941     0.0             0.0   \n2007-01-01 00:05:00  0.109040  4969.108887     0.0             0.0   \n...                       ...          ...     ...             ...   \n2007-01-01 11:56:00  0.001290  4969.001465     0.0             0.0   \n2007-01-01 11:57:00  0.001286  4969.001465     0.0             0.0   \n2007-01-01 11:58:00  0.001282  4969.001465     0.0             0.0   \n2007-01-01 11:59:00  0.001278  4969.001465     0.0             0.0   \n2007-01-01 12:00:00  0.001275  4969.001465     0.0             0.0   \n\n                     total_inflow  flooding  \n2007-01-01 00:01:00      0.000000       0.0  \n2007-01-01 00:02:00      0.001879       0.0  \n2007-01-01 00:03:00      0.019385       0.0  \n2007-01-01 00:04:00      0.063515       0.0  \n2007-01-01 00:05:00      0.138886       0.0  \n...                           ...       ...  \n2007-01-01 11:56:00      0.000057       0.0  \n2007-01-01 11:57:00      0.000057       0.0  \n2007-01-01 11:58:00      0.000057       0.0  \n2007-01-01 11:59:00      0.000056       0.0  \n2007-01-01 12:00:00      0.000056       0.0  \n\n[720 rows x 6 columns]",
      "text/html": "<div>\n<style scoped>\n    .dataframe tbody tr th:only-of-type {\n        vertical-align: middle;\n    }\n\n    .dataframe tbody tr th {\n        vertical-align: top;\n    }\n\n    .dataframe thead th {\n        text-align: right;\n    }\n</style>\n<table border=\"1\" class=\"dataframe\">\n  <thead>\n    <tr style=\"text-align: right;\">\n      <th></th>\n      <th>depth</th>\n      <th>head</th>\n      <th>volume</th>\n      <th>lateral_inflow</th>\n      <th>total_inflow</th>\n      <th>flooding</th>\n    </tr>\n  </thead>\n  <tbody>\n    <tr>\n      <th>2007-01-01 00:01:00</th>\n      <td>0.000000</td>\n      <td>4969.000000</td>\n      <td>0.0</td>\n      <td>0.0</td>\n      <td>0.000000</td>\n      <td>0.0</td>\n    </tr>\n    <tr>\n      <th>2007-01-01 00:02:00</th>\n      <td>0.002062</td>\n      <td>4969.001953</td>\n      <td>0.0</td>\n      <td>0.0</td>\n      <td>0.001879</td>\n      <td>0.0</td>\n    </tr>\n    <tr>\n      <th>2007-01-01 00:03:00</th>\n      <td>0.026991</td>\n      <td>4969.026855</td>\n      <td>0.0</td>\n      <td>0.0</td>\n      <td>0.019385</td>\n      <td>0.0</td>\n    </tr>\n    <tr>\n      <th>2007-01-01 00:04:00</th>\n      <td>0.064753</td>\n      <td>4969.064941</td>\n      <td>0.0</td>\n      <td>0.0</td>\n      <td>0.063515</td>\n      <td>0.0</td>\n    </tr>\n    <tr>\n      <th>2007-01-01 00:05:00</th>\n      <td>0.109040</td>\n      <td>4969.108887</td>\n      <td>0.0</td>\n      <td>0.0</td>\n      <td>0.138886</td>\n      <td>0.0</td>\n    </tr>\n    <tr>\n      <th>...</th>\n      <td>...</td>\n      <td>...</td>\n      <td>...</td>\n      <td>...</td>\n      <td>...</td>\n      <td>...</td>\n    </tr>\n    <tr>\n      <th>2007-01-01 11:56:00</th>\n      <td>0.001290</td>\n      <td>4969.001465</td>\n      <td>0.0</td>\n      <td>0.0</td>\n      <td>0.000057</td>\n      <td>0.0</td>\n    </tr>\n    <tr>\n      <th>2007-01-01 11:57:00</th>\n      <td>0.001286</td>\n      <td>4969.001465</td>\n      <td>0.0</td>\n      <td>0.0</td>\n      <td>0.000057</td>\n      <td>0.0</td>\n    </tr>\n    <tr>\n      <th>2007-01-01 11:58:00</th>\n      <td>0.001282</td>\n      <td>4969.001465</td>\n      <td>0.0</td>\n      <td>0.0</td>\n      <td>0.000057</td>\n      <td>0.0</td>\n    </tr>\n    <tr>\n      <th>2007-01-01 11:59:00</th>\n      <td>0.001278</td>\n      <td>4969.001465</td>\n      <td>0.0</td>\n      <td>0.0</td>\n      <td>0.000056</td>\n      <td>0.0</td>\n    </tr>\n    <tr>\n      <th>2007-01-01 12:00:00</th>\n      <td>0.001275</td>\n      <td>4969.001465</td>\n      <td>0.0</td>\n      <td>0.0</td>\n      <td>0.000056</td>\n      <td>0.0</td>\n    </tr>\n  </tbody>\n</table>\n<p>720 rows × 6 columns</p>\n</div>"
     },
     "execution_count": 19,
     "metadata": {},
     "output_type": "execute_result"
    }
   ],
   "source": [
    "# to get all data of a node, just remove the variable part\n",
    "out.get_part(OBJECTS.NODE, 'J1')"
   ],
   "metadata": {
    "collapsed": false,
    "ExecuteTime": {
     "start_time": "2023-04-07T09:10:48.857188Z",
     "end_time": "2023-04-07T09:10:48.907351Z"
    }
   }
  },
  {
   "cell_type": "markdown",
   "source": [
    "# How to Convert Out File to a Different File Format?\n",
    "\n",
    "To convert the out file to a different file format, you can first create a pandas dataframe using one of the functions mentioned above.\n",
    "Then, you can utilize one of the built-in functions of pandas to save the dataframe to the desired file format.\n",
    "\n",
    "Pandas provides various functions for reading and writing data, which can be found in the following links:\n",
    "- [pandas-docs/stable/reference/io](https://pandas.pydata.org/pandas-docs/stable/reference/io.html)\n",
    "- [pandas-docs/stable/user_guide/io#writing-out-data](https://pandas.pydata.org/pandas-docs/stable/user_guide/io.html#writing-out-data)\n",
    "\n",
    "For this type of data, we recommend using the parquet format, which not only saves storage space but is also faster to read."
   ],
   "metadata": {
    "collapsed": false
   }
  },
  {
   "cell_type": "markdown",
   "source": [
    "# Reading just a few columns of a huge out file\n",
    "\n",
    "If you have a large out file that is several GBs in size, and you only need to extract a few columns from it, you can save time and memory by using the following function. This method reads only the necessary column instead of the entire dataset.\n",
    "\n",
    "Please note that this approach is only faster when the out file is enormous, due to how the function is implemented. You can experiment with both functions to determine the best approach for your particular case.\n",
    "\n",
    "If you haven't installed tqdm or don't wish to see the progress bar, you can use `show_progress=False`."
   ],
   "metadata": {
    "collapsed": false
   }
  },
  {
   "cell_type": "code",
   "execution_count": 20,
   "outputs": [
    {
     "data": {
      "text/plain": "SwmmOutput(file=\"epaswmm5_apps_manual/Example7-Final.out\").get_selective_results(n_cols=1):   0%|          | 0…",
      "application/vnd.jupyter.widget-view+json": {
       "version_major": 2,
       "version_minor": 0,
       "model_id": "7e7bdeeacac64758b2175396073b7502"
      }
     },
     "metadata": {},
     "output_type": "display_data"
    },
    {
     "data": {
      "text/plain": "2007-01-01 00:01:00    4969.000000\n2007-01-01 00:02:00    4969.001953\n2007-01-01 00:03:00    4969.026855\n2007-01-01 00:04:00    4969.064941\n2007-01-01 00:05:00    4969.108887\n                          ...     \n2007-01-01 11:56:00    4969.001465\n2007-01-01 11:57:00    4969.001465\n2007-01-01 11:58:00    4969.001465\n2007-01-01 11:59:00    4969.001465\n2007-01-01 12:00:00    4969.001465\nFreq: T, Name: node/J1/head, Length: 720, dtype: float64"
     },
     "execution_count": 20,
     "metadata": {},
     "output_type": "execute_result"
    }
   ],
   "source": [
    "out.get_part(OBJECTS.NODE, 'J1', VARIABLES.NODE.HEAD, slim=True)"
   ],
   "metadata": {
    "collapsed": false,
    "ExecuteTime": {
     "start_time": "2023-04-07T09:10:48.865306Z",
     "end_time": "2023-04-07T09:10:48.910585Z"
    }
   }
  }
 ],
 "metadata": {
  "kernelspec": {
   "display_name": "Python 3",
   "language": "python",
   "name": "python3"
  },
  "language_info": {
   "codemirror_mode": {
    "name": "ipython",
    "version": 2
   },
   "file_extension": ".py",
   "mimetype": "text/x-python",
   "name": "python",
   "nbconvert_exporter": "python",
   "pygments_lexer": "ipython2",
   "version": "2.7.6"
  }
 },
 "nbformat": 4,
 "nbformat_minor": 0
}
