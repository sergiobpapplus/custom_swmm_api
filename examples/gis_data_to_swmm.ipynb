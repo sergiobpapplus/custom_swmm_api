{
 "cells": [
  {
   "cell_type": "markdown",
   "source": [
    "# Example for import GIS data to swmm-api\n",
    "\n",
    "This example is using the data provided in https://github.com/AaltoUrbanWater/GisToSWMM5\n",
    "\n",
    "## Read the GIS data into python\n",
    "\n",
    "Here we are using a shp-file but this information could also come for example from excel or csv files."
   ],
   "metadata": {
    "collapsed": false
   }
  },
  {
   "cell_type": "code",
   "execution_count": 1,
   "metadata": {
    "collapsed": true
   },
   "outputs": [
    {
     "data": {
      "text/plain": "Index(['x0', 'y0', 'x1', 'y1', 'name', 'elev_in', 'elev_out', 'length',\n       'junc_in', 'junc_out', 'roughness', 'elev_in_of', 'elev_ou_of', 'Link',\n       'Cshape', 'Geom1', 'Geom2', 'Geom3', 'Geom4', 'Barrels', 'Culvert',\n       'geometry'],\n      dtype='object')"
     },
     "execution_count": 1,
     "metadata": {},
     "output_type": "execute_result"
    }
   ],
   "source": [
    "import geopandas as gpd\n",
    "gdf = gpd.read_file('GisToSWMM5/demo_catchment/GIS/conduits.shp')\n",
    "gdf.columns"
   ]
  },
  {
   "cell_type": "markdown",
   "source": [
    "## See what information is needed\n",
    "\n",
    "For this tutorial we show the import of the conduit section, but for other sections the workflow is the same."
   ],
   "metadata": {
    "collapsed": false
   }
  },
  {
   "cell_type": "code",
   "execution_count": 2,
   "outputs": [],
   "source": [
    "from swmm_api.input_file.sections import Conduit"
   ],
   "metadata": {
    "collapsed": false,
    "pycharm": {
     "name": "#%%\n"
    }
   }
  },
  {
   "cell_type": "markdown",
   "source": [
    "First we need to know what information is needed.\n",
    "\n",
    "To see what parameters are needed for creating conduits use `help()` or go to the docs: https://markuspichler.gitlab.io/swmm_api/api_reference/api_inp_manipulations/inp_sections/swmm_api.input_file.sections.Conduit.html#swmm_api.input_file.sections.Conduit ."
   ],
   "metadata": {
    "collapsed": false
   }
  },
  {
   "cell_type": "code",
   "execution_count": 3,
   "outputs": [
    {
     "name": "stdout",
     "output_type": "stream",
     "text": [
      "Help on function __init__ in module swmm_api.input_file.sections.link:\n",
      "\n",
      "__init__(self, name, from_node, to_node, length, roughness, offset_upstream=0, offset_downstream=0, flow_initial=0, flow_max=nan)\n",
      "    Conduit link information.\n",
      "    \n",
      "    Args:\n",
      "        name (str): Name assigned to conduit link.\n",
      "        from_node (str): Name of upstream node.\n",
      "        to_node (str): Name of downstream node.\n",
      "        length (float): Conduit length (ft or m).\n",
      "        roughness (float): Value of n (i.e., roughness parameter) in Manning’s equation.\n",
      "        offset_upstream (float): offset of upstream end of conduit invert above the invert elevation of its\n",
      "                                 upstream node (ft or m).\n",
      "        offset_downstream (float): Offset of downstream end of conduit invert above the invert elevation of its\n",
      "                                   downstream node (ft or m).\n",
      "        flow_initial (float): Flow in conduit at start of simulation (flow units) (default is 0).\n",
      "        flow_max (float): Maximum flow allowed in the conduit (flow units) (default is no limit | 0 = no limit).\n",
      "\n"
     ]
    }
   ],
   "source": [
    "help(Conduit.__init__)"
   ],
   "metadata": {
    "collapsed": false,
    "pycharm": {
     "name": "#%%\n"
    }
   }
  },
  {
   "cell_type": "markdown",
   "source": [
    "## Create a new section for the conduits\n",
    "\n",
    "We saw before what parameters are needed to create a conduit.\n",
    "Now we take the information from the shp-file and sort the columns in the right order for the conduits."
   ],
   "metadata": {
    "collapsed": false
   }
  },
  {
   "cell_type": "code",
   "execution_count": 4,
   "outputs": [],
   "source": [
    "conduit_section = Conduit.create_section(gdf[['name', 'junc_in', 'junc_out', 'length', 'roughness', 'elev_in_of', 'elev_ou_of']].values)"
   ],
   "metadata": {
    "collapsed": false,
    "pycharm": {
     "name": "#%%\n"
    }
   }
  },
  {
   "cell_type": "markdown",
   "source": [
    "## Create a new inp-file"
   ],
   "metadata": {
    "collapsed": false
   }
  },
  {
   "cell_type": "code",
   "execution_count": 5,
   "outputs": [],
   "source": [
    "from swmm_api import SwmmInput\n",
    "inp = SwmmInput()"
   ],
   "metadata": {
    "collapsed": false,
    "pycharm": {
     "name": "#%%\n"
    }
   }
  },
  {
   "cell_type": "markdown",
   "source": [
    "add the new conduit section to the inp-file"
   ],
   "metadata": {
    "collapsed": false
   }
  },
  {
   "cell_type": "code",
   "execution_count": 6,
   "outputs": [],
   "source": [
    "inp.add_new_section(conduit_section)"
   ],
   "metadata": {
    "collapsed": false,
    "pycharm": {
     "name": "#%%\n"
    }
   }
  },
  {
   "cell_type": "markdown",
   "source": [
    "write the new inp-file"
   ],
   "metadata": {
    "collapsed": false
   }
  },
  {
   "cell_type": "code",
   "execution_count": 7,
   "outputs": [
    {
     "data": {
      "text/plain": "'GisToSWMM5_example.inp'"
     },
     "execution_count": 7,
     "metadata": {},
     "output_type": "execute_result"
    }
   ],
   "source": [
    "inp.write_file('GisToSWMM5_example.inp')"
   ],
   "metadata": {
    "collapsed": false,
    "pycharm": {
     "name": "#%%\n"
    }
   }
  },
  {
   "cell_type": "markdown",
   "source": [],
   "metadata": {
    "collapsed": false,
    "pycharm": {
     "name": "#%% md\n"
    }
   }
  }
 ],
 "metadata": {
  "kernelspec": {
   "display_name": "Python 3",
   "language": "python",
   "name": "python3"
  },
  "language_info": {
   "codemirror_mode": {
    "name": "ipython",
    "version": 2
   },
   "file_extension": ".py",
   "mimetype": "text/x-python",
   "name": "python",
   "nbconvert_exporter": "python",
   "pygments_lexer": "ipython2",
   "version": "2.7.6"
  }
 },
 "nbformat": 4,
 "nbformat_minor": 0
}