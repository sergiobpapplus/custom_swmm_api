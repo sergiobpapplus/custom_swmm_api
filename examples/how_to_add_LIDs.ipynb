{
 "cells": [
  {
   "cell_type": "markdown",
   "source": [
    "# How to add LID objects"
   ],
   "metadata": {
    "collapsed": false
   }
  },
  {
   "cell_type": "code",
   "execution_count": 36,
   "outputs": [],
   "source": [
    "from swmm_api import SwmmInput"
   ],
   "metadata": {
    "collapsed": false,
    "ExecuteTime": {
     "end_time": "2023-06-07T10:13:24.810577Z",
     "start_time": "2023-06-07T10:13:24.783705Z"
    }
   }
  },
  {
   "cell_type": "code",
   "execution_count": 2,
   "metadata": {
    "collapsed": true,
    "ExecuteTime": {
     "end_time": "2023-06-07T09:22:38.930417Z",
     "start_time": "2023-06-07T09:22:38.911823Z"
    }
   },
   "outputs": [],
   "source": [
    "%load_ext autoreload\n",
    "%autoreload 2"
   ]
  },
  {
   "cell_type": "code",
   "execution_count": 61,
   "outputs": [],
   "source": [
    "inp = SwmmInput('epaswmm5_apps_manual/projects/Example4.inp')"
   ],
   "metadata": {
    "collapsed": false,
    "ExecuteTime": {
     "end_time": "2023-06-07T12:49:29.950768Z",
     "start_time": "2023-06-07T12:49:29.916472Z"
    }
   }
  },
  {
   "cell_type": "code",
   "execution_count": 62,
   "outputs": [
    {
     "name": "stdout",
     "output_type": "stream",
     "text": [
      "GreenRoof BC\n",
      "GreenRoof SURFACE  0 0 0.1 1 5\n",
      "GreenRoof SOIL     3 0.5 0.2 0.1 0.5 10 3.5\n",
      "GreenRoof STORAGE  1 0.75 0 0 YES\n",
      "GreenRoof DRAIN    1 0.5 0 6\n",
      "\n",
      "PorousPave PP\n",
      "PorousPave SURFACE  0 0 0.02 2 5\n",
      "PorousPave PAVEMENT 6 0.15 0 100 0\n",
      "PorousPave STORAGE  12 0.75 0.2 0 YES\n",
      "PorousPave DRAIN    0 0.5 0 6\n",
      "\n",
      "Planters BC\n",
      "Planters SURFACE  6 0 0 0 5\n",
      "Planters SOIL     12 0.5 0.2 0.1 0.5 10 3.5\n",
      "Planters STORAGE  12 0.5 0.2 0 YES\n",
      "Planters DRAIN    0 1 0.5 6\n",
      "\n",
      "InfilTrench IT\n",
      "InfilTrench SURFACE  0 0 0.24 0.4 5\n",
      "InfilTrench STORAGE  36 0.4 0.2 0 YES\n",
      "InfilTrench DRAIN    0 0.5 0 6\n",
      "\n",
      "RainBarrels RB\n",
      "RainBarrels STORAGE  48 1 0 0 YES\n",
      "RainBarrels DRAIN    1 0.5 0 6\n",
      "\n",
      "Swale VS\n",
      "Swale SURFACE  36 0 0.24 1 5\n",
      "\n",
      "\n"
     ]
    }
   ],
   "source": [
    "print(inp.LID_CONTROLS.to_inp_lines())"
   ],
   "metadata": {
    "collapsed": false,
    "ExecuteTime": {
     "end_time": "2023-06-07T12:49:29.960754Z",
     "start_time": "2023-06-07T12:49:29.942459Z"
    }
   }
  },
  {
   "cell_type": "code",
   "execution_count": 63,
   "outputs": [
    {
     "data": {
      "text/plain": "{   'GreenRoof': LIDControl(name='GreenRoof', lid_kind='BC', layer_dict={'SURFACE': Surface(StorHt=0.0, VegFrac=0.0, Rough=0.1, Slope=1.0, Xslope=5.0), 'SOIL': Soil(Thick=3.0, Por=0.5, FC=0.2, WP=0.1, Ksat=0.5, Kcoeff=10.0, Suct=3.5), 'STORAGE': Storage(Height=1.0, Vratio=0.75, Seepage=0.0, Vclog=0, Covrd=True), 'DRAIN': Drain(Coeff=1.0, Expon=0.5, Offset=0.0, Delay='6', open_level=nan, close_level=nan, Qcurve=nan)}),\n    'PorousPave': LIDControl(name='PorousPave', lid_kind='PP', layer_dict={'SURFACE': Surface(StorHt=0.0, VegFrac=0.0, Rough=0.02, Slope=2.0, Xslope=5.0), 'PAVEMENT': Pavement(Thick=6.0, Vratio=0.15, FracImp=0.0, Perm=100.0, Vclog='0', regeneration_interval=nan, regeneration_fraction=nan), 'STORAGE': Storage(Height=12.0, Vratio=0.75, Seepage=0.2, Vclog=0, Covrd=True), 'DRAIN': Drain(Coeff=0.0, Expon=0.5, Offset=0.0, Delay='6', open_level=nan, close_level=nan, Qcurve=nan)}),\n    'Planters': LIDControl(name='Planters', lid_kind='BC', layer_dict={'SURFACE': Surface(StorHt=6.0, VegFrac=0.0, Rough=0.0, Slope=0.0, Xslope=5.0), 'SOIL': Soil(Thick=12.0, Por=0.5, FC=0.2, WP=0.1, Ksat=0.5, Kcoeff=10.0, Suct=3.5), 'STORAGE': Storage(Height=12.0, Vratio=0.5, Seepage=0.2, Vclog=0, Covrd=True), 'DRAIN': Drain(Coeff=0.0, Expon=1.0, Offset=0.5, Delay='6', open_level=nan, close_level=nan, Qcurve=nan)}),\n    'InfilTrench': LIDControl(name='InfilTrench', lid_kind='IT', layer_dict={'SURFACE': Surface(StorHt=0.0, VegFrac=0.0, Rough=0.24, Slope=0.4, Xslope=5.0), 'STORAGE': Storage(Height=36.0, Vratio=0.4, Seepage=0.2, Vclog=0, Covrd=True), 'DRAIN': Drain(Coeff=0.0, Expon=0.5, Offset=0.0, Delay='6', open_level=nan, close_level=nan, Qcurve=nan)}),\n    'RainBarrels': LIDControl(name='RainBarrels', lid_kind='RB', layer_dict={'STORAGE': Storage(Height=48.0, Vratio=1.0, Seepage=0.0, Vclog=0, Covrd=True), 'DRAIN': Drain(Coeff=1.0, Expon=0.5, Offset=0.0, Delay='6', open_level=nan, close_level=nan, Qcurve=nan)}),\n    'Swale': LIDControl(name='Swale', lid_kind='VS', layer_dict={'SURFACE': Surface(StorHt=36.0, VegFrac=0.0, Rough=0.24, Slope=1.0, Xslope=5.0)})}"
     },
     "execution_count": 63,
     "metadata": {},
     "output_type": "execute_result"
    }
   ],
   "source": [
    "lid_control = inp.LID_CONTROLS\n",
    "lid_control"
   ],
   "metadata": {
    "collapsed": false,
    "ExecuteTime": {
     "end_time": "2023-06-07T12:49:29.992512Z",
     "start_time": "2023-06-07T12:49:29.960547Z"
    }
   }
  },
  {
   "cell_type": "markdown",
   "source": [
    "Which information is needed to select one LID control object of the section"
   ],
   "metadata": {
    "collapsed": false
   }
  },
  {
   "cell_type": "code",
   "execution_count": 64,
   "outputs": [
    {
     "data": {
      "text/plain": "'name'"
     },
     "execution_count": 64,
     "metadata": {},
     "output_type": "execute_result"
    }
   ],
   "source": [
    "lid_control._identifier"
   ],
   "metadata": {
    "collapsed": false,
    "ExecuteTime": {
     "end_time": "2023-06-07T12:49:29.996234Z",
     "start_time": "2023-06-07T12:49:29.978630Z"
    }
   }
  },
  {
   "cell_type": "code",
   "execution_count": 65,
   "outputs": [],
   "source": [
    "from swmm_api.input_file.sections import LIDControl\n",
    "GreenRoof = lid_control['GreenRoof']  # type: LIDControl"
   ],
   "metadata": {
    "collapsed": false,
    "ExecuteTime": {
     "end_time": "2023-06-07T12:49:30.024653Z",
     "start_time": "2023-06-07T12:49:29.995977Z"
    }
   }
  },
  {
   "cell_type": "code",
   "execution_count": 66,
   "outputs": [
    {
     "name": "stdout",
     "output_type": "stream",
     "text": [
      "GreenRoof BC\n",
      "GreenRoof SURFACE  0 0 0.1 1 5\n",
      "GreenRoof SOIL     3 0.5 0.2 0.1 0.5 10 3.5\n",
      "GreenRoof STORAGE  1 0.75 0 0 YES\n",
      "GreenRoof DRAIN    1 0.5 0 6\n",
      "\n"
     ]
    }
   ],
   "source": [
    "print(GreenRoof.to_inp_line())"
   ],
   "metadata": {
    "collapsed": false,
    "ExecuteTime": {
     "end_time": "2023-06-07T12:49:30.025268Z",
     "start_time": "2023-06-07T12:49:30.011226Z"
    }
   }
  },
  {
   "cell_type": "code",
   "execution_count": 67,
   "outputs": [
    {
     "data": {
      "text/plain": "{'SURFACE': Surface(StorHt=0.0, VegFrac=0.0, Rough=0.1, Slope=1.0, Xslope=5.0),\n 'SOIL': Soil(Thick=3.0, Por=0.5, FC=0.2, WP=0.1, Ksat=0.5, Kcoeff=10.0, Suct=3.5),\n 'STORAGE': Storage(Height=1.0, Vratio=0.75, Seepage=0.0, Vclog=0, Covrd=True),\n 'DRAIN': Drain(Coeff=1.0, Expon=0.5, Offset=0.0, Delay='6', open_level=nan, close_level=nan, Qcurve=nan)}"
     },
     "execution_count": 67,
     "metadata": {},
     "output_type": "execute_result"
    }
   ],
   "source": [
    "GreenRoof.layer_dict"
   ],
   "metadata": {
    "collapsed": false,
    "ExecuteTime": {
     "end_time": "2023-06-07T12:49:30.041381Z",
     "start_time": "2023-06-07T12:49:30.025726Z"
    }
   }
  },
  {
   "cell_type": "code",
   "execution_count": 68,
   "outputs": [
    {
     "data": {
      "text/plain": "Surface(StorHt=0.0, VegFrac=0.0, Rough=0.1, Slope=1.0, Xslope=5.0)"
     },
     "execution_count": 68,
     "metadata": {},
     "output_type": "execute_result"
    }
   ],
   "source": [
    "GreenRoof_surface = GreenRoof.layer_dict[LIDControl.LAYER_TYPES.SURFACE]\n",
    "GreenRoof_surface"
   ],
   "metadata": {
    "collapsed": false,
    "ExecuteTime": {
     "end_time": "2023-06-07T12:49:30.078161Z",
     "start_time": "2023-06-07T12:49:30.041876Z"
    }
   }
  },
  {
   "cell_type": "code",
   "execution_count": 69,
   "outputs": [
    {
     "data": {
      "text/plain": "0.1"
     },
     "execution_count": 69,
     "metadata": {},
     "output_type": "execute_result"
    }
   ],
   "source": [
    "GreenRoof_surface.Rough"
   ],
   "metadata": {
    "collapsed": false,
    "ExecuteTime": {
     "end_time": "2023-06-07T12:49:30.078512Z",
     "start_time": "2023-06-07T12:49:30.058748Z"
    }
   }
  },
  {
   "cell_type": "code",
   "execution_count": 70,
   "outputs": [
    {
     "data": {
      "text/plain": "LIDControl(name='GreenRoof', lid_kind='BC', layer_dict={'SURFACE': Surface(StorHt=0.0, VegFrac=0.0, Rough=0.2, Slope=1.0, Xslope=5.0), 'SOIL': Soil(Thick=3.0, Por=0.5, FC=0.2, WP=0.1, Ksat=0.5, Kcoeff=10.0, Suct=3.5), 'STORAGE': Storage(Height=1.0, Vratio=0.75, Seepage=0.0, Vclog=0, Covrd=True), 'DRAIN': Drain(Coeff=1.0, Expon=0.5, Offset=0.0, Delay='6', open_level=nan, close_level=nan, Qcurve=nan)})"
     },
     "execution_count": 70,
     "metadata": {},
     "output_type": "execute_result"
    }
   ],
   "source": [
    "GreenRoof_surface.Rough = 0.2\n",
    "GreenRoof"
   ],
   "metadata": {
    "collapsed": false,
    "ExecuteTime": {
     "end_time": "2023-06-07T12:49:30.090536Z",
     "start_time": "2023-06-07T12:49:30.075223Z"
    }
   }
  },
  {
   "cell_type": "code",
   "execution_count": 71,
   "outputs": [
    {
     "data": {
      "text/plain": "                         n_replicate      area  width  saturation_init  \\\nsubcatchment lid                                                         \nS1           InfilTrench           4     532.0  133.0              0.0   \n             RainBarrels          32       5.0    0.0              0.0   \nS4           Planters             30     500.0    0.0              0.0   \nS5           GreenRoof             1   18400.0  136.0              0.0   \n             PorousPave            1  232872.0  683.0              0.0   \nSwale3       Swale                 1   14374.8   45.0              0.0   \nSwale4       Swale                 1   21780.0   45.0              0.0   \nSwale6       Swale                 1   17859.6   45.0              0.0   \n\n                          impervious_portion  route_to_pervious  \\\nsubcatchment lid                                                  \nS1           InfilTrench                40.0                  0   \n             RainBarrels                17.0                  1   \nS4           Planters                   80.0                  0   \nS5           GreenRoof                   0.0                  0   \n             PorousPave                  0.0                  0   \nSwale3       Swale                       0.0                  0   \nSwale4       Swale                       0.0                  0   \nSwale6       Swale                       0.0                  0   \n\n                          fn_lid_report  drain_to  from_pervious  \nsubcatchment lid                                                  \nS1           InfilTrench            NaN       NaN            NaN  \n             RainBarrels            NaN       NaN            NaN  \nS4           Planters               NaN       NaN            NaN  \nS5           GreenRoof              NaN       NaN            NaN  \n             PorousPave             NaN       NaN            NaN  \nSwale3       Swale                  NaN       NaN            NaN  \nSwale4       Swale                  NaN       NaN            NaN  \nSwale6       Swale                  NaN       NaN            NaN  ",
      "text/html": "<div>\n<style scoped>\n    .dataframe tbody tr th:only-of-type {\n        vertical-align: middle;\n    }\n\n    .dataframe tbody tr th {\n        vertical-align: top;\n    }\n\n    .dataframe thead th {\n        text-align: right;\n    }\n</style>\n<table border=\"1\" class=\"dataframe\">\n  <thead>\n    <tr style=\"text-align: right;\">\n      <th></th>\n      <th></th>\n      <th>n_replicate</th>\n      <th>area</th>\n      <th>width</th>\n      <th>saturation_init</th>\n      <th>impervious_portion</th>\n      <th>route_to_pervious</th>\n      <th>fn_lid_report</th>\n      <th>drain_to</th>\n      <th>from_pervious</th>\n    </tr>\n    <tr>\n      <th>subcatchment</th>\n      <th>lid</th>\n      <th></th>\n      <th></th>\n      <th></th>\n      <th></th>\n      <th></th>\n      <th></th>\n      <th></th>\n      <th></th>\n      <th></th>\n    </tr>\n  </thead>\n  <tbody>\n    <tr>\n      <th rowspan=\"2\" valign=\"top\">S1</th>\n      <th>InfilTrench</th>\n      <td>4</td>\n      <td>532.0</td>\n      <td>133.0</td>\n      <td>0.0</td>\n      <td>40.0</td>\n      <td>0</td>\n      <td>NaN</td>\n      <td>NaN</td>\n      <td>NaN</td>\n    </tr>\n    <tr>\n      <th>RainBarrels</th>\n      <td>32</td>\n      <td>5.0</td>\n      <td>0.0</td>\n      <td>0.0</td>\n      <td>17.0</td>\n      <td>1</td>\n      <td>NaN</td>\n      <td>NaN</td>\n      <td>NaN</td>\n    </tr>\n    <tr>\n      <th>S4</th>\n      <th>Planters</th>\n      <td>30</td>\n      <td>500.0</td>\n      <td>0.0</td>\n      <td>0.0</td>\n      <td>80.0</td>\n      <td>0</td>\n      <td>NaN</td>\n      <td>NaN</td>\n      <td>NaN</td>\n    </tr>\n    <tr>\n      <th rowspan=\"2\" valign=\"top\">S5</th>\n      <th>GreenRoof</th>\n      <td>1</td>\n      <td>18400.0</td>\n      <td>136.0</td>\n      <td>0.0</td>\n      <td>0.0</td>\n      <td>0</td>\n      <td>NaN</td>\n      <td>NaN</td>\n      <td>NaN</td>\n    </tr>\n    <tr>\n      <th>PorousPave</th>\n      <td>1</td>\n      <td>232872.0</td>\n      <td>683.0</td>\n      <td>0.0</td>\n      <td>0.0</td>\n      <td>0</td>\n      <td>NaN</td>\n      <td>NaN</td>\n      <td>NaN</td>\n    </tr>\n    <tr>\n      <th>Swale3</th>\n      <th>Swale</th>\n      <td>1</td>\n      <td>14374.8</td>\n      <td>45.0</td>\n      <td>0.0</td>\n      <td>0.0</td>\n      <td>0</td>\n      <td>NaN</td>\n      <td>NaN</td>\n      <td>NaN</td>\n    </tr>\n    <tr>\n      <th>Swale4</th>\n      <th>Swale</th>\n      <td>1</td>\n      <td>21780.0</td>\n      <td>45.0</td>\n      <td>0.0</td>\n      <td>0.0</td>\n      <td>0</td>\n      <td>NaN</td>\n      <td>NaN</td>\n      <td>NaN</td>\n    </tr>\n    <tr>\n      <th>Swale6</th>\n      <th>Swale</th>\n      <td>1</td>\n      <td>17859.6</td>\n      <td>45.0</td>\n      <td>0.0</td>\n      <td>0.0</td>\n      <td>0</td>\n      <td>NaN</td>\n      <td>NaN</td>\n      <td>NaN</td>\n    </tr>\n  </tbody>\n</table>\n</div>"
     },
     "execution_count": 71,
     "metadata": {},
     "output_type": "execute_result"
    }
   ],
   "source": [
    "inp.LID_USAGE.frame"
   ],
   "metadata": {
    "collapsed": false,
    "ExecuteTime": {
     "end_time": "2023-06-07T12:49:30.130365Z",
     "start_time": "2023-06-07T12:49:30.091002Z"
    }
   }
  },
  {
   "cell_type": "code",
   "execution_count": 72,
   "outputs": [
    {
     "name": "stdout",
     "output_type": "stream",
     "text": [
      "Help on class LAYER_TYPES in module swmm_api.input_file.sections.lid:\n",
      "\n",
      "class LAYER_TYPES(builtins.object)\n",
      " |  Layer types to add to LID controls.\n",
      " |  \n",
      " |  Data descriptors defined here:\n",
      " |  \n",
      " |  __dict__\n",
      " |      dictionary for instance variables (if defined)\n",
      " |  \n",
      " |  __weakref__\n",
      " |      list of weak references to the object (if defined)\n",
      " |  \n",
      " |  ----------------------------------------------------------------------\n",
      " |  Data and other attributes defined here:\n",
      " |  \n",
      " |  DRAIN = 'DRAIN'\n",
      " |  \n",
      " |  DRAINMAT = 'DRAINMAT'\n",
      " |  \n",
      " |  Drain = <class 'swmm_api.input_file.sections.lid.LIDControl.LAYER_TYPE...\n",
      " |  \n",
      " |  Drainmat = <class 'swmm_api.input_file.sections.lid.LIDControl.LAYER_T...\n",
      " |  \n",
      " |  PAVEMENT = 'PAVEMENT'\n",
      " |  \n",
      " |  Pavement = <class 'swmm_api.input_file.sections.lid.LIDControl.LAYER_T...\n",
      " |  \n",
      " |  REMOVALS = 'REMOVALS'\n",
      " |  \n",
      " |  Removals = <class 'swmm_api.input_file.sections.lid.LIDControl.LAYER_T...\n",
      " |  \n",
      " |  SOIL = 'SOIL'\n",
      " |  \n",
      " |  STORAGE = 'STORAGE'\n",
      " |  \n",
      " |  SURFACE = 'SURFACE'\n",
      " |  \n",
      " |  Soil = <class 'swmm_api.input_file.sections.lid.LIDControl.LAYER_TYPES...\n",
      " |  \n",
      " |  Storage = <class 'swmm_api.input_file.sections.lid.LIDControl.LAYER_TY...\n",
      " |  \n",
      " |  Surface = <class 'swmm_api.input_file.sections.lid.LIDControl.LAYER_TY...\n",
      "\n"
     ]
    }
   ],
   "source": [
    "help(LIDControl.LAYER_TYPES)"
   ],
   "metadata": {
    "collapsed": false,
    "ExecuteTime": {
     "end_time": "2023-06-07T12:49:30.143078Z",
     "start_time": "2023-06-07T12:49:30.111471Z"
    }
   }
  },
  {
   "cell_type": "code",
   "execution_count": 73,
   "outputs": [
    {
     "name": "stdout",
     "output_type": "stream",
     "text": [
      "Help on class Surface in module swmm_api.input_file.sections.lid:\n",
      "\n",
      "class Surface(swmm_api.input_file.helpers.BaseSectionObject)\n",
      " |  Surface(StorHt, VegFrac=0, Rough=0, Slope=0, Xslope=0)\n",
      " |  \n",
      " |  Method resolution order:\n",
      " |      Surface\n",
      " |      swmm_api.input_file.helpers.BaseSectionObject\n",
      " |      abc.ABC\n",
      " |      builtins.object\n",
      " |  \n",
      " |  Methods defined here:\n",
      " |  \n",
      " |  __init__(self, StorHt, VegFrac=0, Rough=0, Slope=0, Xslope=0)\n",
      " |      Used:\n",
      " |          bio-retention cell\n",
      " |          rain garden\n",
      " |          green roof\n",
      " |          infiltration trench\n",
      " |          permeable pavement\n",
      " |          rooftop disconnection\n",
      " |          vegetative swale\n",
      " |      \n",
      " |      Args:\n",
      " |          StorHt (float): when confining walls or berms are present this is the maximum depth to which water can\n",
      " |              pond above the surface of the unit before overflow occurs (in inches or mm). For LIDs that\n",
      " |              experience overland flow it is the height of any surface depression storage.\n",
      " |              For swales, it is the height of its trapezoidal cross section.\n",
      " |          VegFrac (float): fraction of the surface storage volume that is filled with vegetation.\n",
      " |          Rough (float): Manning's n for overland flow over surface soil cover, pavement, roof surface or a\n",
      " |              vegetative swale. Use 0 for other types of LIDs.\n",
      " |          Slope (float): slope of a roof surface, pavement surface or vegetative swale (percent).\n",
      " |              Use 0 for other types of LIDs.\n",
      " |          Xslope (float): slope (run over rise) of the side walls of a vegetative swale's cross section.\n",
      " |              Use 0 for other types of LIDs.\n",
      " |      \n",
      " |      Remarks:\n",
      " |          If either Rough or Slope values are 0 then any ponded water that exceeds the\n",
      " |          surface storage depth is assumed to completely overflow the LID control within a\n",
      " |          single time step.\n",
      " |  \n",
      " |  ----------------------------------------------------------------------\n",
      " |  Data and other attributes defined here:\n",
      " |  \n",
      " |  __abstractmethods__ = frozenset()\n",
      " |  \n",
      " |  ----------------------------------------------------------------------\n",
      " |  Methods inherited from swmm_api.input_file.helpers.BaseSectionObject:\n",
      " |  \n",
      " |  __eq__(self, other)\n",
      " |      Return self==value.\n",
      " |  \n",
      " |  __getitem__(self, key)\n",
      " |  \n",
      " |  __hash__(self)\n",
      " |      Return hash(self).\n",
      " |  \n",
      " |  __iter__(self)\n",
      " |  \n",
      " |  __repr__(self)\n",
      " |      Return repr(self).\n",
      " |  \n",
      " |  __setitem__(self, key, item)\n",
      " |  \n",
      " |  __str__(self)\n",
      " |      Return str(self).\n",
      " |  \n",
      " |  copy(self)\n",
      " |      Copy object.\n",
      " |      \n",
      " |      Returns:\n",
      " |          BaseSectionObject or Child: copy of the object\n",
      " |  \n",
      " |  get(self, key)\n",
      " |      Get an attribute value by the attribute name.\n",
      " |      \n",
      " |      Args:\n",
      " |          key (str): name of the attribute.\n",
      " |      \n",
      " |      Returns:\n",
      " |          any: the attribute value\n",
      " |  \n",
      " |  set(self, key, value)\n",
      " |      Set an attribute value.\n",
      " |      \n",
      " |      Args:\n",
      " |          key (str): name of the attribute.\n",
      " |          value (any): value for the attribute.\n",
      " |  \n",
      " |  to_dict_(self)\n",
      " |      get all object parameters as dictionary\n",
      " |      \n",
      " |      Returns:\n",
      " |          dict:\n",
      " |  \n",
      " |  to_inp_line(self)\n",
      " |      Convert object to one line of the ``.inp``-file.\n",
      " |      \n",
      " |      for ``.inp``-file writing\n",
      " |      \n",
      " |      Returns:\n",
      " |          str: SWMM .inp file compatible string\n",
      " |  \n",
      " |  ----------------------------------------------------------------------\n",
      " |  Class methods inherited from swmm_api.input_file.helpers.BaseSectionObject:\n",
      " |  \n",
      " |  create_section(lines=None) from abc.ABCMeta\n",
      " |      Create a new section for the ``.inp``-file of this object and adds objects described in `lines`\n",
      " |      \n",
      " |      An empty section will be created when no lines are given.\n",
      " |      \n",
      " |      Args:\n",
      " |          lines (list[list] or str or optional): lines of values for multiple objects in this section\n",
      " |      \n",
      " |      Returns:\n",
      " |          InpSection: new section of this object type\n",
      " |  \n",
      " |  from_inp_line(*line_args) from abc.ABCMeta\n",
      " |      Convert line in the ``.inp``-file to the object.\n",
      " |      \n",
      " |      Needed if multiple subclasses of an object are available (i.e. Infiltration).\n",
      " |      \n",
      " |      Args:\n",
      " |          *line_args (list[str]): arguments in the line\n",
      " |      \n",
      " |      Returns:\n",
      " |          BaseSectionObject: object of the ``.inp``-file section\n",
      " |  \n",
      " |  from_inp_lines(lines) from abc.ABCMeta\n",
      " |      Create a new section for the ``.inp``-file of this object and adds objects described in `lines`\n",
      " |      \n",
      " |      Args:\n",
      " |          lines (list[list] or str or optional): lines of values for multiple objects in this section\n",
      " |      \n",
      " |      Returns:\n",
      " |          InpSection: new section of this object type\n",
      " |  \n",
      " |  ----------------------------------------------------------------------\n",
      " |  Readonly properties inherited from swmm_api.input_file.helpers.BaseSectionObject:\n",
      " |  \n",
      " |  attributes\n",
      " |      Get the attributes names for the object.\n",
      " |      \n",
      " |      Returns:\n",
      " |          tuple[str]: Attribute names for the object\n",
      " |  \n",
      " |  values\n",
      " |      Get the attributes values for the object.\n",
      " |      \n",
      " |      Returns:\n",
      " |          tuple[any]: Attribute values for the object\n",
      " |  \n",
      " |  values_used\n",
      " |      Get only the used attributes values for the object.\n",
      " |      \n",
      " |      Values which aren't used are set as `:obj:numpy.nan`\n",
      " |      \n",
      " |      Returns:\n",
      " |          tuple[any]: Attribute values used for the object\n",
      " |  \n",
      " |  ----------------------------------------------------------------------\n",
      " |  Data descriptors inherited from swmm_api.input_file.helpers.BaseSectionObject:\n",
      " |  \n",
      " |  __dict__\n",
      " |      dictionary for instance variables (if defined)\n",
      " |  \n",
      " |  __weakref__\n",
      " |      list of weak references to the object (if defined)\n",
      "\n"
     ]
    }
   ],
   "source": [
    "help(LIDControl.LAYER_TYPES.Surface)"
   ],
   "metadata": {
    "collapsed": false,
    "ExecuteTime": {
     "end_time": "2023-06-07T12:49:30.189857Z",
     "start_time": "2023-06-07T12:49:30.143530Z"
    }
   }
  }
 ],
 "metadata": {
  "kernelspec": {
   "display_name": "Python 3",
   "language": "python",
   "name": "python3"
  },
  "language_info": {
   "codemirror_mode": {
    "name": "ipython",
    "version": 2
   },
   "file_extension": ".py",
   "mimetype": "text/x-python",
   "name": "python",
   "nbconvert_exporter": "python",
   "pygments_lexer": "ipython2",
   "version": "2.7.6"
  }
 },
 "nbformat": 4,
 "nbformat_minor": 0
}
