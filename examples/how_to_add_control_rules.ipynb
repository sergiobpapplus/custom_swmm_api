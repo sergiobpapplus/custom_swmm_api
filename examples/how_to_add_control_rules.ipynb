{
 "cells": [
  {
   "cell_type": "markdown",
   "source": [
    "# How to add control rules"
   ],
   "metadata": {
    "collapsed": false
   }
  },
  {
   "cell_type": "code",
   "execution_count": 27,
   "outputs": [],
   "source": [
    "from swmm_api.input_file.sections import Control\n",
    "from swmm_api import SwmmInput"
   ],
   "metadata": {
    "collapsed": false,
    "pycharm": {
     "name": "#%%\n"
    }
   }
  },
  {
   "cell_type": "code",
   "execution_count": 28,
   "metadata": {
    "collapsed": true
   },
   "outputs": [
    {
     "name": "stdout",
     "output_type": "stream",
     "text": [
      "The autoreload extension is already loaded. To reload it, use:\n",
      "  %reload_ext autoreload\n"
     ]
    }
   ],
   "source": [
    "%load_ext autoreload\n",
    "%autoreload 2"
   ]
  },
  {
   "cell_type": "markdown",
   "source": [
    "See the help for possible inputs:"
   ],
   "metadata": {
    "collapsed": false
   }
  },
  {
   "cell_type": "code",
   "execution_count": 29,
   "outputs": [
    {
     "name": "stdout",
     "output_type": "stream",
     "text": [
      "Help on class Control in module swmm_api.input_file.sections.others:\n",
      "\n",
      "class Control(swmm_api.input_file.helpers.BaseSectionObject)\n",
      " |  Control(name, conditions, actions, priority=0)\n",
      " |  \n",
      " |  Rules that control pump and regulator operation.\n",
      " |  \n",
      " |  Section:\n",
      " |      [CONTROLS]\n",
      " |  \n",
      " |  Purpose:\n",
      " |      Determines how pumps and regulators will be adjusted\n",
      " |      based on simulation time or conditions at specific nodes and links.\n",
      " |  \n",
      " |  Formats:\n",
      " |      Each control rule is a series of statements of the form:\n",
      " |      ::\n",
      " |  \n",
      " |          RULE    ruleID\n",
      " |          IF      condition_1\n",
      " |          AND     condition_2\n",
      " |          OR      condition_3\n",
      " |          AND     condition_4\n",
      " |          Etc.\n",
      " |          THEN    action_1\n",
      " |          AND     action_2\n",
      " |          Etc.\n",
      " |          ELSE    action_3\n",
      " |          AND     action_4\n",
      " |          Etc.\n",
      " |          PRIORITY value\n",
      " |  \n",
      " |  Remarks:\n",
      " |      `RuleID`: an ID label assigned to the rule.\n",
      " |      `condition_n`: a condition clause.\n",
      " |      `action_n`: an action clause.\n",
      " |      `value`: a priority value (e.g., a number from 1 to 5).\n",
      " |  \n",
      " |      A **condition clause** of a Control Rule has the following format:\n",
      " |          `Object Name Attribute Relation Value`\n",
      " |  \n",
      " |      where:\n",
      " |          - `Object`: is a category of object,\n",
      " |          - `Name`: is the object’s assigned ID name,\n",
      " |          - `Attribute`: is the name of an attribute or property of the object,\n",
      " |          - `Relation`: is a relational operator (=, <>, <, <=, >, >=), and\n",
      " |          - `Value`: is an attribute value.\n",
      " |  \n",
      " |      for example:\n",
      " |      ::\n",
      " |  \n",
      " |          NODE N23 DEPTH > 10\n",
      " |          PUMP P45 STATUS = OFF\n",
      " |          SIMULATION TIME = 12:45:00\n",
      " |          NODE  N23  DEPTH  >  10\n",
      " |          NODE  N23  DEPTH  >  NODE 25 DEPTH\n",
      " |          PUMP  P45  STATUS =  OFF\n",
      " |          LINK  P45  TIMEOPEN >= 6:30\n",
      " |          SIMULATION CLOCKTIME = 22:45:00\n",
      " |  \n",
      " |      TIMEOPEN is the duration a link has been in an OPEN or ON state or have its\n",
      " |      SETTING be greater than zero; TIMECLOSED is the duration it has remained in a\n",
      " |      CLOSED or OFF state or have its SETTING be zero.\n",
      " |  \n",
      " |      +------------+------------+----------------------------------+\n",
      " |      | Object     | Attributes | Value                            |\n",
      " |      +============+============+==================================+\n",
      " |      | NODE       | DEPTH      | numerical value                  |\n",
      " |      +------------+------------+----------------------------------+\n",
      " |      |            | HEAD       | numerical value                  |\n",
      " |      +------------+------------+----------------------------------+\n",
      " |      |            | VOLUME     | numerical value                  |\n",
      " |      +------------+------------+----------------------------------+\n",
      " |      |            | INFLOW     | numerical value                  |\n",
      " |      +------------+------------+----------------------------------+\n",
      " |      | LINK       | FLOW       | numerical value                  |\n",
      " |      +------------+------------+----------------------------------+\n",
      " |      |            | DEPTH      | numerical value                  |\n",
      " |      +------------+------------+----------------------------------+\n",
      " |      |            | TIMEOPEN   | decimal hours or hr:min          |\n",
      " |      +------------+------------+----------------------------------+\n",
      " |      |            | TIMECLOSED | decimal hours or hr:min          |\n",
      " |      +------------+------------+----------------------------------+\n",
      " |      | CONDUIT    | STATUS     | OPEN or CLOSED                   |\n",
      " |      +------------+------------+----------------------------------+\n",
      " |      |            | TIMEOPEN   | decimal hours or hr:min          |\n",
      " |      +------------+------------+----------------------------------+\n",
      " |      |            | TIMECLOSED | decimal hours or hr:min          |\n",
      " |      +------------+------------+----------------------------------+\n",
      " |      | PUMP       | STATUS     | ON or OFF                        |\n",
      " |      +------------+------------+----------------------------------+\n",
      " |      |            | SETTING    | pump curve multiplier            |\n",
      " |      +------------+------------+----------------------------------+\n",
      " |      |            | FLOW       | numerical value                  |\n",
      " |      +------------+------------+----------------------------------+\n",
      " |      |            | TIMEOPEN   | decimal hours or hr:min          |\n",
      " |      +------------+------------+----------------------------------+\n",
      " |      |            | TIMECLOSED | decimal hours or hr:min          |\n",
      " |      +------------+------------+----------------------------------+\n",
      " |      | ORIFICE    | SETTING    | fraction open                    |\n",
      " |      +------------+------------+----------------------------------+\n",
      " |      |            | TIMEOPEN   | decimal hours or hr:min          |\n",
      " |      +------------+------------+----------------------------------+\n",
      " |      |            | TIMECLOSED | decimal hours or hr:min          |\n",
      " |      +------------+------------+----------------------------------+\n",
      " |      | WEIR       | SETTING    | fraction open                    |\n",
      " |      +------------+------------+----------------------------------+\n",
      " |      |            | TIMEOPEN   | decimal hours or hr:min          |\n",
      " |      +------------+------------+----------------------------------+\n",
      " |      |            | TIMECLOSED | decimal hours or hr:min          |\n",
      " |      +------------+------------+----------------------------------+\n",
      " |      | OUTLET     | SETTING    | rating curve multiplier          |\n",
      " |      +------------+------------+----------------------------------+\n",
      " |      |            | TIMEOPEN   | decimal hours or hr:min          |\n",
      " |      +------------+------------+----------------------------------+\n",
      " |      |            | TIMECLOSED | decimal hours or hr:min          |\n",
      " |      +------------+------------+----------------------------------+\n",
      " |      | SIMULATION | TIME       | elapsed time in decimal hours or |\n",
      " |      +------------+------------+----------------------------------+\n",
      " |      |            |            | hr:min:sec                       |\n",
      " |      +------------+------------+----------------------------------+\n",
      " |      | SIMULATION | DATE       | month/day/year                   |\n",
      " |      +------------+------------+----------------------------------+\n",
      " |      |            | MONTH      | month of year (January = 1)      |\n",
      " |      +------------+------------+----------------------------------+\n",
      " |      |            | DAY        | day of week (Sunday = 1)         |\n",
      " |      +------------+------------+----------------------------------+\n",
      " |      |            | CLOCKTIME  | time of day in hr:min:sec        |\n",
      " |      +------------+------------+----------------------------------+\n",
      " |  \n",
      " |      An **Action Clause** of a Control Rule has the following format:\n",
      " |          `Object Name Action = Value`\n",
      " |          `PUMP id STATUS = ON/OFF`\n",
      " |          `PUMP/ORIFICE/WEIR/OUTLET id SETTING = value`\n",
      " |  \n",
      " |      where:\n",
      " |          - `Object`: is a category of object,\n",
      " |          - `Name`: is the object’s assigned ID name,\n",
      " |          - `Action`: is the type of action\n",
      " |          - `Value`: is the action value/setting/status.\n",
      " |  \n",
      " |      where the meaning of SETTING depends on the object being controlled:\n",
      " |          - for Pumps it is a multiplier applied to the flow computed from the pump curve,\n",
      " |          - for Orifices it is the fractional amount that the orifice is fully open,\n",
      " |          - for Weirs it is the fractional amount of the original freeboard that exists (i.e., weir control is accomplished by moving the crest height up or down),\n",
      " |          - for Outlets it is a multiplier applied to the flow computed from the outlet's rating curve.\n",
      " |  \n",
      " |      Modulated controls are control rules that provide for a continuous degree of control\n",
      " |      applied to a pump or flow regulator as determined by the value of some controller\n",
      " |      variable, such as water depth at a node, or by time. The functional relation between\n",
      " |      the control setting and the controller variable is specified by using a control curve, a\n",
      " |      time series, or a PID controller. To model these types of controls, the value entry on\n",
      " |      the right-hand side of the action clause is replaced by the keyword CURVE,\n",
      " |      TIMESERIES, or PID and followed by the id name of the respective control curve or\n",
      " |      time series or by the gain, integral time (in minutes), and derivative time (in minutes)\n",
      " |      of a PID controller. For direct action control the gain is a positive number while for\n",
      " |      reverse action control it must be a negative number. By convention, the controller\n",
      " |      variable used in a control curve or PID control will always be the object and attribute\n",
      " |      named in the last condition clause of the rule. The value specified for this clause will\n",
      " |      be the setpoint used in a PID controller.\n",
      " |  \n",
      " |  \n",
      " |      for example:\n",
      " |      ::\n",
      " |  \n",
      " |          PUMP P67 STATUS = OFF\n",
      " |          ORIFICE O212 SETTING = 0.5\n",
      " |          WEIR W25 SETTING = CURVE C25\n",
      " |          ORIFICE ORI_23 SETTING = PID 0.1 0.1 0.0\n",
      " |  \n",
      " |      Only the RULE, IF and THEN portions of a rule are required; the other portions are optional.\n",
      " |      When mixing AND and OR clauses, the OR operator has higher precedence than AND, i.e., `IF A or B and C`\n",
      " |      is equivalent to `IF (A or B) and C.`\n",
      " |      If the interpretation was meant to be `IF A or (B and C)`\n",
      " |      then this can be expressed using two rules as in `IF A THEN ... IF B and C THEN ...`\n",
      " |  \n",
      " |      The PRIORITY value is used to determine which rule applies when two or more rules\n",
      " |      require that conflicting actions be taken on a link. A conflicting rule with a higher\n",
      " |      priority value has precedence over one with a lower value (e.g., PRIORITY 5\n",
      " |      outranks PRIORITY 1). A rule without a priority value always has a lower priority\n",
      " |      than one with a value. For two rules with the same priority value, the rule that\n",
      " |      appears first is given the higher priority.\n",
      " |  \n",
      " |  \n",
      " |  Examples:\n",
      " |      ::\n",
      " |  \n",
      " |          ; Simple time-based pump control\n",
      " |          RULE R1\n",
      " |          IF SIMULATION TIME > 8\n",
      " |          THEN PUMP 12 STATUS = ON\n",
      " |          ELSE PUMP 12 STATUS = OFF\n",
      " |  \n",
      " |          ; Multi-condition orifice gate control\n",
      " |          RULE R2A\n",
      " |          IF NODE 23 DEPTH > 12\n",
      " |          AND LINK 165 FLOW > 100\n",
      " |          THEN ORIFICE R55 SETTING = 0.5\n",
      " |  \n",
      " |          RULE R2B\n",
      " |          IF NODE 23 DEPTH > 12\n",
      " |          AND LINK 165 FLOW > 200\n",
      " |          THEN ORIFICE R55 SETTING = 1.0\n",
      " |  \n",
      " |          RULE R2C\n",
      " |          IF NODE 23 DEPTH <= 12\n",
      " |          OR LINK 165 FLOW <= 100\n",
      " |          THEN ORIFICE R55 SETTING = 0\n",
      " |  \n",
      " |          ; PID controller that attempts to keep Node 23’s depth at 12:\n",
      " |          RULE PID_1\n",
      " |          IF NODE 23 DEPTH <> 12\n",
      " |          THEN ORIFICE R55 SETTING = PID 0.5 0.1 0.0\n",
      " |  \n",
      " |          ; Pump station operation with a main (N1A) and lag (N1B) pump\n",
      " |          RULE R3A\n",
      " |          IF NODE N1 DEPTH > 5\n",
      " |          THEN PUMP N1A STATUS = ON\n",
      " |  \n",
      " |          RULE R3B\n",
      " |          IF PUMP N1A TIMEOPEN > 2:30\n",
      " |          THEN PUMP N1B STATUS = ON\n",
      " |          ELSE PUMP N1B STATUS = OFF\n",
      " |  \n",
      " |          RULE R3C\n",
      " |          IF NODE N1 DEPTH <= 0.5\n",
      " |          THEN PUMP N1A STATUS = OFF\n",
      " |          AND PUMP N1B STATUS = OFF\n",
      " |  \n",
      " |  Method resolution order:\n",
      " |      Control\n",
      " |      swmm_api.input_file.helpers.BaseSectionObject\n",
      " |      abc.ABC\n",
      " |      builtins.object\n",
      " |  \n",
      " |  Methods defined here:\n",
      " |  \n",
      " |  __init__(self, name, conditions, actions, priority=0)\n",
      " |  \n",
      " |  to_inp_line(self)\n",
      " |  \n",
      " |  ----------------------------------------------------------------------\n",
      " |  Data and other attributes defined here:\n",
      " |  \n",
      " |  ATTRIBUTES = <class 'swmm_api.input_file.sections.others.Control.ATTRI...\n",
      " |  \n",
      " |  LOGIC = <class 'swmm_api.input_file.sections.others.Control.LOGIC'>\n",
      " |  \n",
      " |  OBJECTS = <class 'swmm_api.input_file.sections.others.Control.OBJECTS'...\n",
      " |  \n",
      " |  __abstractmethods__ = frozenset()\n",
      " |  \n",
      " |  ----------------------------------------------------------------------\n",
      " |  Methods inherited from swmm_api.input_file.helpers.BaseSectionObject:\n",
      " |  \n",
      " |  __eq__(self, other)\n",
      " |      Return self==value.\n",
      " |  \n",
      " |  __getitem__(self, key)\n",
      " |  \n",
      " |  __hash__(self)\n",
      " |      Return hash(self).\n",
      " |  \n",
      " |  __iter__(self)\n",
      " |  \n",
      " |  __repr__(self)\n",
      " |      Return repr(self).\n",
      " |  \n",
      " |  __setitem__(self, key, item)\n",
      " |  \n",
      " |  __str__(self)\n",
      " |      Return str(self).\n",
      " |  \n",
      " |  copy(self)\n",
      " |      Copy object.\n",
      " |      \n",
      " |      Returns:\n",
      " |          BaseSectionObject or Child: copy of the object\n",
      " |  \n",
      " |  get(self, key)\n",
      " |      Get an attribute value by the attribute name.\n",
      " |      \n",
      " |      Args:\n",
      " |          key (str): name of the attribute.\n",
      " |      \n",
      " |      Returns:\n",
      " |          any: the attribute value\n",
      " |  \n",
      " |  set(self, key, value)\n",
      " |      Set an attribute value.\n",
      " |      \n",
      " |      Args:\n",
      " |          key (str): name of the attribute.\n",
      " |          value (any): value for the attribute.\n",
      " |  \n",
      " |  to_dict_(self)\n",
      " |      get all object parameters as dictionary\n",
      " |      \n",
      " |      Returns:\n",
      " |          dict:\n",
      " |  \n",
      " |  ----------------------------------------------------------------------\n",
      " |  Class methods inherited from swmm_api.input_file.helpers.BaseSectionObject:\n",
      " |  \n",
      " |  create_section(lines=None) from abc.ABCMeta\n",
      " |      Create a new section for the ``.inp``-file of this object and adds objects described in `lines`\n",
      " |      \n",
      " |      An empty section will be created when no lines are given.\n",
      " |      \n",
      " |      Args:\n",
      " |          lines (list[list] | optional): lines of values for multiple objects in this section\n",
      " |      \n",
      " |      Returns:\n",
      " |          InpSection: new section of this object type\n",
      " |  \n",
      " |  from_inp_line(*line_args) from abc.ABCMeta\n",
      " |      Convert line in the ``.inp``-file to the object.\n",
      " |      \n",
      " |      Needed if multiple subclasses of an object are available (i.e. Infiltration).\n",
      " |      \n",
      " |      Args:\n",
      " |          *line_args (list[str]): arguments in the line\n",
      " |      \n",
      " |      Returns:\n",
      " |          BaseSectionObject: object of the ``.inp``-file section\n",
      " |  \n",
      " |  from_inp_lines(lines) from abc.ABCMeta\n",
      " |      Create a new section for the ``.inp``-file of this object and adds objects described in `lines`\n",
      " |      \n",
      " |      Args:\n",
      " |          lines (list[list]): lines of values for multiple objects in this section\n",
      " |      \n",
      " |      Returns:\n",
      " |          InpSection: new section of this object type\n",
      " |  \n",
      " |  ----------------------------------------------------------------------\n",
      " |  Readonly properties inherited from swmm_api.input_file.helpers.BaseSectionObject:\n",
      " |  \n",
      " |  attributes\n",
      " |      Get the attributes names for the object.\n",
      " |      \n",
      " |      Returns:\n",
      " |          tuple[str]: Attribute names for the object\n",
      " |  \n",
      " |  values\n",
      " |      Get the attributes values for the object.\n",
      " |      \n",
      " |      Returns:\n",
      " |          tuple[any]: Attribute values for the object\n",
      " |  \n",
      " |  values_used\n",
      " |      Get only the used attributes values for the object.\n",
      " |      \n",
      " |      Values which aren't used are set as `:obj:numpy.nan`\n",
      " |      \n",
      " |      Returns:\n",
      " |          tuple[any]: Attribute values used for the object\n",
      " |  \n",
      " |  ----------------------------------------------------------------------\n",
      " |  Data descriptors inherited from swmm_api.input_file.helpers.BaseSectionObject:\n",
      " |  \n",
      " |  __dict__\n",
      " |      dictionary for instance variables (if defined)\n",
      " |  \n",
      " |  __weakref__\n",
      " |      list of weak references to the object (if defined)\n",
      "\n"
     ]
    }
   ],
   "source": [
    "help(Control)"
   ],
   "metadata": {
    "collapsed": false,
    "pycharm": {
     "name": "#%%\n"
    }
   }
  },
  {
   "cell_type": "markdown",
   "source": [
    "Here are some example control rules from the SWMM user manual (commandline section)."
   ],
   "metadata": {
    "collapsed": false
   }
  },
  {
   "cell_type": "code",
   "execution_count": 30,
   "outputs": [],
   "source": [
    "example_rule = \"\"\"\n",
    "; Simple time-based pump control\n",
    "RULE R1\n",
    "IF SIMULATION TIME > 8\n",
    "THEN PUMP 12 STATUS = ON\n",
    "ELSE PUMP 12 STATUS = OFF\n",
    "\n",
    "; Multi-condition orifice gate control\n",
    "RULE R2A\n",
    "IF NODE 23 DEPTH > 12\n",
    "AND LINK 165 FLOW > 100\n",
    "THEN ORIFICE R55 SETTING = 0.5\n",
    "\n",
    "RULE R2B\n",
    "IF NODE 23 DEPTH > 12\n",
    "AND LINK 165 FLOW > 200\n",
    "THEN ORIFICE R55 SETTING = 1.0\n",
    "\n",
    "RULE R2C\n",
    "IF NODE 23 DEPTH <= 12\n",
    "OR LINK 165 FLOW <= 100\n",
    "THEN ORIFICE R55 SETTING = 0\n",
    "\n",
    "; PID controller that attempts to keep Node 23’s depth at 12:\n",
    "RULE PID_1\n",
    "IF NODE 23 DEPTH <> 12\n",
    "THEN ORIFICE R55 SETTING = PID 0.5 0.1 0.0\n",
    "\n",
    "; Pump station operation with a main (N1A) and lag (N1B) pump\n",
    "RULE R3A\n",
    "IF NODE N1 DEPTH > 5\n",
    "THEN PUMP N1A STATUS = ON\n",
    "\n",
    "RULE R3B\n",
    "IF PUMP N1A TIMEOPEN > 2:30\n",
    "THEN PUMP N1B STATUS = ON\n",
    "ELSE PUMP N1B STATUS = OFF\n",
    "\n",
    "RULE R3C\n",
    "IF NODE N1 DEPTH <= 0.5\n",
    "THEN PUMP N1A STATUS = OFF\n",
    "AND PUMP N1B STATUS = OFF\n",
    "\"\"\""
   ],
   "metadata": {
    "collapsed": false,
    "pycharm": {
     "name": "#%%\n"
    }
   }
  },
  {
   "cell_type": "markdown",
   "source": [
    "We can create a control section by multiline strings like defined here as `example_rule`."
   ],
   "metadata": {
    "collapsed": false
   }
  },
  {
   "cell_type": "code",
   "execution_count": 31,
   "outputs": [],
   "source": [
    "control_section = Control.create_section(example_rule)"
   ],
   "metadata": {
    "collapsed": false,
    "pycharm": {
     "name": "#%%\n"
    }
   }
  },
  {
   "cell_type": "markdown",
   "source": [
    "We can print the `.inp`-file representation of any objet in the inp-data."
   ],
   "metadata": {
    "collapsed": false
   }
  },
  {
   "cell_type": "code",
   "execution_count": 32,
   "outputs": [
    {
     "name": "stdout",
     "output_type": "stream",
     "text": [
      "RULE R1\n",
      "IF SIMULATION TIME > 8\n",
      "THEN PUMP 12 STATUS = ON\n",
      "ELSE PUMP 12 STATUS = OFF\n",
      "PRIORITY 0\n",
      "\n"
     ]
    }
   ],
   "source": [
    "print(control_section['R1'].to_inp_line())"
   ],
   "metadata": {
    "collapsed": false,
    "pycharm": {
     "name": "#%%\n"
    }
   }
  },
  {
   "cell_type": "markdown",
   "source": [
    "If we print the object itself, we see the underlying structure of the object."
   ],
   "metadata": {
    "collapsed": false
   }
  },
  {
   "cell_type": "code",
   "execution_count": 33,
   "outputs": [
    {
     "data": {
      "text/plain": "Control(name='R1', conditions=[_Condition(logic='IF', kind='SIMULATION', label=nan, attribute='TIME', relation='>', value='8')], actions=[_Action(logic='THEN', kind='PUMP', label='12', action='STATUS', relation='=', value='ON'), _Action(logic='ELSE', kind='PUMP', label='12', action='STATUS', relation='=', value='OFF')], priority=0)"
     },
     "execution_count": 33,
     "metadata": {},
     "output_type": "execute_result"
    }
   ],
   "source": [
    "control_section['R1']"
   ],
   "metadata": {
    "collapsed": false,
    "pycharm": {
     "name": "#%%\n"
    }
   }
  },
  {
   "cell_type": "markdown",
   "source": [
    "Now we recreate the object printed above.\n",
    "\n",
    "Here are three ways to input the parameters. All these ways result in the same object.\n",
    "\n",
    "First we use helper-classes like `Control.LOGIC` to get autocompletion features in IDEs and we pass every parameter as positional argument."
   ],
   "metadata": {
    "collapsed": false
   }
  },
  {
   "cell_type": "code",
   "execution_count": 34,
   "outputs": [
    {
     "data": {
      "text/plain": "Control(name='R99', conditions=[_Condition(logic='IF', kind='SIMULATION', label=nan, attribute='TIME', relation='>', value='8')], actions=[_Action(logic='THEN', kind='PUMP', label='12', action='STATUS', relation='=', value='ON'), _Action(logic='THEN', kind='PUMP', label='12', action='STATUS', relation='=', value='OFF')], priority=0)"
     },
     "execution_count": 34,
     "metadata": {},
     "output_type": "execute_result"
    }
   ],
   "source": [
    "Control(name='R99',\n",
    "        conditions=[Control._Condition(Control.LOGIC.IF, Control.OBJECTS.SIMULATION, Control.ATTRIBUTES.TIME, '>', 8)],\n",
    "        actions=[Control._Action(Control.LOGIC.THEN, Control.OBJECTS.PUMP, '12', Control.ATTRIBUTES.STATUS, '=', 'ON'),\n",
    "                 Control._Action(Control.LOGIC.THEN, Control.OBJECTS.PUMP, '12', Control.ATTRIBUTES.STATUS, '=',\n",
    "                                 'OFF')],\n",
    "        priority=0)"
   ],
   "metadata": {
    "collapsed": false,
    "pycharm": {
     "name": "#%%\n"
    }
   }
  },
  {
   "cell_type": "markdown",
   "source": [
    "Next we use helper-classes (like `Control.LOGIC`, `Control.ATTRIBUTES` or `Control.OBJECTS`) to get autocompletion features in IDEs and we pass every parameter as named argument (or keyword argument)."
   ],
   "metadata": {
    "collapsed": false
   }
  },
  {
   "cell_type": "code",
   "execution_count": 35,
   "outputs": [
    {
     "data": {
      "text/plain": "Control(name='R99', conditions=[_Condition(logic='IF', kind='SIMULATION', label=nan, attribute='TIME', relation='>', value=8)], actions=[_Action(logic='THEN', kind='PUMP', label='12', action='STATUS', relation='=', value='ON'), _Action(logic='THEN', kind='PUMP', label='12', action='STATUS', relation='=', value='OFF')], priority=0)"
     },
     "execution_count": 35,
     "metadata": {},
     "output_type": "execute_result"
    }
   ],
   "source": [
    "Control(name='R99',\n",
    "        conditions=[Control._Condition(logic=Control.LOGIC.IF, kind=Control.OBJECTS.SIMULATION,\n",
    "                                      attribute=Control.ATTRIBUTES.TIME, relation='>', value=8)],\n",
    "        actions=[Control._Action(logic=Control.LOGIC.THEN, kind=Control.OBJECTS.PUMP, label='12',\n",
    "                                 action=Control.ATTRIBUTES.STATUS, relation='=', value='ON'),\n",
    "                 Control._Action(logic=Control.LOGIC.THEN, kind=Control.OBJECTS.PUMP, label='12',\n",
    "                                 action=Control.ATTRIBUTES.STATUS, relation='=', value='OFF')],\n",
    "        priority=0)"
   ],
   "metadata": {
    "collapsed": false,
    "pycharm": {
     "name": "#%%\n"
    }
   }
  },
  {
   "cell_type": "markdown",
   "source": [
    "Last we use simply strings and floats and we pass every parameter as positional argument. This can also be done with named arguments."
   ],
   "metadata": {
    "collapsed": false
   }
  },
  {
   "cell_type": "code",
   "execution_count": 36,
   "outputs": [
    {
     "data": {
      "text/plain": "Control(name='R99', conditions=[_Condition(logic='IF', kind='SIMULATION', label=nan, attribute='TIME', relation='>', value='8')], actions=[_Action(logic='THEN', kind='PUMP', label='12', action='STATUS', relation='=', value='ON'), _Action(logic='THEN', kind='PUMP', label='12', action='STATUS', relation='=', value='OFF')], priority=0)"
     },
     "execution_count": 36,
     "metadata": {},
     "output_type": "execute_result"
    }
   ],
   "source": [
    "control_object = Control(name='R99',\n",
    "                         conditions=[Control._Condition('IF', 'SIMULATION', 'TIME', '>', 8)],\n",
    "                         actions=[Control._Action('THEN', 'PUMP', '12', 'STATUS', '=', 'ON'),\n",
    "                                  Control._Action('THEN', 'PUMP', '12', 'STATUS', '=', 'OFF')],\n",
    "                         priority=0)\n",
    "control_object"
   ],
   "metadata": {
    "collapsed": false,
    "pycharm": {
     "name": "#%%\n"
    }
   }
  },
  {
   "cell_type": "markdown",
   "source": [
    "You could also reuse Conditions and Actions."
   ],
   "metadata": {
    "collapsed": false
   }
  },
  {
   "cell_type": "markdown",
   "source": [
    "To change parameters you can edit the parameters of the object.\n",
    "\n",
    "For example here we change for the first (and only) condition of the rule the start time from 8 to 7."
   ],
   "metadata": {
    "collapsed": false
   }
  },
  {
   "cell_type": "code",
   "execution_count": 37,
   "outputs": [],
   "source": [
    "control_object.conditions[0].value = 7"
   ],
   "metadata": {
    "collapsed": false,
    "pycharm": {
     "name": "#%%\n"
    }
   }
  },
  {
   "cell_type": "markdown",
   "source": [
    "And finally adding a control object to the inp-data"
   ],
   "metadata": {
    "collapsed": false
   }
  },
  {
   "cell_type": "code",
   "execution_count": 38,
   "outputs": [
    {
     "data": {
      "text/plain": "{   'CONTROLS': {   'R99': Control(name='R99', conditions=[_Condition(logic='IF', kind='SIMULATION', label=nan, attribute='TIME', relation='>', value=7)], actions=[_Action(logic='THEN', kind='PUMP', label='12', action='STATUS', relation='=', value='ON'), _Action(logic='THEN', kind='PUMP', label='12', action='STATUS', relation='=', value='OFF')], priority=0)}}"
     },
     "execution_count": 38,
     "metadata": {},
     "output_type": "execute_result"
    }
   ],
   "source": [
    "inp = SwmmInput()\n",
    "inp.add_obj(control_object)\n",
    "inp"
   ],
   "metadata": {
    "collapsed": false,
    "pycharm": {
     "name": "#%%\n"
    }
   }
  },
  {
   "cell_type": "code",
   "execution_count": 39,
   "outputs": [
    {
     "name": "stdout",
     "output_type": "stream",
     "text": [
      "\n",
      "\n",
      ";;____________________________________________________________________________________________________\n",
      "[CONTROLS]\n",
      "RULE R99\n",
      "IF SIMULATION TIME > 7\n",
      "THEN PUMP 12 STATUS = ON\n",
      "THEN PUMP 12 STATUS = OFF\n",
      "PRIORITY 0\n",
      "\n",
      "\n"
     ]
    }
   ],
   "source": [
    "print(inp.to_string())"
   ],
   "metadata": {
    "collapsed": false,
    "pycharm": {
     "name": "#%%\n"
    }
   }
  }
 ],
 "metadata": {
  "kernelspec": {
   "display_name": "Python 3",
   "language": "python",
   "name": "python3"
  },
  "language_info": {
   "codemirror_mode": {
    "name": "ipython",
    "version": 2
   },
   "file_extension": ".py",
   "mimetype": "text/x-python",
   "name": "python",
   "nbconvert_exporter": "python",
   "pygments_lexer": "ipython2",
   "version": "2.7.6"
  }
 },
 "nbformat": 4,
 "nbformat_minor": 0
}