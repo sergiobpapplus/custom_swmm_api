{
 "cells": [
  {
   "cell_type": "markdown",
   "source": [
    "# How to add control rules"
   ],
   "metadata": {
    "collapsed": false
   }
  },
  {
   "cell_type": "code",
   "execution_count": 1,
   "outputs": [],
   "source": [
    "from swmm_api.input_file.sections import Control\n",
    "from swmm_api import SwmmInput"
   ],
   "metadata": {
    "collapsed": false,
    "ExecuteTime": {
     "start_time": "2023-04-17T08:24:01.865548Z",
     "end_time": "2023-04-17T08:24:02.164037Z"
    }
   }
  },
  {
   "cell_type": "code",
   "execution_count": 2,
   "metadata": {
    "collapsed": true,
    "ExecuteTime": {
     "start_time": "2023-04-17T08:24:02.165157Z",
     "end_time": "2023-04-17T08:24:02.183514Z"
    }
   },
   "outputs": [],
   "source": [
    "%load_ext autoreload\n",
    "%autoreload 2"
   ]
  },
  {
   "cell_type": "markdown",
   "source": [
    "See the help for possible inputs:\n",
    "\n",
    "`help(Control)`"
   ],
   "metadata": {
    "collapsed": false
   }
  },
  {
   "cell_type": "markdown",
   "source": [
    "Here are some example control rules from the SWMM user manual (commandline section)."
   ],
   "metadata": {
    "collapsed": false
   }
  },
  {
   "cell_type": "code",
   "execution_count": 3,
   "outputs": [],
   "source": [
    "example_rule = \"\"\"\n",
    "; Simple time-based pump control\n",
    "RULE R1\n",
    "IF SIMULATION TIME > 8\n",
    "THEN PUMP 12 STATUS = ON\n",
    "ELSE PUMP 12 STATUS = OFF\n",
    "\n",
    "; Multi-condition orifice gate control\n",
    "RULE R2A\n",
    "IF NODE 23 DEPTH > 12\n",
    "AND LINK 165 FLOW > 100\n",
    "THEN ORIFICE R55 SETTING = 0.5\n",
    "\n",
    "RULE R2B\n",
    "IF NODE 23 DEPTH > 12\n",
    "AND LINK 165 FLOW > 200\n",
    "THEN ORIFICE R55 SETTING = 1.0\n",
    "\n",
    "RULE R2C\n",
    "IF NODE 23 DEPTH <= 12\n",
    "OR LINK 165 FLOW <= 100\n",
    "THEN ORIFICE R55 SETTING = 0\n",
    "\n",
    "; PID controller that attempts to keep Node 23’s depth at 12:\n",
    "RULE PID_1\n",
    "IF NODE 23 DEPTH <> 12\n",
    "THEN ORIFICE R55 SETTING = PID 0.5 0.1 0.0\n",
    "\n",
    "; Pump station operation with a main (N1A) and lag (N1B) pump\n",
    "RULE R3A\n",
    "IF NODE N1 DEPTH > 5\n",
    "THEN PUMP N1A STATUS = ON\n",
    "\n",
    "RULE R3B\n",
    "IF PUMP N1A TIMEOPEN > 2:30\n",
    "THEN PUMP N1B STATUS = ON\n",
    "ELSE PUMP N1B STATUS = OFF\n",
    "\n",
    "RULE R3C\n",
    "IF NODE N1 DEPTH <= 0.5\n",
    "THEN PUMP N1A STATUS = OFF\n",
    "AND PUMP N1B STATUS = OFF\n",
    "\"\"\""
   ],
   "metadata": {
    "collapsed": false,
    "ExecuteTime": {
     "start_time": "2023-04-17T08:24:02.183988Z",
     "end_time": "2023-04-17T08:24:02.199046Z"
    }
   }
  },
  {
   "cell_type": "markdown",
   "source": [
    "We can create a control section by multiline strings like defined here as `example_rule`."
   ],
   "metadata": {
    "collapsed": false
   }
  },
  {
   "cell_type": "code",
   "execution_count": 4,
   "outputs": [],
   "source": [
    "control_section = Control.create_section(example_rule)"
   ],
   "metadata": {
    "collapsed": false,
    "ExecuteTime": {
     "start_time": "2023-04-17T08:24:02.199138Z",
     "end_time": "2023-04-17T08:24:02.215757Z"
    }
   }
  },
  {
   "cell_type": "markdown",
   "source": [
    "We can print the `.inp`-file representation of any objet in the inp-data."
   ],
   "metadata": {
    "collapsed": false
   }
  },
  {
   "cell_type": "code",
   "execution_count": 5,
   "outputs": [
    {
     "name": "stdout",
     "output_type": "stream",
     "text": [
      "RULE R1\n",
      "IF SIMULATION TIME > 8\n",
      "THEN PUMP 12 STATUS = ON\n",
      "ELSE PUMP 12 STATUS = OFF\n",
      "PRIORITY 0\n",
      "\n"
     ]
    }
   ],
   "source": [
    "print(control_section['R1'].to_inp_line())"
   ],
   "metadata": {
    "collapsed": false,
    "ExecuteTime": {
     "start_time": "2023-04-17T08:24:02.217358Z",
     "end_time": "2023-04-17T08:24:02.232944Z"
    }
   }
  },
  {
   "cell_type": "markdown",
   "source": [
    "If we print the object itself, we see the underlying structure of the object."
   ],
   "metadata": {
    "collapsed": false
   }
  },
  {
   "cell_type": "code",
   "execution_count": 6,
   "outputs": [
    {
     "data": {
      "text/plain": "Control(name='R1', conditions=[_Condition(logic='IF', kind='SIMULATION', label=nan, attribute='TIME', relation='>', value='8')], actions_if=[_Action(kind='PUMP', label='12', action='STATUS', relation='=', value='ON')], actions_else=[_Action(kind='PUMP', label='12', action='STATUS', relation='=', value='OFF')], priority=0)"
     },
     "execution_count": 6,
     "metadata": {},
     "output_type": "execute_result"
    }
   ],
   "source": [
    "control_section['R1']"
   ],
   "metadata": {
    "collapsed": false,
    "ExecuteTime": {
     "start_time": "2023-04-17T08:24:02.233594Z",
     "end_time": "2023-04-17T08:24:02.249339Z"
    }
   }
  },
  {
   "cell_type": "markdown",
   "source": [
    "Now we recreate the object printed above.\n",
    "\n",
    "Here are three ways to input the parameters. All these ways result in the same object.\n",
    "\n",
    "First we use helper-classes like `Control.LOGIC` to get autocompletion features in IDEs and we pass every parameter as positional argument."
   ],
   "metadata": {
    "collapsed": false
   }
  },
  {
   "cell_type": "code",
   "execution_count": 7,
   "outputs": [
    {
     "data": {
      "text/plain": "Control(name='R99', conditions=[_Condition(logic='IF', kind='SIMULATION', label=nan, attribute='TIME', relation='>', value='8')], actions_if=[_Action(kind='PUMP', label='12', action='STATUS', relation='=', value='ON')], actions_else=[_Action(kind='PUMP', label='12', action='STATUS', relation='=', value='OFF')], priority=0)"
     },
     "execution_count": 7,
     "metadata": {},
     "output_type": "execute_result"
    }
   ],
   "source": [
    "Control(name='R99',\n",
    "        conditions=[Control._Condition(Control.LOGIC.IF, Control.OBJECTS.SIMULATION, Control.ATTRIBUTES.TIME, '>', 8)],\n",
    "        actions_if=[Control._Action(Control.OBJECTS.PUMP, '12', Control.ATTRIBUTES.STATUS, '=', 'ON')],\n",
    "        actions_else=[Control._Action(Control.OBJECTS.PUMP, '12', Control.ATTRIBUTES.STATUS, '=', 'OFF')],\n",
    "        priority=0)"
   ],
   "metadata": {
    "collapsed": false,
    "ExecuteTime": {
     "start_time": "2023-04-17T08:24:02.250315Z",
     "end_time": "2023-04-17T08:24:02.285513Z"
    }
   }
  },
  {
   "cell_type": "markdown",
   "source": [
    "Next we use helper-classes (like `Control.LOGIC`, `Control.ATTRIBUTES` or `Control.OBJECTS`) to get autocompletion features in IDEs and we pass every parameter as named argument (or keyword argument)."
   ],
   "metadata": {
    "collapsed": false
   }
  },
  {
   "cell_type": "code",
   "execution_count": 8,
   "outputs": [
    {
     "data": {
      "text/plain": "Control(name='R99', conditions=[_Condition(logic='IF', kind='SIMULATION', label=nan, attribute='TIME', relation='>', value=8)], actions_if=[_Action(kind='PUMP', label='12', action='STATUS', relation='=', value='ON')], actions_else=[_Action(kind='PUMP', label='12', action='STATUS', relation='=', value='OFF')], priority=0)"
     },
     "execution_count": 8,
     "metadata": {},
     "output_type": "execute_result"
    }
   ],
   "source": [
    "Control(name='R99',\n",
    "        conditions=[Control._Condition(logic=Control.LOGIC.IF, kind=Control.OBJECTS.SIMULATION, attribute=Control.ATTRIBUTES.TIME, relation='>', value=8)],\n",
    "        actions_if=[Control._Action(kind=Control.OBJECTS.PUMP, label='12', action=Control.ATTRIBUTES.STATUS, relation='=', value='ON')],\n",
    "        actions_else=[Control._Action(kind=Control.OBJECTS.PUMP, label='12', action=Control.ATTRIBUTES.STATUS, relation='=', value='OFF')],\n",
    "        priority=0)"
   ],
   "metadata": {
    "collapsed": false,
    "ExecuteTime": {
     "start_time": "2023-04-17T08:24:02.267156Z",
     "end_time": "2023-04-17T08:24:02.285890Z"
    }
   }
  },
  {
   "cell_type": "markdown",
   "source": [
    "Last we use simply strings and floats and we pass every parameter as positional argument. This can also be done with named arguments."
   ],
   "metadata": {
    "collapsed": false
   }
  },
  {
   "cell_type": "code",
   "execution_count": 9,
   "outputs": [
    {
     "data": {
      "text/plain": "Control(name='R99', conditions=[_Condition(logic='IF', kind='SIMULATION', label=nan, attribute='TIME', relation='>', value='8')], actions_if=[_Action(kind='PUMP', label='12', action='STATUS', relation='=', value='ON')], actions_else=[_Action(kind='PUMP', label='12', action='STATUS', relation='=', value='OFF')], priority=0)"
     },
     "execution_count": 9,
     "metadata": {},
     "output_type": "execute_result"
    }
   ],
   "source": [
    "control_object = Control(name='R99',\n",
    "                         conditions=[Control._Condition('IF', 'SIMULATION', 'TIME', '>', 8)],\n",
    "                         actions_if=[Control._Action('PUMP', '12', 'STATUS', '=', 'ON')],\n",
    "                         actions_else=[Control._Action('PUMP', '12', 'STATUS', '=', 'OFF')],\n",
    "                         priority=0)\n",
    "control_object"
   ],
   "metadata": {
    "collapsed": false,
    "ExecuteTime": {
     "start_time": "2023-04-17T08:24:02.283904Z",
     "end_time": "2023-04-17T08:24:02.299881Z"
    }
   }
  },
  {
   "cell_type": "markdown",
   "source": [
    "You could also reuse Conditions and Actions."
   ],
   "metadata": {
    "collapsed": false
   }
  },
  {
   "cell_type": "markdown",
   "source": [
    "To change parameters you can edit the parameters of the object.\n",
    "\n",
    "For example here we change for the first (and only) condition of the rule the start time from 8 to 7."
   ],
   "metadata": {
    "collapsed": false
   }
  },
  {
   "cell_type": "code",
   "execution_count": 10,
   "outputs": [],
   "source": [
    "control_object.conditions[0].value = 7"
   ],
   "metadata": {
    "collapsed": false,
    "ExecuteTime": {
     "start_time": "2023-04-17T08:24:02.300832Z",
     "end_time": "2023-04-17T08:24:02.337263Z"
    }
   }
  },
  {
   "cell_type": "markdown",
   "source": [
    "And finally adding a control object to the inp-data"
   ],
   "metadata": {
    "collapsed": false
   }
  },
  {
   "cell_type": "code",
   "execution_count": 11,
   "outputs": [
    {
     "data": {
      "text/plain": "{   'CONTROLS': {   'R99': Control(name='R99', conditions=[_Condition(logic='IF', kind='SIMULATION', label=nan, attribute='TIME', relation='>', value=7)], actions_if=[_Action(kind='PUMP', label='12', action='STATUS', relation='=', value='ON')], actions_else=[_Action(kind='PUMP', label='12', action='STATUS', relation='=', value='OFF')], priority=0)}}"
     },
     "execution_count": 11,
     "metadata": {},
     "output_type": "execute_result"
    }
   ],
   "source": [
    "inp = SwmmInput()\n",
    "inp.add_obj(control_object)\n",
    "inp"
   ],
   "metadata": {
    "collapsed": false,
    "ExecuteTime": {
     "start_time": "2023-04-17T08:24:02.316312Z",
     "end_time": "2023-04-17T08:24:02.341497Z"
    }
   }
  },
  {
   "cell_type": "code",
   "execution_count": 12,
   "outputs": [
    {
     "name": "stdout",
     "output_type": "stream",
     "text": [
      "\n",
      "\n",
      ";;____________________________________________________________________________________________________\n",
      "[CONTROLS]\n",
      "RULE R99\n",
      "IF SIMULATION TIME > 7\n",
      "THEN PUMP 12 STATUS = ON\n",
      "ELSE PUMP 12 STATUS = OFF\n",
      "PRIORITY 0\n",
      "\n",
      "\n"
     ]
    }
   ],
   "source": [
    "print(inp.to_string())"
   ],
   "metadata": {
    "collapsed": false,
    "ExecuteTime": {
     "start_time": "2023-04-17T08:24:02.333071Z",
     "end_time": "2023-04-17T08:24:02.348486Z"
    }
   }
  }
 ],
 "metadata": {
  "kernelspec": {
   "display_name": "Python 3",
   "language": "python",
   "name": "python3"
  },
  "language_info": {
   "codemirror_mode": {
    "name": "ipython",
    "version": 2
   },
   "file_extension": ".py",
   "mimetype": "text/x-python",
   "name": "python",
   "nbconvert_exporter": "python",
   "pygments_lexer": "ipython2",
   "version": "2.7.6"
  }
 },
 "nbformat": 4,
 "nbformat_minor": 0
}
