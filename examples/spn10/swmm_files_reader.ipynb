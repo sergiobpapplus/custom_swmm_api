{
 "cells": [
  {
   "cell_type": "markdown",
   "metadata": {
    "pycharm": {
     "name": "#%% md\n"
    }
   },
   "source": [
    "## Example for Hotstart-File Reader"
   ]
  },
  {
   "cell_type": "code",
   "execution_count": 1,
   "metadata": {
    "collapsed": true,
    "pycharm": {
     "name": "#%%\n"
    }
   },
   "outputs": [],
   "source": [
    "from swmm_api.hotstart import SwmmHotstart\n",
    "from swmm_api import SwmmInput, SwmmOutput, SwmmReport"
   ]
  },
  {
   "cell_type": "code",
   "execution_count": 28,
   "outputs": [],
   "source": [
    "%load_ext autoreload\n",
    "%autoreload 2"
   ],
   "metadata": {
    "collapsed": false,
    "pycharm": {
     "name": "#%%\n"
    }
   }
  },
  {
   "cell_type": "code",
   "execution_count": 2,
   "metadata": {
    "pycharm": {
     "name": "#%%\n"
    }
   },
   "outputs": [],
   "source": [
    "def pprint(o):\n",
    "    from pprint import pprint as pprint_\n",
    "    pprint_(dict(o), indent=4)"
   ]
  },
  {
   "cell_type": "code",
   "execution_count": 3,
   "metadata": {
    "pycharm": {
     "name": "#%%\n"
    }
   },
   "outputs": [],
   "source": [
    "inp = SwmmInput('Example6-Final.inp')"
   ]
  },
  {
   "cell_type": "code",
   "execution_count": 4,
   "metadata": {
    "pycharm": {
     "name": "#%%\n"
    }
   },
   "outputs": [
    {
     "name": "stdout",
     "output_type": "stream",
     "text": [
      "{   'ALLOW_PONDING': False,\n",
      "    'DRY_DAYS': 5,\n",
      "    'DRY_STEP': datetime.time(1, 0),\n",
      "    'END_DATE': datetime.date(2007, 1, 3),\n",
      "    'END_TIME': datetime.time(0, 0),\n",
      "    'FLOW_ROUTING': 'DYNWAVE',\n",
      "    'FLOW_UNITS': 'CFS',\n",
      "    'FORCE_MAIN_EQUATION': 'H-W',\n",
      "    'HEAD_TOLERANCE': 0.005,\n",
      "    'INERTIAL_DAMPING': 'PARTIAL',\n",
      "    'INFILTRATION': 'HORTON',\n",
      "    'LAT_FLOW_TOL': 5,\n",
      "    'LENGTHENING_STEP': 0,\n",
      "    'LINK_OFFSETS': 'DEPTH',\n",
      "    'MAX_TRIALS': 8,\n",
      "    'MINIMUM_STEP': 0.5,\n",
      "    'MIN_SLOPE': 0,\n",
      "    'MIN_SURFAREA': 12.566,\n",
      "    'NORMAL_FLOW_LIMITED': 'SLOPE',\n",
      "    'REPORT_START_DATE': datetime.date(2007, 1, 1),\n",
      "    'REPORT_START_TIME': datetime.time(0, 0),\n",
      "    'REPORT_STEP': datetime.time(0, 1),\n",
      "    'ROUTING_STEP': '0:00:15',\n",
      "    'RULE_STEP': datetime.time(0, 0),\n",
      "    'SKIP_STEADY_STATE': False,\n",
      "    'START_DATE': datetime.date(2007, 1, 1),\n",
      "    'START_TIME': datetime.time(0, 0),\n",
      "    'SWEEP_END': '12/31',\n",
      "    'SWEEP_START': '01/01',\n",
      "    'SYS_FLOW_TOL': 5,\n",
      "    'THREADS': 1,\n",
      "    'VARIABLE_STEP': 0.75,\n",
      "    'WET_STEP': datetime.time(0, 1)}\n"
     ]
    }
   ],
   "source": [
    "pprint(inp.OPTIONS)"
   ]
  },
  {
   "cell_type": "code",
   "execution_count": 5,
   "metadata": {
    "pycharm": {
     "name": "#%%\n"
    }
   },
   "outputs": [],
   "source": [
    "inp.OPTIONS['SKIP_STEADY_STATE'] = True"
   ]
  },
  {
   "cell_type": "code",
   "execution_count": 6,
   "metadata": {
    "pycharm": {
     "name": "#%%\n"
    }
   },
   "outputs": [
    {
     "name": "stdout",
     "output_type": "stream",
     "text": [
      "FLOW_UNITS           CFS\n",
      "INFILTRATION         HORTON\n",
      "FLOW_ROUTING         DYNWAVE\n",
      "LINK_OFFSETS         DEPTH\n",
      "MIN_SLOPE            0\n",
      "ALLOW_PONDING        NO\n",
      "SKIP_STEADY_STATE    YES\n",
      "START_DATE           01/01/2007\n",
      "START_TIME           00:00:00\n",
      "REPORT_START_DATE    01/01/2007\n",
      "REPORT_START_TIME    00:00:00\n",
      "END_DATE             01/03/2007\n",
      "END_TIME             00:00:00\n",
      "SWEEP_START          01/01\n",
      "SWEEP_END            12/31\n",
      "DRY_DAYS             5\n",
      "REPORT_STEP          00:01:00\n",
      "WET_STEP             00:01:00\n",
      "DRY_STEP             01:00:00\n",
      "ROUTING_STEP         0:00:15\n",
      "RULE_STEP            00:00:00\n",
      "INERTIAL_DAMPING     PARTIAL\n",
      "NORMAL_FLOW_LIMITED  SLOPE\n",
      "FORCE_MAIN_EQUATION  H-W\n",
      "VARIABLE_STEP        0.75\n",
      "LENGTHENING_STEP     0\n",
      "MIN_SURFAREA         12.566\n",
      "MAX_TRIALS           8\n",
      "HEAD_TOLERANCE       0.005\n",
      "SYS_FLOW_TOL         5\n",
      "LAT_FLOW_TOL         5\n",
      "MINIMUM_STEP         0.5\n",
      "THREADS              1\n"
     ]
    }
   ],
   "source": [
    "print(inp.OPTIONS.to_inp_lines())"
   ]
  },
  {
   "cell_type": "code",
   "execution_count": 7,
   "metadata": {
    "pycharm": {
     "name": "#%%\n"
    }
   },
   "outputs": [
    {
     "name": "stdout",
     "output_type": "stream",
     "text": [
      "{   'J1': Junction(name='J1', elevation=4973.0, depth_max=0.0, depth_init=0.0, depth_surcharge=0.0, area_ponded=0.0),\n",
      "    'J10': Junction(name='J10', elevation=4963.8, depth_max=0.0, depth_init=0.0, depth_surcharge=0.0, area_ponded=0.0),\n",
      "    'J11': Junction(name='J11', elevation=4963.0, depth_max=0.0, depth_init=0.0, depth_surcharge=0.0, area_ponded=0.0),\n",
      "    'J12': Junction(name='J12', elevation=4973.8, depth_max=0.0, depth_init=0.0, depth_surcharge=0.0, area_ponded=0.0),\n",
      "    'J13': Junction(name='J13', elevation=4970.7, depth_max=0.0, depth_init=0.0, depth_surcharge=0.0, area_ponded=0.0),\n",
      "    'J14': Junction(name='J14', elevation=4972.9, depth_max=0.0, depth_init=0.0, depth_surcharge=0.0, area_ponded=0.0),\n",
      "    'J15': Junction(name='J15', elevation=4974.5, depth_max=0.0, depth_init=0.0, depth_surcharge=0.0, area_ponded=0.0),\n",
      "    'J16': Junction(name='J16', elevation=4973.5, depth_max=0.0, depth_init=0.0, depth_surcharge=0.0, area_ponded=0.0),\n",
      "    'J17': Junction(name='J17', elevation=4973.5, depth_max=0.0, depth_init=0.0, depth_surcharge=0.0, area_ponded=0.0),\n",
      "    'J2': Junction(name='J2', elevation=4969.0, depth_max=0.0, depth_init=0.0, depth_surcharge=0.0, area_ponded=0.0),\n",
      "    'J3': Junction(name='J3', elevation=4973.0, depth_max=0.0, depth_init=0.0, depth_surcharge=0.0, area_ponded=0.0),\n",
      "    'J4': Junction(name='J4', elevation=4971.0, depth_max=0.0, depth_init=0.0, depth_surcharge=0.0, area_ponded=0.0),\n",
      "    'J5': Junction(name='J5', elevation=4969.8, depth_max=0.0, depth_init=0.0, depth_surcharge=0.0, area_ponded=0.0),\n",
      "    'J6': Junction(name='J6', elevation=4969.0, depth_max=0.0, depth_init=0.0, depth_surcharge=0.0, area_ponded=0.0),\n",
      "    'J7': Junction(name='J7', elevation=4971.5, depth_max=0.0, depth_init=0.0, depth_surcharge=0.0, area_ponded=0.0),\n",
      "    'J8': Junction(name='J8', elevation=4966.5, depth_max=0.0, depth_init=0.0, depth_surcharge=0.0, area_ponded=0.0),\n",
      "    'J9': Junction(name='J9', elevation=4964.8, depth_max=0.0, depth_init=0.0, depth_surcharge=0.0, area_ponded=0.0),\n",
      "    'J_out': Junction(name='J_out', elevation=4954.0, depth_max=0.0, depth_init=0.0, depth_surcharge=0.0, area_ponded=0.0)}\n"
     ]
    }
   ],
   "source": [
    "pprint(inp.JUNCTIONS)"
   ]
  },
  {
   "cell_type": "code",
   "execution_count": 8,
   "metadata": {
    "pycharm": {
     "name": "#%%\n"
    }
   },
   "outputs": [],
   "source": [
    "inp.JUNCTIONS['J1'].elevation = 1212"
   ]
  },
  {
   "cell_type": "code",
   "execution_count": 9,
   "metadata": {
    "pycharm": {
     "name": "#%%\n"
    }
   },
   "outputs": [
    {
     "name": "stdout",
     "output_type": "stream",
     "text": [
      ";;     elevation depth_max depth_init depth_surcharge area_ponded\n",
      ";;name                                                           \n",
      "J1          1212         0          0               0           0\n",
      "J2          4969         0          0               0           0\n",
      "J3          4973         0          0               0           0\n",
      "J4          4971         0          0               0           0\n",
      "J5        4969.8         0          0               0           0\n",
      "J6          4969         0          0               0           0\n",
      "J7        4971.5         0          0               0           0\n",
      "J8        4966.5         0          0               0           0\n",
      "J9        4964.8         0          0               0           0\n",
      "J10       4963.8         0          0               0           0\n",
      "J11         4963         0          0               0           0\n",
      "J12       4973.8         0          0               0           0\n",
      "J13       4970.7         0          0               0           0\n",
      "J14       4972.9         0          0               0           0\n",
      "J15       4974.5         0          0               0           0\n",
      "J16       4973.5         0          0               0           0\n",
      "J17       4973.5         0          0               0           0\n",
      "J_out       4954         0          0               0           0\n"
     ]
    }
   ],
   "source": [
    "print(inp.JUNCTIONS.to_inp_lines())"
   ]
  },
  {
   "cell_type": "code",
   "execution_count": 10,
   "metadata": {
    "pycharm": {
     "name": "#%%\n"
    }
   },
   "outputs": [
    {
     "data": {
      "text/plain": "     name  elevation  depth_max  depth_init  depth_surcharge  area_ponded\n0      J1     1212.0        0.0         0.0              0.0          0.0\n1      J2     4969.0        0.0         0.0              0.0          0.0\n2      J3     4973.0        0.0         0.0              0.0          0.0\n3      J4     4971.0        0.0         0.0              0.0          0.0\n4      J5     4969.8        0.0         0.0              0.0          0.0\n5      J6     4969.0        0.0         0.0              0.0          0.0\n6      J7     4971.5        0.0         0.0              0.0          0.0\n7      J8     4966.5        0.0         0.0              0.0          0.0\n8      J9     4964.8        0.0         0.0              0.0          0.0\n9     J10     4963.8        0.0         0.0              0.0          0.0\n10    J11     4963.0        0.0         0.0              0.0          0.0\n11    J12     4973.8        0.0         0.0              0.0          0.0\n12    J13     4970.7        0.0         0.0              0.0          0.0\n13    J14     4972.9        0.0         0.0              0.0          0.0\n14    J15     4974.5        0.0         0.0              0.0          0.0\n15    J16     4973.5        0.0         0.0              0.0          0.0\n16    J17     4973.5        0.0         0.0              0.0          0.0\n17  J_out     4954.0        0.0         0.0              0.0          0.0",
      "text/html": "<div>\n<style scoped>\n    .dataframe tbody tr th:only-of-type {\n        vertical-align: middle;\n    }\n\n    .dataframe tbody tr th {\n        vertical-align: top;\n    }\n\n    .dataframe thead th {\n        text-align: right;\n    }\n</style>\n<table border=\"1\" class=\"dataframe\">\n  <thead>\n    <tr style=\"text-align: right;\">\n      <th></th>\n      <th>name</th>\n      <th>elevation</th>\n      <th>depth_max</th>\n      <th>depth_init</th>\n      <th>depth_surcharge</th>\n      <th>area_ponded</th>\n    </tr>\n  </thead>\n  <tbody>\n    <tr>\n      <th>0</th>\n      <td>J1</td>\n      <td>1212.0</td>\n      <td>0.0</td>\n      <td>0.0</td>\n      <td>0.0</td>\n      <td>0.0</td>\n    </tr>\n    <tr>\n      <th>1</th>\n      <td>J2</td>\n      <td>4969.0</td>\n      <td>0.0</td>\n      <td>0.0</td>\n      <td>0.0</td>\n      <td>0.0</td>\n    </tr>\n    <tr>\n      <th>2</th>\n      <td>J3</td>\n      <td>4973.0</td>\n      <td>0.0</td>\n      <td>0.0</td>\n      <td>0.0</td>\n      <td>0.0</td>\n    </tr>\n    <tr>\n      <th>3</th>\n      <td>J4</td>\n      <td>4971.0</td>\n      <td>0.0</td>\n      <td>0.0</td>\n      <td>0.0</td>\n      <td>0.0</td>\n    </tr>\n    <tr>\n      <th>4</th>\n      <td>J5</td>\n      <td>4969.8</td>\n      <td>0.0</td>\n      <td>0.0</td>\n      <td>0.0</td>\n      <td>0.0</td>\n    </tr>\n    <tr>\n      <th>5</th>\n      <td>J6</td>\n      <td>4969.0</td>\n      <td>0.0</td>\n      <td>0.0</td>\n      <td>0.0</td>\n      <td>0.0</td>\n    </tr>\n    <tr>\n      <th>6</th>\n      <td>J7</td>\n      <td>4971.5</td>\n      <td>0.0</td>\n      <td>0.0</td>\n      <td>0.0</td>\n      <td>0.0</td>\n    </tr>\n    <tr>\n      <th>7</th>\n      <td>J8</td>\n      <td>4966.5</td>\n      <td>0.0</td>\n      <td>0.0</td>\n      <td>0.0</td>\n      <td>0.0</td>\n    </tr>\n    <tr>\n      <th>8</th>\n      <td>J9</td>\n      <td>4964.8</td>\n      <td>0.0</td>\n      <td>0.0</td>\n      <td>0.0</td>\n      <td>0.0</td>\n    </tr>\n    <tr>\n      <th>9</th>\n      <td>J10</td>\n      <td>4963.8</td>\n      <td>0.0</td>\n      <td>0.0</td>\n      <td>0.0</td>\n      <td>0.0</td>\n    </tr>\n    <tr>\n      <th>10</th>\n      <td>J11</td>\n      <td>4963.0</td>\n      <td>0.0</td>\n      <td>0.0</td>\n      <td>0.0</td>\n      <td>0.0</td>\n    </tr>\n    <tr>\n      <th>11</th>\n      <td>J12</td>\n      <td>4973.8</td>\n      <td>0.0</td>\n      <td>0.0</td>\n      <td>0.0</td>\n      <td>0.0</td>\n    </tr>\n    <tr>\n      <th>12</th>\n      <td>J13</td>\n      <td>4970.7</td>\n      <td>0.0</td>\n      <td>0.0</td>\n      <td>0.0</td>\n      <td>0.0</td>\n    </tr>\n    <tr>\n      <th>13</th>\n      <td>J14</td>\n      <td>4972.9</td>\n      <td>0.0</td>\n      <td>0.0</td>\n      <td>0.0</td>\n      <td>0.0</td>\n    </tr>\n    <tr>\n      <th>14</th>\n      <td>J15</td>\n      <td>4974.5</td>\n      <td>0.0</td>\n      <td>0.0</td>\n      <td>0.0</td>\n      <td>0.0</td>\n    </tr>\n    <tr>\n      <th>15</th>\n      <td>J16</td>\n      <td>4973.5</td>\n      <td>0.0</td>\n      <td>0.0</td>\n      <td>0.0</td>\n      <td>0.0</td>\n    </tr>\n    <tr>\n      <th>16</th>\n      <td>J17</td>\n      <td>4973.5</td>\n      <td>0.0</td>\n      <td>0.0</td>\n      <td>0.0</td>\n      <td>0.0</td>\n    </tr>\n    <tr>\n      <th>17</th>\n      <td>J_out</td>\n      <td>4954.0</td>\n      <td>0.0</td>\n      <td>0.0</td>\n      <td>0.0</td>\n      <td>0.0</td>\n    </tr>\n  </tbody>\n</table>\n</div>"
     },
     "execution_count": 10,
     "metadata": {},
     "output_type": "execute_result"
    }
   ],
   "source": [
    "df = inp.JUNCTIONS.get_dataframe(set_index=False)\n",
    "df"
   ]
  },
  {
   "cell_type": "code",
   "execution_count": 11,
   "metadata": {
    "pycharm": {
     "name": "#%%\n"
    }
   },
   "outputs": [],
   "source": [
    "df.elevation -= 1000"
   ]
  },
  {
   "cell_type": "code",
   "execution_count": 12,
   "metadata": {
    "pycharm": {
     "name": "#%%\n"
    }
   },
   "outputs": [],
   "source": [
    "inp.JUNCTIONS.add_inp_lines(df.values)"
   ]
  },
  {
   "cell_type": "code",
   "execution_count": 13,
   "metadata": {
    "pycharm": {
     "name": "#%%\n"
    }
   },
   "outputs": [
    {
     "data": {
      "text/plain": "       elevation  depth_max  depth_init  depth_surcharge  area_ponded\nname                                                                 \nJ1         212.0        0.0         0.0              0.0          0.0\nJ2        3969.0        0.0         0.0              0.0          0.0\nJ3        3973.0        0.0         0.0              0.0          0.0\nJ4        3971.0        0.0         0.0              0.0          0.0\nJ5        3969.8        0.0         0.0              0.0          0.0\nJ6        3969.0        0.0         0.0              0.0          0.0\nJ7        3971.5        0.0         0.0              0.0          0.0\nJ8        3966.5        0.0         0.0              0.0          0.0\nJ9        3964.8        0.0         0.0              0.0          0.0\nJ10       3963.8        0.0         0.0              0.0          0.0\nJ11       3963.0        0.0         0.0              0.0          0.0\nJ12       3973.8        0.0         0.0              0.0          0.0\nJ13       3970.7        0.0         0.0              0.0          0.0\nJ14       3972.9        0.0         0.0              0.0          0.0\nJ15       3974.5        0.0         0.0              0.0          0.0\nJ16       3973.5        0.0         0.0              0.0          0.0\nJ17       3973.5        0.0         0.0              0.0          0.0\nJ_out     3954.0        0.0         0.0              0.0          0.0",
      "text/html": "<div>\n<style scoped>\n    .dataframe tbody tr th:only-of-type {\n        vertical-align: middle;\n    }\n\n    .dataframe tbody tr th {\n        vertical-align: top;\n    }\n\n    .dataframe thead th {\n        text-align: right;\n    }\n</style>\n<table border=\"1\" class=\"dataframe\">\n  <thead>\n    <tr style=\"text-align: right;\">\n      <th></th>\n      <th>elevation</th>\n      <th>depth_max</th>\n      <th>depth_init</th>\n      <th>depth_surcharge</th>\n      <th>area_ponded</th>\n    </tr>\n    <tr>\n      <th>name</th>\n      <th></th>\n      <th></th>\n      <th></th>\n      <th></th>\n      <th></th>\n    </tr>\n  </thead>\n  <tbody>\n    <tr>\n      <th>J1</th>\n      <td>212.0</td>\n      <td>0.0</td>\n      <td>0.0</td>\n      <td>0.0</td>\n      <td>0.0</td>\n    </tr>\n    <tr>\n      <th>J2</th>\n      <td>3969.0</td>\n      <td>0.0</td>\n      <td>0.0</td>\n      <td>0.0</td>\n      <td>0.0</td>\n    </tr>\n    <tr>\n      <th>J3</th>\n      <td>3973.0</td>\n      <td>0.0</td>\n      <td>0.0</td>\n      <td>0.0</td>\n      <td>0.0</td>\n    </tr>\n    <tr>\n      <th>J4</th>\n      <td>3971.0</td>\n      <td>0.0</td>\n      <td>0.0</td>\n      <td>0.0</td>\n      <td>0.0</td>\n    </tr>\n    <tr>\n      <th>J5</th>\n      <td>3969.8</td>\n      <td>0.0</td>\n      <td>0.0</td>\n      <td>0.0</td>\n      <td>0.0</td>\n    </tr>\n    <tr>\n      <th>J6</th>\n      <td>3969.0</td>\n      <td>0.0</td>\n      <td>0.0</td>\n      <td>0.0</td>\n      <td>0.0</td>\n    </tr>\n    <tr>\n      <th>J7</th>\n      <td>3971.5</td>\n      <td>0.0</td>\n      <td>0.0</td>\n      <td>0.0</td>\n      <td>0.0</td>\n    </tr>\n    <tr>\n      <th>J8</th>\n      <td>3966.5</td>\n      <td>0.0</td>\n      <td>0.0</td>\n      <td>0.0</td>\n      <td>0.0</td>\n    </tr>\n    <tr>\n      <th>J9</th>\n      <td>3964.8</td>\n      <td>0.0</td>\n      <td>0.0</td>\n      <td>0.0</td>\n      <td>0.0</td>\n    </tr>\n    <tr>\n      <th>J10</th>\n      <td>3963.8</td>\n      <td>0.0</td>\n      <td>0.0</td>\n      <td>0.0</td>\n      <td>0.0</td>\n    </tr>\n    <tr>\n      <th>J11</th>\n      <td>3963.0</td>\n      <td>0.0</td>\n      <td>0.0</td>\n      <td>0.0</td>\n      <td>0.0</td>\n    </tr>\n    <tr>\n      <th>J12</th>\n      <td>3973.8</td>\n      <td>0.0</td>\n      <td>0.0</td>\n      <td>0.0</td>\n      <td>0.0</td>\n    </tr>\n    <tr>\n      <th>J13</th>\n      <td>3970.7</td>\n      <td>0.0</td>\n      <td>0.0</td>\n      <td>0.0</td>\n      <td>0.0</td>\n    </tr>\n    <tr>\n      <th>J14</th>\n      <td>3972.9</td>\n      <td>0.0</td>\n      <td>0.0</td>\n      <td>0.0</td>\n      <td>0.0</td>\n    </tr>\n    <tr>\n      <th>J15</th>\n      <td>3974.5</td>\n      <td>0.0</td>\n      <td>0.0</td>\n      <td>0.0</td>\n      <td>0.0</td>\n    </tr>\n    <tr>\n      <th>J16</th>\n      <td>3973.5</td>\n      <td>0.0</td>\n      <td>0.0</td>\n      <td>0.0</td>\n      <td>0.0</td>\n    </tr>\n    <tr>\n      <th>J17</th>\n      <td>3973.5</td>\n      <td>0.0</td>\n      <td>0.0</td>\n      <td>0.0</td>\n      <td>0.0</td>\n    </tr>\n    <tr>\n      <th>J_out</th>\n      <td>3954.0</td>\n      <td>0.0</td>\n      <td>0.0</td>\n      <td>0.0</td>\n      <td>0.0</td>\n    </tr>\n  </tbody>\n</table>\n</div>"
     },
     "execution_count": 13,
     "metadata": {},
     "output_type": "execute_result"
    }
   ],
   "source": [
    "inp.JUNCTIONS.frame"
   ]
  },
  {
   "cell_type": "code",
   "execution_count": 14,
   "metadata": {
    "pycharm": {
     "name": "#%%\n"
    }
   },
   "outputs": [],
   "source": [
    "from swmm_api.input_file.section_labels import PUMPS\n",
    "from swmm_api.input_file.sections import Junction, Pump\n",
    "\n",
    "# add and remove objects and sections\n",
    "# add objects\n",
    "\n",
    "inp.add_obj(Junction('Add_J_1', elevation=1234))\n",
    "\n",
    "# remove object\n",
    "\n",
    "del inp.JUNCTIONS['Add_J_1']\n",
    "\n",
    "# add section\n",
    "\n",
    "inp[PUMPS] = Pump.create_section()\n",
    "inp.check_for_section(Pump)\n",
    "\n",
    "# remove section\n",
    "\n",
    "del inp[PUMPS]"
   ]
  },
  {
   "cell_type": "code",
   "execution_count": 15,
   "outputs": [],
   "source": [
    "inp = SwmmInput('Example6-Final.inp')"
   ],
   "metadata": {
    "collapsed": false,
    "pycharm": {
     "name": "#%%\n"
    }
   }
  },
  {
   "cell_type": "code",
   "execution_count": 16,
   "outputs": [
    {
     "data": {
      "text/plain": "<Figure size 432x288 with 1 Axes>",
      "image/png": "[encoded data removed]"
     },
     "metadata": {
      "needs_background": "light"
     },
     "output_type": "display_data"
    }
   ],
   "source": [
    "from swmm_api.input_file.macros import plot_map, add_node_labels\n",
    "\n",
    "_, ax = plot_map(inp)\n",
    "add_node_labels(ax, inp)"
   ],
   "metadata": {
    "collapsed": false,
    "pycharm": {
     "name": "#%%\n"
    }
   }
  },
  {
   "cell_type": "code",
   "execution_count": 17,
   "outputs": [
    {
     "data": {
      "text/plain": "<Figure size 432x288 with 1 Axes>",
      "image/png": "[encoded data removed]"
     },
     "metadata": {
      "needs_background": "light"
     },
     "output_type": "display_data"
    }
   ],
   "source": [
    "from swmm_api.input_file.macros import plot_longitudinal\n",
    "\n",
    "_ = plot_longitudinal(inp, start_node='J12', end_node='O2')"
   ],
   "metadata": {
    "collapsed": false,
    "pycharm": {
     "name": "#%%\n"
    }
   }
  },
  {
   "cell_type": "code",
   "execution_count": 18,
   "outputs": [
    {
     "data": {
      "text/plain": "<Figure size 432x288 with 1 Axes>",
      "image/png": "[encoded data removed]"
     },
     "metadata": {
      "needs_background": "light"
     },
     "output_type": "display_data"
    }
   ],
   "source": [
    "from swmm_api.input_file.macros import create_sub_inp, upstream_nodes, inp_to_graph\n",
    "\n",
    "graph = inp_to_graph(inp)\n",
    "upstream_nodes_list = upstream_nodes(graph, 'J6')\n",
    "inp_upstream = create_sub_inp(inp, upstream_nodes_list)\n",
    "_, ax = plot_map(inp_upstream)\n",
    "add_node_labels(ax, inp_upstream)"
   ],
   "metadata": {
    "collapsed": false,
    "pycharm": {
     "name": "#%%\n"
    }
   }
  },
  {
   "cell_type": "code",
   "execution_count": 19,
   "outputs": [
    {
     "data": {
      "text/plain": "            shape  height  transect  street  parameter_2  curve_name  \\\nlink                                                                   \nC1    TRAPEZOIDAL    3.00       NaN     NaN          5.0         NaN   \nC3       CIRCULAR    2.25       NaN     NaN          0.0         NaN   \nC4    TRAPEZOIDAL    3.00       NaN     NaN          5.0         NaN   \nC5    TRAPEZOIDAL    3.00       NaN     NaN          5.0         NaN   \nC6    TRAPEZOIDAL    3.00       NaN     NaN          5.0         NaN   \nC12   TRAPEZOIDAL    3.00       NaN     NaN          5.0         NaN   \nC15   TRAPEZOIDAL    3.00       NaN     NaN          5.0         NaN   \nC16   TRAPEZOIDAL    3.00       NaN     NaN          5.0         NaN   \nC17   TRAPEZOIDAL    1.50       NaN     NaN          0.0         NaN   \n\n      parameter_3  parameter_4  n_barrels  culvert  \nlink                                                \nC1         5.0000          5.0          1      NaN  \nC3         0.0000          0.0          1      NaN  \nC4         5.0000          5.0          1      NaN  \nC5         5.0000          5.0          1      NaN  \nC6         5.0000          5.0          1      NaN  \nC12        5.0000          5.0          1      NaN  \nC15        5.0000          5.0          1      NaN  \nC16        5.0000          5.0          1      NaN  \nC17        0.0001         25.0          1      NaN  ",
      "text/html": "<div>\n<style scoped>\n    .dataframe tbody tr th:only-of-type {\n        vertical-align: middle;\n    }\n\n    .dataframe tbody tr th {\n        vertical-align: top;\n    }\n\n    .dataframe thead th {\n        text-align: right;\n    }\n</style>\n<table border=\"1\" class=\"dataframe\">\n  <thead>\n    <tr style=\"text-align: right;\">\n      <th></th>\n      <th>shape</th>\n      <th>height</th>\n      <th>transect</th>\n      <th>street</th>\n      <th>parameter_2</th>\n      <th>curve_name</th>\n      <th>parameter_3</th>\n      <th>parameter_4</th>\n      <th>n_barrels</th>\n      <th>culvert</th>\n    </tr>\n    <tr>\n      <th>link</th>\n      <th></th>\n      <th></th>\n      <th></th>\n      <th></th>\n      <th></th>\n      <th></th>\n      <th></th>\n      <th></th>\n      <th></th>\n      <th></th>\n    </tr>\n  </thead>\n  <tbody>\n    <tr>\n      <th>C1</th>\n      <td>TRAPEZOIDAL</td>\n      <td>3.00</td>\n      <td>NaN</td>\n      <td>NaN</td>\n      <td>5.0</td>\n      <td>NaN</td>\n      <td>5.0000</td>\n      <td>5.0</td>\n      <td>1</td>\n      <td>NaN</td>\n    </tr>\n    <tr>\n      <th>C3</th>\n      <td>CIRCULAR</td>\n      <td>2.25</td>\n      <td>NaN</td>\n      <td>NaN</td>\n      <td>0.0</td>\n      <td>NaN</td>\n      <td>0.0000</td>\n      <td>0.0</td>\n      <td>1</td>\n      <td>NaN</td>\n    </tr>\n    <tr>\n      <th>C4</th>\n      <td>TRAPEZOIDAL</td>\n      <td>3.00</td>\n      <td>NaN</td>\n      <td>NaN</td>\n      <td>5.0</td>\n      <td>NaN</td>\n      <td>5.0000</td>\n      <td>5.0</td>\n      <td>1</td>\n      <td>NaN</td>\n    </tr>\n    <tr>\n      <th>C5</th>\n      <td>TRAPEZOIDAL</td>\n      <td>3.00</td>\n      <td>NaN</td>\n      <td>NaN</td>\n      <td>5.0</td>\n      <td>NaN</td>\n      <td>5.0000</td>\n      <td>5.0</td>\n      <td>1</td>\n      <td>NaN</td>\n    </tr>\n    <tr>\n      <th>C6</th>\n      <td>TRAPEZOIDAL</td>\n      <td>3.00</td>\n      <td>NaN</td>\n      <td>NaN</td>\n      <td>5.0</td>\n      <td>NaN</td>\n      <td>5.0000</td>\n      <td>5.0</td>\n      <td>1</td>\n      <td>NaN</td>\n    </tr>\n    <tr>\n      <th>C12</th>\n      <td>TRAPEZOIDAL</td>\n      <td>3.00</td>\n      <td>NaN</td>\n      <td>NaN</td>\n      <td>5.0</td>\n      <td>NaN</td>\n      <td>5.0000</td>\n      <td>5.0</td>\n      <td>1</td>\n      <td>NaN</td>\n    </tr>\n    <tr>\n      <th>C15</th>\n      <td>TRAPEZOIDAL</td>\n      <td>3.00</td>\n      <td>NaN</td>\n      <td>NaN</td>\n      <td>5.0</td>\n      <td>NaN</td>\n      <td>5.0000</td>\n      <td>5.0</td>\n      <td>1</td>\n      <td>NaN</td>\n    </tr>\n    <tr>\n      <th>C16</th>\n      <td>TRAPEZOIDAL</td>\n      <td>3.00</td>\n      <td>NaN</td>\n      <td>NaN</td>\n      <td>5.0</td>\n      <td>NaN</td>\n      <td>5.0000</td>\n      <td>5.0</td>\n      <td>1</td>\n      <td>NaN</td>\n    </tr>\n    <tr>\n      <th>C17</th>\n      <td>TRAPEZOIDAL</td>\n      <td>1.50</td>\n      <td>NaN</td>\n      <td>NaN</td>\n      <td>0.0</td>\n      <td>NaN</td>\n      <td>0.0001</td>\n      <td>25.0</td>\n      <td>1</td>\n      <td>NaN</td>\n    </tr>\n  </tbody>\n</table>\n</div>"
     },
     "execution_count": 19,
     "metadata": {},
     "output_type": "execute_result"
    }
   ],
   "source": [
    "inp.XSECTIONS.frame"
   ],
   "metadata": {
    "collapsed": false,
    "pycharm": {
     "name": "#%%\n"
    }
   }
  },
  {
   "cell_type": "code",
   "execution_count": 42,
   "outputs": [
    {
     "name": "stderr",
     "output_type": "stream",
     "text": [
      "C:\\Users\\mp\\PycharmProjects\\SWMM_xsections_shape_generator\\shape_generator\\swmm_predefined.py:108: UserWarning: Creating Trapezoidal cross-section. Asymmetric cross-section not possible - force symetry\n",
      "  warnings.warn('Creating Trapezoidal cross-section. Asymmetric cross-section not possible - force symetry')\n"
     ]
    },
    {
     "data": {
      "text/plain": "<Figure size 432x288 with 1 Axes>",
      "image/png": "[encoded data removed]"
     },
     "metadata": {},
     "output_type": "display_data"
    }
   ],
   "source": [
    "from swmm_api.input_file.macros import to_cross_section_maker\n",
    "\n",
    "# cs = to_cross_section_maker(inp.XSECTIONS['C3'], inp)\n",
    "# _ = cs.profile_figure()\n",
    "\n",
    "cs = to_cross_section_maker(inp.XSECTIONS['C16'], inp)\n",
    "_ = cs.profile_figure()"
   ],
   "metadata": {
    "collapsed": false,
    "pycharm": {
     "name": "#%%\n"
    }
   }
  },
  {
   "cell_type": "code",
   "execution_count": 21,
   "outputs": [],
   "source": [
    "out = SwmmOutput('Example6-Final.out')"
   ],
   "metadata": {
    "collapsed": false,
    "pycharm": {
     "name": "#%%\n"
    }
   }
  },
  {
   "cell_type": "code",
   "execution_count": 22,
   "metadata": {
    "pycharm": {
     "name": "#%%\n"
    }
   },
   "outputs": [
    {
     "data": {
      "text/plain": "                    subcatchment                                             \\\n                              S5                                              \n                        rainfall snow_depth evaporation infiltration runoff   \n2007-01-01 00:01:00        0.030        0.0         0.0     0.003690    0.0   \n2007-01-01 00:02:00        0.030        0.0         0.0     0.003690    0.0   \n2007-01-01 00:03:00        0.030        0.0         0.0     0.003690    0.0   \n2007-01-01 00:04:00        0.030        0.0         0.0     0.003690    0.0   \n2007-01-01 00:05:00        0.034        0.0         0.0     0.004182    0.0   \n...                          ...        ...         ...          ...    ...   \n2007-01-02 23:56:00        0.000        0.0         0.0     0.000000    0.0   \n2007-01-02 23:57:00        0.000        0.0         0.0     0.000000    0.0   \n2007-01-02 23:58:00        0.000        0.0         0.0     0.000000    0.0   \n2007-01-02 23:59:00        0.000        0.0         0.0     0.000000    0.0   \n2007-01-03 00:00:00        0.000        0.0         0.0     0.000000    0.0   \n\n                                                                             \\\n                                                                              \n                    groundwater_outflow groundwater_elevation soil_moisture   \n2007-01-01 00:01:00                 0.0                   0.0           0.0   \n2007-01-01 00:02:00                 0.0                   0.0           0.0   \n2007-01-01 00:03:00                 0.0                   0.0           0.0   \n2007-01-01 00:04:00                 0.0                   0.0           0.0   \n2007-01-01 00:05:00                 0.0                   0.0           0.0   \n...                                 ...                   ...           ...   \n2007-01-02 23:56:00                 0.0                   0.0           0.0   \n2007-01-02 23:57:00                 0.0                   0.0           0.0   \n2007-01-02 23:58:00                 0.0                   0.0           0.0   \n2007-01-02 23:59:00                 0.0                   0.0           0.0   \n2007-01-03 00:00:00                 0.0                   0.0           0.0   \n\n                                   ...             system                     \\\n                               S6  ...                                         \n                     TSS rainfall  ... dry_weather_inflow groundwater_inflow   \n2007-01-01 00:01:00  0.0    0.030  ...                0.0                0.0   \n2007-01-01 00:02:00  0.0    0.030  ...                0.0                0.0   \n2007-01-01 00:03:00  0.0    0.030  ...                0.0                0.0   \n2007-01-01 00:04:00  0.0    0.030  ...                0.0                0.0   \n2007-01-01 00:05:00  0.0    0.034  ...                0.0                0.0   \n...                  ...      ...  ...                ...                ...   \n2007-01-02 23:56:00  0.0    0.000  ...                0.0                0.0   \n2007-01-02 23:57:00  0.0    0.000  ...                0.0                0.0   \n2007-01-02 23:58:00  0.0    0.000  ...                0.0                0.0   \n2007-01-02 23:59:00  0.0    0.000  ...                0.0                0.0   \n2007-01-03 00:00:00  0.0    0.000  ...                0.0                0.0   \n\n                                                                       \\\n                                                                        \n                    RDII_inflow direct_inflow lateral_inflow flooding   \n2007-01-01 00:01:00         0.0           0.0            0.0      0.0   \n2007-01-01 00:02:00         0.0           0.0            0.0      0.0   \n2007-01-01 00:03:00         0.0           0.0            0.0      0.0   \n2007-01-01 00:04:00         0.0           0.0            0.0      0.0   \n2007-01-01 00:05:00         0.0           0.0            0.0      0.0   \n...                         ...           ...            ...      ...   \n2007-01-02 23:56:00         0.0           0.0            0.0      0.0   \n2007-01-02 23:57:00         0.0           0.0            0.0      0.0   \n2007-01-02 23:58:00         0.0           0.0            0.0      0.0   \n2007-01-02 23:59:00         0.0           0.0            0.0      0.0   \n2007-01-03 00:00:00         0.0           0.0            0.0      0.0   \n\n                                                            \n                                                            \n                      outflow      volume evaporation  PET  \n2007-01-01 00:01:00  0.000000    1.149115         0.0  0.0  \n2007-01-01 00:02:00  0.000000    2.897082         0.0  0.0  \n2007-01-01 00:03:00  0.000000    3.038350         0.0  0.0  \n2007-01-01 00:04:00  0.000000    3.343307         0.0  0.0  \n2007-01-01 00:05:00  0.000000    3.812680         0.0  0.0  \n...                       ...         ...         ...  ...  \n2007-01-02 23:56:00  0.001097  119.957809         0.0  0.0  \n2007-01-02 23:57:00  0.001096  119.891975         0.0  0.0  \n2007-01-02 23:58:00  0.001095  119.826187         0.0  0.0  \n2007-01-02 23:59:00  0.001094  119.762291         0.0  0.0  \n2007-01-03 00:00:00  0.001093  119.697762         0.0  0.0  \n\n[2880 rows x 497 columns]",
      "text/html": "<div>\n<style scoped>\n    .dataframe tbody tr th:only-of-type {\n        vertical-align: middle;\n    }\n\n    .dataframe tbody tr th {\n        vertical-align: top;\n    }\n\n    .dataframe thead tr th {\n        text-align: left;\n    }\n</style>\n<table border=\"1\" class=\"dataframe\">\n  <thead>\n    <tr>\n      <th></th>\n      <th colspan=\"10\" halign=\"left\">subcatchment</th>\n      <th>...</th>\n      <th colspan=\"10\" halign=\"left\">system</th>\n    </tr>\n    <tr>\n      <th></th>\n      <th colspan=\"9\" halign=\"left\">S5</th>\n      <th>S6</th>\n      <th>...</th>\n      <th colspan=\"10\" halign=\"left\"></th>\n    </tr>\n    <tr>\n      <th></th>\n      <th>rainfall</th>\n      <th>snow_depth</th>\n      <th>evaporation</th>\n      <th>infiltration</th>\n      <th>runoff</th>\n      <th>groundwater_outflow</th>\n      <th>groundwater_elevation</th>\n      <th>soil_moisture</th>\n      <th>TSS</th>\n      <th>rainfall</th>\n      <th>...</th>\n      <th>dry_weather_inflow</th>\n      <th>groundwater_inflow</th>\n      <th>RDII_inflow</th>\n      <th>direct_inflow</th>\n      <th>lateral_inflow</th>\n      <th>flooding</th>\n      <th>outflow</th>\n      <th>volume</th>\n      <th>evaporation</th>\n      <th>PET</th>\n    </tr>\n  </thead>\n  <tbody>\n    <tr>\n      <th>2007-01-01 00:01:00</th>\n      <td>0.030</td>\n      <td>0.0</td>\n      <td>0.0</td>\n      <td>0.003690</td>\n      <td>0.0</td>\n      <td>0.0</td>\n      <td>0.0</td>\n      <td>0.0</td>\n      <td>0.0</td>\n      <td>0.030</td>\n      <td>...</td>\n      <td>0.0</td>\n      <td>0.0</td>\n      <td>0.0</td>\n      <td>0.0</td>\n      <td>0.0</td>\n      <td>0.0</td>\n      <td>0.000000</td>\n      <td>1.149115</td>\n      <td>0.0</td>\n      <td>0.0</td>\n    </tr>\n    <tr>\n      <th>2007-01-01 00:02:00</th>\n      <td>0.030</td>\n      <td>0.0</td>\n      <td>0.0</td>\n      <td>0.003690</td>\n      <td>0.0</td>\n      <td>0.0</td>\n      <td>0.0</td>\n      <td>0.0</td>\n      <td>0.0</td>\n      <td>0.030</td>\n      <td>...</td>\n      <td>0.0</td>\n      <td>0.0</td>\n      <td>0.0</td>\n      <td>0.0</td>\n      <td>0.0</td>\n      <td>0.0</td>\n      <td>0.000000</td>\n      <td>2.897082</td>\n      <td>0.0</td>\n      <td>0.0</td>\n    </tr>\n    <tr>\n      <th>2007-01-01 00:03:00</th>\n      <td>0.030</td>\n      <td>0.0</td>\n      <td>0.0</td>\n      <td>0.003690</td>\n      <td>0.0</td>\n      <td>0.0</td>\n      <td>0.0</td>\n      <td>0.0</td>\n      <td>0.0</td>\n      <td>0.030</td>\n      <td>...</td>\n      <td>0.0</td>\n      <td>0.0</td>\n      <td>0.0</td>\n      <td>0.0</td>\n      <td>0.0</td>\n      <td>0.0</td>\n      <td>0.000000</td>\n      <td>3.038350</td>\n      <td>0.0</td>\n      <td>0.0</td>\n    </tr>\n    <tr>\n      <th>2007-01-01 00:04:00</th>\n      <td>0.030</td>\n      <td>0.0</td>\n      <td>0.0</td>\n      <td>0.003690</td>\n      <td>0.0</td>\n      <td>0.0</td>\n      <td>0.0</td>\n      <td>0.0</td>\n      <td>0.0</td>\n      <td>0.030</td>\n      <td>...</td>\n      <td>0.0</td>\n      <td>0.0</td>\n      <td>0.0</td>\n      <td>0.0</td>\n      <td>0.0</td>\n      <td>0.0</td>\n      <td>0.000000</td>\n      <td>3.343307</td>\n      <td>0.0</td>\n      <td>0.0</td>\n    </tr>\n    <tr>\n      <th>2007-01-01 00:05:00</th>\n      <td>0.034</td>\n      <td>0.0</td>\n      <td>0.0</td>\n      <td>0.004182</td>\n      <td>0.0</td>\n      <td>0.0</td>\n      <td>0.0</td>\n      <td>0.0</td>\n      <td>0.0</td>\n      <td>0.034</td>\n      <td>...</td>\n      <td>0.0</td>\n      <td>0.0</td>\n      <td>0.0</td>\n      <td>0.0</td>\n      <td>0.0</td>\n      <td>0.0</td>\n      <td>0.000000</td>\n      <td>3.812680</td>\n      <td>0.0</td>\n      <td>0.0</td>\n    </tr>\n    <tr>\n      <th>...</th>\n      <td>...</td>\n      <td>...</td>\n      <td>...</td>\n      <td>...</td>\n      <td>...</td>\n      <td>...</td>\n      <td>...</td>\n      <td>...</td>\n      <td>...</td>\n      <td>...</td>\n      <td>...</td>\n      <td>...</td>\n      <td>...</td>\n      <td>...</td>\n      <td>...</td>\n      <td>...</td>\n      <td>...</td>\n      <td>...</td>\n      <td>...</td>\n      <td>...</td>\n      <td>...</td>\n    </tr>\n    <tr>\n      <th>2007-01-02 23:56:00</th>\n      <td>0.000</td>\n      <td>0.0</td>\n      <td>0.0</td>\n      <td>0.000000</td>\n      <td>0.0</td>\n      <td>0.0</td>\n      <td>0.0</td>\n      <td>0.0</td>\n      <td>0.0</td>\n      <td>0.000</td>\n      <td>...</td>\n      <td>0.0</td>\n      <td>0.0</td>\n      <td>0.0</td>\n      <td>0.0</td>\n      <td>0.0</td>\n      <td>0.0</td>\n      <td>0.001097</td>\n      <td>119.957809</td>\n      <td>0.0</td>\n      <td>0.0</td>\n    </tr>\n    <tr>\n      <th>2007-01-02 23:57:00</th>\n      <td>0.000</td>\n      <td>0.0</td>\n      <td>0.0</td>\n      <td>0.000000</td>\n      <td>0.0</td>\n      <td>0.0</td>\n      <td>0.0</td>\n      <td>0.0</td>\n      <td>0.0</td>\n      <td>0.000</td>\n      <td>...</td>\n      <td>0.0</td>\n      <td>0.0</td>\n      <td>0.0</td>\n      <td>0.0</td>\n      <td>0.0</td>\n      <td>0.0</td>\n      <td>0.001096</td>\n      <td>119.891975</td>\n      <td>0.0</td>\n      <td>0.0</td>\n    </tr>\n    <tr>\n      <th>2007-01-02 23:58:00</th>\n      <td>0.000</td>\n      <td>0.0</td>\n      <td>0.0</td>\n      <td>0.000000</td>\n      <td>0.0</td>\n      <td>0.0</td>\n      <td>0.0</td>\n      <td>0.0</td>\n      <td>0.0</td>\n      <td>0.000</td>\n      <td>...</td>\n      <td>0.0</td>\n      <td>0.0</td>\n      <td>0.0</td>\n      <td>0.0</td>\n      <td>0.0</td>\n      <td>0.0</td>\n      <td>0.001095</td>\n      <td>119.826187</td>\n      <td>0.0</td>\n      <td>0.0</td>\n    </tr>\n    <tr>\n      <th>2007-01-02 23:59:00</th>\n      <td>0.000</td>\n      <td>0.0</td>\n      <td>0.0</td>\n      <td>0.000000</td>\n      <td>0.0</td>\n      <td>0.0</td>\n      <td>0.0</td>\n      <td>0.0</td>\n      <td>0.0</td>\n      <td>0.000</td>\n      <td>...</td>\n      <td>0.0</td>\n      <td>0.0</td>\n      <td>0.0</td>\n      <td>0.0</td>\n      <td>0.0</td>\n      <td>0.0</td>\n      <td>0.001094</td>\n      <td>119.762291</td>\n      <td>0.0</td>\n      <td>0.0</td>\n    </tr>\n    <tr>\n      <th>2007-01-03 00:00:00</th>\n      <td>0.000</td>\n      <td>0.0</td>\n      <td>0.0</td>\n      <td>0.000000</td>\n      <td>0.0</td>\n      <td>0.0</td>\n      <td>0.0</td>\n      <td>0.0</td>\n      <td>0.0</td>\n      <td>0.000</td>\n      <td>...</td>\n      <td>0.0</td>\n      <td>0.0</td>\n      <td>0.0</td>\n      <td>0.0</td>\n      <td>0.0</td>\n      <td>0.0</td>\n      <td>0.001093</td>\n      <td>119.697762</td>\n      <td>0.0</td>\n      <td>0.0</td>\n    </tr>\n  </tbody>\n</table>\n<p>2880 rows × 497 columns</p>\n</div>"
     },
     "execution_count": 22,
     "metadata": {},
     "output_type": "execute_result"
    }
   ],
   "source": [
    "out = SwmmOutput('Example6-Final.out')"
   ]
  },
  {
   "cell_type": "code",
   "execution_count": 23,
   "metadata": {
    "pycharm": {
     "name": "#%%\n"
    }
   },
   "outputs": [
    {
     "data": {
      "text/plain": "                           J1        J2        J3      J4        J5        J6  \\\n2007-01-01 00:01:00  0.000002  0.000000  0.000000  0.0000  0.000000  0.000000   \n2007-01-01 00:02:00  0.000006  0.000000  0.000000  0.0000  0.001020  0.000098   \n2007-01-01 00:03:00  0.000008  0.000000  0.000000  0.0000  0.001018  0.000106   \n2007-01-01 00:04:00  0.000008  0.000000  0.000000  0.0000  0.001016  0.000109   \n2007-01-01 00:05:00  0.000008  0.000000  0.000000  0.0000  0.001015  0.000111   \n...                       ...       ...       ...     ...       ...       ...   \n2007-01-02 23:56:00  0.000100  0.005370  0.000456  0.0001  0.000259  0.000190   \n2007-01-02 23:57:00  0.000100  0.005371  0.000456  0.0001  0.000259  0.000190   \n2007-01-02 23:58:00  0.000100  0.005371  0.000456  0.0001  0.000259  0.000191   \n2007-01-02 23:59:00  0.000102  0.005371  0.000456  0.0001  0.000259  0.000191   \n2007-01-03 00:00:00  0.000103  0.005371  0.000456  0.0001  0.000258  0.000192   \n\n                         J7        J8        J9       J10       J11       J12  \\\n2007-01-01 00:01:00  0.0000  0.000000  0.000060  0.000108  0.000083  0.000077   \n2007-01-01 00:02:00  0.0000  0.000000  0.000078  0.000129  0.000130  0.000170   \n2007-01-01 00:03:00  0.0000  0.000000  0.000116  0.000190  0.000212  0.000192   \n2007-01-01 00:04:00  0.0000  0.000000  0.000167  0.000297  0.000301  0.000236   \n2007-01-01 00:05:00  0.0000  0.000000  0.000243  0.000459  0.000486  0.000302   \n...                     ...       ...       ...       ...       ...       ...   \n2007-01-02 23:56:00  0.0001  0.000104  0.000345  0.000463  0.000280  0.000098   \n2007-01-02 23:57:00  0.0001  0.000103  0.000345  0.000463  0.000284  0.000099   \n2007-01-02 23:58:00  0.0001  0.000103  0.000344  0.000462  0.000287  0.000100   \n2007-01-02 23:59:00  0.0001  0.000102  0.000344  0.000462  0.000291  0.000096   \n2007-01-03 00:00:00  0.0001  0.000102  0.000343  0.000462  0.000261  0.000094   \n\n                          J13       J14     J15       J16     J17     J_out  \\\n2007-01-01 00:01:00  0.000000  0.000118  0.0000  0.000000  0.0000  0.000000   \n2007-01-01 00:02:00  0.000000  0.000740  0.0000  0.000000  0.0000  0.000000   \n2007-01-01 00:03:00  0.000000  0.002232  0.0000  0.000000  0.0000  0.000000   \n2007-01-01 00:04:00  0.000000  0.004825  0.0000  0.000000  0.0000  0.000000   \n2007-01-01 00:05:00  0.000311  0.007560  0.0000  0.000000  0.0000  0.000000   \n...                       ...       ...     ...       ...     ...       ...   \n2007-01-02 23:56:00  0.000367  0.004529  0.0001  0.004804  0.0001  0.024986   \n2007-01-02 23:57:00  0.000367  0.004529  0.0001  0.004804  0.0001  0.024974   \n2007-01-02 23:58:00  0.000366  0.004529  0.0001  0.004804  0.0001  0.024962   \n2007-01-02 23:59:00  0.000366  0.004529  0.0001  0.004804  0.0001  0.024951   \n2007-01-03 00:00:00  0.000366  0.004530  0.0001  0.004804  0.0001  0.024939   \n\n                           O2       SU2  \n2007-01-01 00:01:00  0.000000  0.000000  \n2007-01-01 00:02:00  0.000000  0.000000  \n2007-01-01 00:03:00  0.000000  0.000000  \n2007-01-01 00:04:00  0.000000  0.000002  \n2007-01-01 00:05:00  0.000000  0.000003  \n...                       ...       ...  \n2007-01-02 23:56:00  0.000433  0.011206  \n2007-01-02 23:57:00  0.000433  0.011200  \n2007-01-02 23:58:00  0.000432  0.011194  \n2007-01-02 23:59:00  0.000432  0.011187  \n2007-01-03 00:00:00  0.000432  0.011182  \n\n[2880 rows x 20 columns]",
      "text/html": "<div>\n<style scoped>\n    .dataframe tbody tr th:only-of-type {\n        vertical-align: middle;\n    }\n\n    .dataframe tbody tr th {\n        vertical-align: top;\n    }\n\n    .dataframe thead th {\n        text-align: right;\n    }\n</style>\n<table border=\"1\" class=\"dataframe\">\n  <thead>\n    <tr style=\"text-align: right;\">\n      <th></th>\n      <th>J1</th>\n      <th>J2</th>\n      <th>J3</th>\n      <th>J4</th>\n      <th>J5</th>\n      <th>J6</th>\n      <th>J7</th>\n      <th>J8</th>\n      <th>J9</th>\n      <th>J10</th>\n      <th>J11</th>\n      <th>J12</th>\n      <th>J13</th>\n      <th>J14</th>\n      <th>J15</th>\n      <th>J16</th>\n      <th>J17</th>\n      <th>J_out</th>\n      <th>O2</th>\n      <th>SU2</th>\n    </tr>\n  </thead>\n  <tbody>\n    <tr>\n      <th>2007-01-01 00:01:00</th>\n      <td>0.000002</td>\n      <td>0.000000</td>\n      <td>0.000000</td>\n      <td>0.0000</td>\n      <td>0.000000</td>\n      <td>0.000000</td>\n      <td>0.0000</td>\n      <td>0.000000</td>\n      <td>0.000060</td>\n      <td>0.000108</td>\n      <td>0.000083</td>\n      <td>0.000077</td>\n      <td>0.000000</td>\n      <td>0.000118</td>\n      <td>0.0000</td>\n      <td>0.000000</td>\n      <td>0.0000</td>\n      <td>0.000000</td>\n      <td>0.000000</td>\n      <td>0.000000</td>\n    </tr>\n    <tr>\n      <th>2007-01-01 00:02:00</th>\n      <td>0.000006</td>\n      <td>0.000000</td>\n      <td>0.000000</td>\n      <td>0.0000</td>\n      <td>0.001020</td>\n      <td>0.000098</td>\n      <td>0.0000</td>\n      <td>0.000000</td>\n      <td>0.000078</td>\n      <td>0.000129</td>\n      <td>0.000130</td>\n      <td>0.000170</td>\n      <td>0.000000</td>\n      <td>0.000740</td>\n      <td>0.0000</td>\n      <td>0.000000</td>\n      <td>0.0000</td>\n      <td>0.000000</td>\n      <td>0.000000</td>\n      <td>0.000000</td>\n    </tr>\n    <tr>\n      <th>2007-01-01 00:03:00</th>\n      <td>0.000008</td>\n      <td>0.000000</td>\n      <td>0.000000</td>\n      <td>0.0000</td>\n      <td>0.001018</td>\n      <td>0.000106</td>\n      <td>0.0000</td>\n      <td>0.000000</td>\n      <td>0.000116</td>\n      <td>0.000190</td>\n      <td>0.000212</td>\n      <td>0.000192</td>\n      <td>0.000000</td>\n      <td>0.002232</td>\n      <td>0.0000</td>\n      <td>0.000000</td>\n      <td>0.0000</td>\n      <td>0.000000</td>\n      <td>0.000000</td>\n      <td>0.000000</td>\n    </tr>\n    <tr>\n      <th>2007-01-01 00:04:00</th>\n      <td>0.000008</td>\n      <td>0.000000</td>\n      <td>0.000000</td>\n      <td>0.0000</td>\n      <td>0.001016</td>\n      <td>0.000109</td>\n      <td>0.0000</td>\n      <td>0.000000</td>\n      <td>0.000167</td>\n      <td>0.000297</td>\n      <td>0.000301</td>\n      <td>0.000236</td>\n      <td>0.000000</td>\n      <td>0.004825</td>\n      <td>0.0000</td>\n      <td>0.000000</td>\n      <td>0.0000</td>\n      <td>0.000000</td>\n      <td>0.000000</td>\n      <td>0.000002</td>\n    </tr>\n    <tr>\n      <th>2007-01-01 00:05:00</th>\n      <td>0.000008</td>\n      <td>0.000000</td>\n      <td>0.000000</td>\n      <td>0.0000</td>\n      <td>0.001015</td>\n      <td>0.000111</td>\n      <td>0.0000</td>\n      <td>0.000000</td>\n      <td>0.000243</td>\n      <td>0.000459</td>\n      <td>0.000486</td>\n      <td>0.000302</td>\n      <td>0.000311</td>\n      <td>0.007560</td>\n      <td>0.0000</td>\n      <td>0.000000</td>\n      <td>0.0000</td>\n      <td>0.000000</td>\n      <td>0.000000</td>\n      <td>0.000003</td>\n    </tr>\n    <tr>\n      <th>...</th>\n      <td>...</td>\n      <td>...</td>\n      <td>...</td>\n      <td>...</td>\n      <td>...</td>\n      <td>...</td>\n      <td>...</td>\n      <td>...</td>\n      <td>...</td>\n      <td>...</td>\n      <td>...</td>\n      <td>...</td>\n      <td>...</td>\n      <td>...</td>\n      <td>...</td>\n      <td>...</td>\n      <td>...</td>\n      <td>...</td>\n      <td>...</td>\n      <td>...</td>\n    </tr>\n    <tr>\n      <th>2007-01-02 23:56:00</th>\n      <td>0.000100</td>\n      <td>0.005370</td>\n      <td>0.000456</td>\n      <td>0.0001</td>\n      <td>0.000259</td>\n      <td>0.000190</td>\n      <td>0.0001</td>\n      <td>0.000104</td>\n      <td>0.000345</td>\n      <td>0.000463</td>\n      <td>0.000280</td>\n      <td>0.000098</td>\n      <td>0.000367</td>\n      <td>0.004529</td>\n      <td>0.0001</td>\n      <td>0.004804</td>\n      <td>0.0001</td>\n      <td>0.024986</td>\n      <td>0.000433</td>\n      <td>0.011206</td>\n    </tr>\n    <tr>\n      <th>2007-01-02 23:57:00</th>\n      <td>0.000100</td>\n      <td>0.005371</td>\n      <td>0.000456</td>\n      <td>0.0001</td>\n      <td>0.000259</td>\n      <td>0.000190</td>\n      <td>0.0001</td>\n      <td>0.000103</td>\n      <td>0.000345</td>\n      <td>0.000463</td>\n      <td>0.000284</td>\n      <td>0.000099</td>\n      <td>0.000367</td>\n      <td>0.004529</td>\n      <td>0.0001</td>\n      <td>0.004804</td>\n      <td>0.0001</td>\n      <td>0.024974</td>\n      <td>0.000433</td>\n      <td>0.011200</td>\n    </tr>\n    <tr>\n      <th>2007-01-02 23:58:00</th>\n      <td>0.000100</td>\n      <td>0.005371</td>\n      <td>0.000456</td>\n      <td>0.0001</td>\n      <td>0.000259</td>\n      <td>0.000191</td>\n      <td>0.0001</td>\n      <td>0.000103</td>\n      <td>0.000344</td>\n      <td>0.000462</td>\n      <td>0.000287</td>\n      <td>0.000100</td>\n      <td>0.000366</td>\n      <td>0.004529</td>\n      <td>0.0001</td>\n      <td>0.004804</td>\n      <td>0.0001</td>\n      <td>0.024962</td>\n      <td>0.000432</td>\n      <td>0.011194</td>\n    </tr>\n    <tr>\n      <th>2007-01-02 23:59:00</th>\n      <td>0.000102</td>\n      <td>0.005371</td>\n      <td>0.000456</td>\n      <td>0.0001</td>\n      <td>0.000259</td>\n      <td>0.000191</td>\n      <td>0.0001</td>\n      <td>0.000102</td>\n      <td>0.000344</td>\n      <td>0.000462</td>\n      <td>0.000291</td>\n      <td>0.000096</td>\n      <td>0.000366</td>\n      <td>0.004529</td>\n      <td>0.0001</td>\n      <td>0.004804</td>\n      <td>0.0001</td>\n      <td>0.024951</td>\n      <td>0.000432</td>\n      <td>0.011187</td>\n    </tr>\n    <tr>\n      <th>2007-01-03 00:00:00</th>\n      <td>0.000103</td>\n      <td>0.005371</td>\n      <td>0.000456</td>\n      <td>0.0001</td>\n      <td>0.000258</td>\n      <td>0.000192</td>\n      <td>0.0001</td>\n      <td>0.000102</td>\n      <td>0.000343</td>\n      <td>0.000462</td>\n      <td>0.000261</td>\n      <td>0.000094</td>\n      <td>0.000366</td>\n      <td>0.004530</td>\n      <td>0.0001</td>\n      <td>0.004804</td>\n      <td>0.0001</td>\n      <td>0.024939</td>\n      <td>0.000432</td>\n      <td>0.011182</td>\n    </tr>\n  </tbody>\n</table>\n<p>2880 rows × 20 columns</p>\n</div>"
     },
     "execution_count": 23,
     "metadata": {},
     "output_type": "execute_result"
    }
   ],
   "source": [
    "out.to_frame()"
   ]
  },
  {
   "cell_type": "code",
   "execution_count": 24,
   "metadata": {
    "pycharm": {
     "name": "#%%\n"
    }
   },
   "outputs": [
    {
     "data": {
      "text/plain": "SwmmOutput(file=\"Example6-Final.out\").get_selective_results(n_cols=1):   0%|          | 0/2880 [00:00<?, ?it/s…",
      "application/vnd.jupyter.widget-view+json": {
       "version_major": 2,
       "version_minor": 0,
       "model_id": "1686f0ffec1a45d8825176b808d807e9"
      }
     },
     "metadata": {},
     "output_type": "display_data"
    },
    {
     "data": {
      "text/plain": "2007-01-01 00:01:00    0.000002\n2007-01-01 00:02:00    0.000006\n2007-01-01 00:03:00    0.000008\n2007-01-01 00:04:00    0.000008\n2007-01-01 00:05:00    0.000008\n                         ...   \n2007-01-02 23:56:00    0.000100\n2007-01-02 23:57:00    0.000100\n2007-01-02 23:58:00    0.000100\n2007-01-02 23:59:00    0.000102\n2007-01-03 00:00:00    0.000103\nFreq: T, Name: node/J1/depth, Length: 2880, dtype: float64"
     },
     "execution_count": 24,
     "metadata": {},
     "output_type": "execute_result"
    }
   ],
   "source": [
    "out.get_part(kind='node', variable='depth')"
   ]
  },
  {
   "cell_type": "code",
   "execution_count": 25,
   "metadata": {
    "pycharm": {
     "name": "#%%\n"
    }
   },
   "outputs": [],
   "source": [
    "out.get_part(kind='node', label='J1', variable='depth', slim=True)"
   ]
  },
  {
   "cell_type": "code",
   "execution_count": 26,
   "metadata": {
    "pycharm": {
     "name": "#%%\n"
    }
   },
   "outputs": [
    {
     "data": {
      "text/plain": "           Type  Maximum_Lateral_Inflow_CFS  Maximum_Total_Inflow_CFS  \\\nNode                                                                    \nJ1     JUNCTION                        0.00                      0.04   \nJ2     JUNCTION                        0.00                      0.04   \nJ3     JUNCTION                        0.00                      0.01   \nJ4     JUNCTION                        0.00                      0.00   \nJ5     JUNCTION                        0.00                      0.07   \nJ6     JUNCTION                        0.00                      0.06   \nJ7     JUNCTION                        0.00                      0.03   \nJ8     JUNCTION                        0.00                      0.05   \nJ9     JUNCTION                        0.11                      0.11   \nJ10    JUNCTION                        0.26                      0.33   \nJ11    JUNCTION                        0.11                      0.41   \nJ12    JUNCTION                        0.05                      0.05   \nJ13    JUNCTION                        0.00                      0.04   \nJ14    JUNCTION                        0.04                      0.04   \nJ15    JUNCTION                        0.02                      0.02   \nJ16    JUNCTION                        0.03                      0.03   \nJ17    JUNCTION                        0.03                      0.03   \nJ_out  JUNCTION                        0.00                      0.05   \nO2      OUTFALL                        0.00                      0.05   \nSU2     STORAGE                        0.00                      0.41   \n\n      Time of Max_Occurrence_days hr:min  Lateral_Inflow_Volume_10^6 gal  \\\nNode                                                                       \nJ1                       0 days 00:58:00                        0.000000   \nJ2                       0 days 00:47:00                        0.000000   \nJ3                       0 days 02:02:00                        0.000000   \nJ4                       0 days 02:33:00                        0.000000   \nJ5                       0 days 01:09:00                        0.000000   \nJ6                       0 days 01:11:00                        0.000000   \nJ7                       0 days 01:07:00                        0.000000   \nJ8                       0 days 01:35:00                        0.000000   \nJ9                       0 days 00:45:00                        0.002460   \nJ10                      0 days 00:45:00                        0.006240   \nJ11                      0 days 00:49:00                        0.002800   \nJ12                      0 days 00:45:00                        0.001170   \nJ13                      0 days 00:45:00                        0.000000   \nJ14                      0 days 00:40:00                        0.000870   \nJ15                      0 days 00:59:00                        0.000225   \nJ16                      0 days 01:04:00                        0.000541   \nJ17                      0 days 00:56:00                        0.000328   \nJ_out                    0 days 02:54:00                        0.000000   \nO2                       0 days 02:53:00                        0.000000   \nSU2                      0 days 00:50:00                        0.000000   \n\n       Total_Inflow_Volume_10^6 gal  Flow_Balance_Error_Percent  \nNode                                                             \nJ1                         0.001170                       0.138  \nJ2                         0.000877                       0.965  \nJ3                         0.000227                       1.775  \nJ4                         0.000223                       0.200  \nJ5                         0.001720                      -0.524  \nJ6                         0.002270                       0.148  \nJ7                         0.000543                       0.175  \nJ8                         0.002270                       0.085  \nJ9                         0.004730                       0.110  \nJ10                        0.011000                      -0.002  \nJ11                        0.014600                      -0.089  \nJ12                        0.001170                      -0.377  \nJ13                        0.000873                      -0.393  \nJ14                        0.000870                      -0.422  \nJ15                        0.000225                      -0.577  \nJ16                        0.000541                      -0.365  \nJ17                        0.000328                      -0.210  \nJ_out                      0.013800                       0.018  \nO2                         0.013800                       0.000  \nSU2                        0.014600                       0.089  ",
      "text/html": "<div>\n<style scoped>\n    .dataframe tbody tr th:only-of-type {\n        vertical-align: middle;\n    }\n\n    .dataframe tbody tr th {\n        vertical-align: top;\n    }\n\n    .dataframe thead th {\n        text-align: right;\n    }\n</style>\n<table border=\"1\" class=\"dataframe\">\n  <thead>\n    <tr style=\"text-align: right;\">\n      <th></th>\n      <th>Type</th>\n      <th>Maximum_Lateral_Inflow_CFS</th>\n      <th>Maximum_Total_Inflow_CFS</th>\n      <th>Time of Max_Occurrence_days hr:min</th>\n      <th>Lateral_Inflow_Volume_10^6 gal</th>\n      <th>Total_Inflow_Volume_10^6 gal</th>\n      <th>Flow_Balance_Error_Percent</th>\n    </tr>\n    <tr>\n      <th>Node</th>\n      <th></th>\n      <th></th>\n      <th></th>\n      <th></th>\n      <th></th>\n      <th></th>\n      <th></th>\n    </tr>\n  </thead>\n  <tbody>\n    <tr>\n      <th>J1</th>\n      <td>JUNCTION</td>\n      <td>0.00</td>\n      <td>0.04</td>\n      <td>0 days 00:58:00</td>\n      <td>0.000000</td>\n      <td>0.001170</td>\n      <td>0.138</td>\n    </tr>\n    <tr>\n      <th>J2</th>\n      <td>JUNCTION</td>\n      <td>0.00</td>\n      <td>0.04</td>\n      <td>0 days 00:47:00</td>\n      <td>0.000000</td>\n      <td>0.000877</td>\n      <td>0.965</td>\n    </tr>\n    <tr>\n      <th>J3</th>\n      <td>JUNCTION</td>\n      <td>0.00</td>\n      <td>0.01</td>\n      <td>0 days 02:02:00</td>\n      <td>0.000000</td>\n      <td>0.000227</td>\n      <td>1.775</td>\n    </tr>\n    <tr>\n      <th>J4</th>\n      <td>JUNCTION</td>\n      <td>0.00</td>\n      <td>0.00</td>\n      <td>0 days 02:33:00</td>\n      <td>0.000000</td>\n      <td>0.000223</td>\n      <td>0.200</td>\n    </tr>\n    <tr>\n      <th>J5</th>\n      <td>JUNCTION</td>\n      <td>0.00</td>\n      <td>0.07</td>\n      <td>0 days 01:09:00</td>\n      <td>0.000000</td>\n      <td>0.001720</td>\n      <td>-0.524</td>\n    </tr>\n    <tr>\n      <th>J6</th>\n      <td>JUNCTION</td>\n      <td>0.00</td>\n      <td>0.06</td>\n      <td>0 days 01:11:00</td>\n      <td>0.000000</td>\n      <td>0.002270</td>\n      <td>0.148</td>\n    </tr>\n    <tr>\n      <th>J7</th>\n      <td>JUNCTION</td>\n      <td>0.00</td>\n      <td>0.03</td>\n      <td>0 days 01:07:00</td>\n      <td>0.000000</td>\n      <td>0.000543</td>\n      <td>0.175</td>\n    </tr>\n    <tr>\n      <th>J8</th>\n      <td>JUNCTION</td>\n      <td>0.00</td>\n      <td>0.05</td>\n      <td>0 days 01:35:00</td>\n      <td>0.000000</td>\n      <td>0.002270</td>\n      <td>0.085</td>\n    </tr>\n    <tr>\n      <th>J9</th>\n      <td>JUNCTION</td>\n      <td>0.11</td>\n      <td>0.11</td>\n      <td>0 days 00:45:00</td>\n      <td>0.002460</td>\n      <td>0.004730</td>\n      <td>0.110</td>\n    </tr>\n    <tr>\n      <th>J10</th>\n      <td>JUNCTION</td>\n      <td>0.26</td>\n      <td>0.33</td>\n      <td>0 days 00:45:00</td>\n      <td>0.006240</td>\n      <td>0.011000</td>\n      <td>-0.002</td>\n    </tr>\n    <tr>\n      <th>J11</th>\n      <td>JUNCTION</td>\n      <td>0.11</td>\n      <td>0.41</td>\n      <td>0 days 00:49:00</td>\n      <td>0.002800</td>\n      <td>0.014600</td>\n      <td>-0.089</td>\n    </tr>\n    <tr>\n      <th>J12</th>\n      <td>JUNCTION</td>\n      <td>0.05</td>\n      <td>0.05</td>\n      <td>0 days 00:45:00</td>\n      <td>0.001170</td>\n      <td>0.001170</td>\n      <td>-0.377</td>\n    </tr>\n    <tr>\n      <th>J13</th>\n      <td>JUNCTION</td>\n      <td>0.00</td>\n      <td>0.04</td>\n      <td>0 days 00:45:00</td>\n      <td>0.000000</td>\n      <td>0.000873</td>\n      <td>-0.393</td>\n    </tr>\n    <tr>\n      <th>J14</th>\n      <td>JUNCTION</td>\n      <td>0.04</td>\n      <td>0.04</td>\n      <td>0 days 00:40:00</td>\n      <td>0.000870</td>\n      <td>0.000870</td>\n      <td>-0.422</td>\n    </tr>\n    <tr>\n      <th>J15</th>\n      <td>JUNCTION</td>\n      <td>0.02</td>\n      <td>0.02</td>\n      <td>0 days 00:59:00</td>\n      <td>0.000225</td>\n      <td>0.000225</td>\n      <td>-0.577</td>\n    </tr>\n    <tr>\n      <th>J16</th>\n      <td>JUNCTION</td>\n      <td>0.03</td>\n      <td>0.03</td>\n      <td>0 days 01:04:00</td>\n      <td>0.000541</td>\n      <td>0.000541</td>\n      <td>-0.365</td>\n    </tr>\n    <tr>\n      <th>J17</th>\n      <td>JUNCTION</td>\n      <td>0.03</td>\n      <td>0.03</td>\n      <td>0 days 00:56:00</td>\n      <td>0.000328</td>\n      <td>0.000328</td>\n      <td>-0.210</td>\n    </tr>\n    <tr>\n      <th>J_out</th>\n      <td>JUNCTION</td>\n      <td>0.00</td>\n      <td>0.05</td>\n      <td>0 days 02:54:00</td>\n      <td>0.000000</td>\n      <td>0.013800</td>\n      <td>0.018</td>\n    </tr>\n    <tr>\n      <th>O2</th>\n      <td>OUTFALL</td>\n      <td>0.00</td>\n      <td>0.05</td>\n      <td>0 days 02:53:00</td>\n      <td>0.000000</td>\n      <td>0.013800</td>\n      <td>0.000</td>\n    </tr>\n    <tr>\n      <th>SU2</th>\n      <td>STORAGE</td>\n      <td>0.00</td>\n      <td>0.41</td>\n      <td>0 days 00:50:00</td>\n      <td>0.000000</td>\n      <td>0.014600</td>\n      <td>0.089</td>\n    </tr>\n  </tbody>\n</table>\n</div>"
     },
     "execution_count": 26,
     "metadata": {},
     "output_type": "execute_result"
    }
   ],
   "source": [
    "rpt = SwmmReport('Example6-Final.rpt')"
   ]
  },
  {
   "cell_type": "code",
   "execution_count": 27,
   "metadata": {
    "pycharm": {
     "name": "#%%\n"
    }
   },
   "outputs": [
    {
     "ename": "SyntaxError",
     "evalue": "invalid syntax (<ipython-input-27-27602e2f67a0>, line 1)",
     "output_type": "error",
     "traceback": [
      "\u001B[1;36m  File \u001B[1;32m\"<ipython-input-27-27602e2f67a0>\"\u001B[1;36m, line \u001B[1;32m1\u001B[0m\n\u001B[1;33m    Read the content of the hotstart-file.\u001B[0m\n\u001B[1;37m         ^\u001B[0m\n\u001B[1;31mSyntaxError\u001B[0m\u001B[1;31m:\u001B[0m invalid syntax\n"
     ]
    }
   ],
   "source": [
    "rpt.node_inflow_summary"
   ]
  },
  {
   "cell_type": "markdown",
   "metadata": {
    "pycharm": {
     "name": "#%% md\n"
    }
   },
   "source": [
    "Read the content of the hotstart-file.\n",
    "\n",
    "You need to give the inp-file-data object (`inp`) to know the object labels and if groundwater and snowpacks are beeing used, as well the names of the pollutants and landuses.\n",
    "\n",
    "The order of the objects in the inp-file is identical to the order of the objects in the rpt-, out- and hotstart-file!"
   ]
  },
  {
   "cell_type": "code",
   "execution_count": null,
   "metadata": {
    "pycharm": {
     "name": "#%%\n"
    }
   },
   "outputs": [],
   "source": [
    "hsf = SwmmHotstart('Example6-Final.hsf', inp)"
   ]
  },
  {
   "cell_type": "code",
   "execution_count": null,
   "metadata": {
    "pycharm": {
     "name": "#%%\n"
    }
   },
   "outputs": [],
   "source": [
    "hsf.links_frame"
   ]
  },
  {
   "cell_type": "code",
   "execution_count": null,
   "metadata": {
    "pycharm": {
     "name": "#%%\n"
    }
   },
   "outputs": [],
   "source": [
    "hsf.nodes_frame"
   ]
  },
  {
   "cell_type": "code",
   "execution_count": null,
   "metadata": {
    "pycharm": {
     "name": "#%%\n"
    }
   },
   "outputs": [],
   "source": [
    "hsf.storages_frame"
   ]
  },
  {
   "cell_type": "code",
   "execution_count": 69,
   "metadata": {
    "pycharm": {
     "name": "#%%\n"
    }
   },
   "outputs": [
    {
     "data": {
      "text/html": [
       "<div>\n",
       "<style scoped>\n",
       "    .dataframe tbody tr th:only-of-type {\n",
       "        vertical-align: middle;\n",
       "    }\n",
       "\n",
       "    .dataframe tbody tr th {\n",
       "        vertical-align: top;\n",
       "    }\n",
       "\n",
       "    .dataframe thead th {\n",
       "        text-align: right;\n",
       "    }\n",
       "</style>\n",
       "<table border=\"1\" class=\"dataframe\">\n",
       "  <thead>\n",
       "    <tr style=\"text-align: right;\">\n",
       "      <th></th>\n",
       "      <th>label</th>\n",
       "      <th>depth_imperv_zero</th>\n",
       "      <th>depth_imperv</th>\n",
       "      <th>depth_perv</th>\n",
       "      <th>runoff</th>\n",
       "      <th>Infiltration_0</th>\n",
       "      <th>Infiltration_1</th>\n",
       "      <th>Infiltration_2</th>\n",
       "      <th>Infiltration_3</th>\n",
       "      <th>Infiltration_4</th>\n",
       "      <th>...</th>\n",
       "      <th>runoff_TSS</th>\n",
       "      <th>ponded_TSS</th>\n",
       "      <th>Residential_1_TSS_buildup</th>\n",
       "      <th>Residential_1_lastSwept</th>\n",
       "      <th>Residential_2_TSS_buildup</th>\n",
       "      <th>Residential_2_lastSwept</th>\n",
       "      <th>Commercial_TSS_buildup</th>\n",
       "      <th>Commercial_lastSwept</th>\n",
       "      <th>LID_TSS_buildup</th>\n",
       "      <th>LID_lastSwept</th>\n",
       "    </tr>\n",
       "  </thead>\n",
       "  <tbody>\n",
       "    <tr>\n",
       "      <th>0</th>\n",
       "      <td>S5</td>\n",
       "      <td>5.831685e-07</td>\n",
       "      <td>0.005001</td>\n",
       "      <td>0.0</td>\n",
       "      <td>9.549377e-07</td>\n",
       "      <td>27.937296</td>\n",
       "      <td>0.0</td>\n",
       "      <td>0.0</td>\n",
       "      <td>0.0</td>\n",
       "      <td>0.0</td>\n",
       "      <td>...</td>\n",
       "      <td>0.0</td>\n",
       "      <td>194350.172787</td>\n",
       "      <td>0.000000</td>\n",
       "      <td>39083.0</td>\n",
       "      <td>0.000000</td>\n",
       "      <td>39083.0</td>\n",
       "      <td>266.298176</td>\n",
       "      <td>39083.0</td>\n",
       "      <td>0.0</td>\n",
       "      <td>39083.0</td>\n",
       "    </tr>\n",
       "    <tr>\n",
       "      <th>1</th>\n",
       "      <td>S6</td>\n",
       "      <td>6.573694e-07</td>\n",
       "      <td>0.005001</td>\n",
       "      <td>0.0</td>\n",
       "      <td>4.817216e-07</td>\n",
       "      <td>27.937296</td>\n",
       "      <td>0.0</td>\n",
       "      <td>0.0</td>\n",
       "      <td>0.0</td>\n",
       "      <td>0.0</td>\n",
       "      <td>...</td>\n",
       "      <td>0.0</td>\n",
       "      <td>87025.637080</td>\n",
       "      <td>0.000000</td>\n",
       "      <td>39083.0</td>\n",
       "      <td>0.000000</td>\n",
       "      <td>39083.0</td>\n",
       "      <td>120.463005</td>\n",
       "      <td>39083.0</td>\n",
       "      <td>0.0</td>\n",
       "      <td>39083.0</td>\n",
       "    </tr>\n",
       "    <tr>\n",
       "      <th>2</th>\n",
       "      <td>S7</td>\n",
       "      <td>0.000000e+00</td>\n",
       "      <td>0.000000</td>\n",
       "      <td>0.0</td>\n",
       "      <td>0.000000e+00</td>\n",
       "      <td>27.937296</td>\n",
       "      <td>0.0</td>\n",
       "      <td>0.0</td>\n",
       "      <td>0.0</td>\n",
       "      <td>0.0</td>\n",
       "      <td>...</td>\n",
       "      <td>0.0</td>\n",
       "      <td>0.000000</td>\n",
       "      <td>0.000000</td>\n",
       "      <td>39083.0</td>\n",
       "      <td>0.000000</td>\n",
       "      <td>39083.0</td>\n",
       "      <td>0.000000</td>\n",
       "      <td>39083.0</td>\n",
       "      <td>0.0</td>\n",
       "      <td>39083.0</td>\n",
       "    </tr>\n",
       "    <tr>\n",
       "      <th>3</th>\n",
       "      <td>S3.1</td>\n",
       "      <td>0.000000e+00</td>\n",
       "      <td>0.000000</td>\n",
       "      <td>0.0</td>\n",
       "      <td>0.000000e+00</td>\n",
       "      <td>27.937296</td>\n",
       "      <td>0.0</td>\n",
       "      <td>0.0</td>\n",
       "      <td>0.0</td>\n",
       "      <td>0.0</td>\n",
       "      <td>...</td>\n",
       "      <td>0.0</td>\n",
       "      <td>0.000000</td>\n",
       "      <td>0.000000</td>\n",
       "      <td>39083.0</td>\n",
       "      <td>0.000000</td>\n",
       "      <td>39083.0</td>\n",
       "      <td>0.000000</td>\n",
       "      <td>39083.0</td>\n",
       "      <td>0.0</td>\n",
       "      <td>39083.0</td>\n",
       "    </tr>\n",
       "    <tr>\n",
       "      <th>4</th>\n",
       "      <td>S3.2</td>\n",
       "      <td>3.837669e-07</td>\n",
       "      <td>0.005000</td>\n",
       "      <td>0.0</td>\n",
       "      <td>9.936025e-08</td>\n",
       "      <td>27.937296</td>\n",
       "      <td>0.0</td>\n",
       "      <td>0.0</td>\n",
       "      <td>0.0</td>\n",
       "      <td>0.0</td>\n",
       "      <td>...</td>\n",
       "      <td>0.0</td>\n",
       "      <td>30671.870595</td>\n",
       "      <td>45.292438</td>\n",
       "      <td>39083.0</td>\n",
       "      <td>0.000000</td>\n",
       "      <td>39083.0</td>\n",
       "      <td>0.000000</td>\n",
       "      <td>39083.0</td>\n",
       "      <td>0.0</td>\n",
       "      <td>39083.0</td>\n",
       "    </tr>\n",
       "    <tr>\n",
       "      <th>5</th>\n",
       "      <td>S3.3</td>\n",
       "      <td>3.073174e-07</td>\n",
       "      <td>0.005000</td>\n",
       "      <td>0.0</td>\n",
       "      <td>9.613834e-08</td>\n",
       "      <td>27.937296</td>\n",
       "      <td>0.0</td>\n",
       "      <td>0.0</td>\n",
       "      <td>0.0</td>\n",
       "      <td>0.0</td>\n",
       "      <td>...</td>\n",
       "      <td>0.0</td>\n",
       "      <td>37027.548711</td>\n",
       "      <td>0.000000</td>\n",
       "      <td>39083.0</td>\n",
       "      <td>52.853495</td>\n",
       "      <td>39083.0</td>\n",
       "      <td>0.000000</td>\n",
       "      <td>39083.0</td>\n",
       "      <td>0.0</td>\n",
       "      <td>39083.0</td>\n",
       "    </tr>\n",
       "    <tr>\n",
       "      <th>6</th>\n",
       "      <td>S4.1</td>\n",
       "      <td>0.000000e+00</td>\n",
       "      <td>0.000000</td>\n",
       "      <td>0.0</td>\n",
       "      <td>0.000000e+00</td>\n",
       "      <td>27.937296</td>\n",
       "      <td>0.0</td>\n",
       "      <td>0.0</td>\n",
       "      <td>0.0</td>\n",
       "      <td>0.0</td>\n",
       "      <td>...</td>\n",
       "      <td>0.0</td>\n",
       "      <td>0.000000</td>\n",
       "      <td>0.000000</td>\n",
       "      <td>39083.0</td>\n",
       "      <td>0.000000</td>\n",
       "      <td>39083.0</td>\n",
       "      <td>0.000000</td>\n",
       "      <td>39083.0</td>\n",
       "      <td>0.0</td>\n",
       "      <td>39083.0</td>\n",
       "    </tr>\n",
       "    <tr>\n",
       "      <th>7</th>\n",
       "      <td>S4.2</td>\n",
       "      <td>4.341040e-07</td>\n",
       "      <td>0.005000</td>\n",
       "      <td>0.0</td>\n",
       "      <td>9.369826e-08</td>\n",
       "      <td>27.937296</td>\n",
       "      <td>0.0</td>\n",
       "      <td>0.0</td>\n",
       "      <td>0.0</td>\n",
       "      <td>0.0</td>\n",
       "      <td>...</td>\n",
       "      <td>0.0</td>\n",
       "      <td>25583.366653</td>\n",
       "      <td>0.000000</td>\n",
       "      <td>39083.0</td>\n",
       "      <td>49.818426</td>\n",
       "      <td>39083.0</td>\n",
       "      <td>0.000000</td>\n",
       "      <td>39083.0</td>\n",
       "      <td>0.0</td>\n",
       "      <td>39083.0</td>\n",
       "    </tr>\n",
       "    <tr>\n",
       "      <th>8</th>\n",
       "      <td>S4.3</td>\n",
       "      <td>3.807395e-07</td>\n",
       "      <td>0.005000</td>\n",
       "      <td>0.0</td>\n",
       "      <td>1.845950e-07</td>\n",
       "      <td>27.937296</td>\n",
       "      <td>0.0</td>\n",
       "      <td>0.0</td>\n",
       "      <td>0.0</td>\n",
       "      <td>0.0</td>\n",
       "      <td>...</td>\n",
       "      <td>0.0</td>\n",
       "      <td>57434.534850</td>\n",
       "      <td>43.751502</td>\n",
       "      <td>39083.0</td>\n",
       "      <td>91.881467</td>\n",
       "      <td>39083.0</td>\n",
       "      <td>0.000000</td>\n",
       "      <td>39083.0</td>\n",
       "      <td>0.0</td>\n",
       "      <td>39083.0</td>\n",
       "    </tr>\n",
       "    <tr>\n",
       "      <th>9</th>\n",
       "      <td>S4.4</td>\n",
       "      <td>4.062874e-07</td>\n",
       "      <td>0.005000</td>\n",
       "      <td>0.0</td>\n",
       "      <td>2.626789e-07</td>\n",
       "      <td>27.937296</td>\n",
       "      <td>0.0</td>\n",
       "      <td>0.0</td>\n",
       "      <td>0.0</td>\n",
       "      <td>0.0</td>\n",
       "      <td>...</td>\n",
       "      <td>0.0</td>\n",
       "      <td>76610.743143</td>\n",
       "      <td>0.000000</td>\n",
       "      <td>39083.0</td>\n",
       "      <td>0.000000</td>\n",
       "      <td>39083.0</td>\n",
       "      <td>53.997892</td>\n",
       "      <td>39083.0</td>\n",
       "      <td>0.0</td>\n",
       "      <td>39083.0</td>\n",
       "    </tr>\n",
       "    <tr>\n",
       "      <th>10</th>\n",
       "      <td>S_FS_1</td>\n",
       "      <td>0.000000e+00</td>\n",
       "      <td>0.000000</td>\n",
       "      <td>0.0</td>\n",
       "      <td>0.000000e+00</td>\n",
       "      <td>0.000000</td>\n",
       "      <td>0.0</td>\n",
       "      <td>0.0</td>\n",
       "      <td>0.0</td>\n",
       "      <td>0.0</td>\n",
       "      <td>...</td>\n",
       "      <td>0.0</td>\n",
       "      <td>0.000000</td>\n",
       "      <td>0.000000</td>\n",
       "      <td>39083.0</td>\n",
       "      <td>0.000000</td>\n",
       "      <td>39083.0</td>\n",
       "      <td>0.000000</td>\n",
       "      <td>39083.0</td>\n",
       "      <td>0.0</td>\n",
       "      <td>39083.0</td>\n",
       "    </tr>\n",
       "    <tr>\n",
       "      <th>11</th>\n",
       "      <td>S_FS_2</td>\n",
       "      <td>0.000000e+00</td>\n",
       "      <td>0.000000</td>\n",
       "      <td>0.0</td>\n",
       "      <td>0.000000e+00</td>\n",
       "      <td>0.000000</td>\n",
       "      <td>0.0</td>\n",
       "      <td>0.0</td>\n",
       "      <td>0.0</td>\n",
       "      <td>0.0</td>\n",
       "      <td>...</td>\n",
       "      <td>0.0</td>\n",
       "      <td>0.000000</td>\n",
       "      <td>0.000000</td>\n",
       "      <td>39083.0</td>\n",
       "      <td>0.000000</td>\n",
       "      <td>39083.0</td>\n",
       "      <td>0.000000</td>\n",
       "      <td>39083.0</td>\n",
       "      <td>0.0</td>\n",
       "      <td>39083.0</td>\n",
       "    </tr>\n",
       "    <tr>\n",
       "      <th>12</th>\n",
       "      <td>S_FS_3</td>\n",
       "      <td>0.000000e+00</td>\n",
       "      <td>0.000000</td>\n",
       "      <td>0.0</td>\n",
       "      <td>0.000000e+00</td>\n",
       "      <td>0.000000</td>\n",
       "      <td>0.0</td>\n",
       "      <td>0.0</td>\n",
       "      <td>0.0</td>\n",
       "      <td>0.0</td>\n",
       "      <td>...</td>\n",
       "      <td>0.0</td>\n",
       "      <td>0.000000</td>\n",
       "      <td>0.000000</td>\n",
       "      <td>39083.0</td>\n",
       "      <td>0.000000</td>\n",
       "      <td>39083.0</td>\n",
       "      <td>0.000000</td>\n",
       "      <td>39083.0</td>\n",
       "      <td>0.0</td>\n",
       "      <td>39083.0</td>\n",
       "    </tr>\n",
       "    <tr>\n",
       "      <th>13</th>\n",
       "      <td>S_FS_4</td>\n",
       "      <td>0.000000e+00</td>\n",
       "      <td>0.000000</td>\n",
       "      <td>0.0</td>\n",
       "      <td>0.000000e+00</td>\n",
       "      <td>0.000000</td>\n",
       "      <td>0.0</td>\n",
       "      <td>0.0</td>\n",
       "      <td>0.0</td>\n",
       "      <td>0.0</td>\n",
       "      <td>...</td>\n",
       "      <td>0.0</td>\n",
       "      <td>0.000000</td>\n",
       "      <td>0.000000</td>\n",
       "      <td>39083.0</td>\n",
       "      <td>0.000000</td>\n",
       "      <td>39083.0</td>\n",
       "      <td>0.000000</td>\n",
       "      <td>39083.0</td>\n",
       "      <td>0.0</td>\n",
       "      <td>39083.0</td>\n",
       "    </tr>\n",
       "    <tr>\n",
       "      <th>14</th>\n",
       "      <td>S1.1</td>\n",
       "      <td>3.729824e-07</td>\n",
       "      <td>0.005000</td>\n",
       "      <td>0.0</td>\n",
       "      <td>1.145692e-07</td>\n",
       "      <td>27.937296</td>\n",
       "      <td>0.0</td>\n",
       "      <td>0.0</td>\n",
       "      <td>0.0</td>\n",
       "      <td>0.0</td>\n",
       "      <td>...</td>\n",
       "      <td>0.0</td>\n",
       "      <td>36385.153628</td>\n",
       "      <td>47.329908</td>\n",
       "      <td>39083.0</td>\n",
       "      <td>0.000000</td>\n",
       "      <td>39083.0</td>\n",
       "      <td>0.000000</td>\n",
       "      <td>39083.0</td>\n",
       "      <td>0.0</td>\n",
       "      <td>39083.0</td>\n",
       "    </tr>\n",
       "    <tr>\n",
       "      <th>15</th>\n",
       "      <td>S1.2</td>\n",
       "      <td>3.731901e-07</td>\n",
       "      <td>0.005000</td>\n",
       "      <td>0.0</td>\n",
       "      <td>1.383173e-07</td>\n",
       "      <td>27.937296</td>\n",
       "      <td>0.0</td>\n",
       "      <td>0.0</td>\n",
       "      <td>0.0</td>\n",
       "      <td>0.0</td>\n",
       "      <td>...</td>\n",
       "      <td>0.0</td>\n",
       "      <td>43902.749785</td>\n",
       "      <td>63.181725</td>\n",
       "      <td>39083.0</td>\n",
       "      <td>0.000000</td>\n",
       "      <td>39083.0</td>\n",
       "      <td>0.000000</td>\n",
       "      <td>39083.0</td>\n",
       "      <td>0.0</td>\n",
       "      <td>39083.0</td>\n",
       "    </tr>\n",
       "    <tr>\n",
       "      <th>16</th>\n",
       "      <td>S1.3</td>\n",
       "      <td>2.158134e-07</td>\n",
       "      <td>0.005000</td>\n",
       "      <td>0.0</td>\n",
       "      <td>7.144661e-08</td>\n",
       "      <td>27.937296</td>\n",
       "      <td>0.0</td>\n",
       "      <td>0.0</td>\n",
       "      <td>0.0</td>\n",
       "      <td>0.0</td>\n",
       "      <td>...</td>\n",
       "      <td>0.0</td>\n",
       "      <td>39136.109324</td>\n",
       "      <td>66.469050</td>\n",
       "      <td>39083.0</td>\n",
       "      <td>0.000000</td>\n",
       "      <td>39083.0</td>\n",
       "      <td>0.000000</td>\n",
       "      <td>39083.0</td>\n",
       "      <td>0.0</td>\n",
       "      <td>39083.0</td>\n",
       "    </tr>\n",
       "    <tr>\n",
       "      <th>17</th>\n",
       "      <td>S2.1</td>\n",
       "      <td>2.157604e-07</td>\n",
       "      <td>0.005000</td>\n",
       "      <td>0.0</td>\n",
       "      <td>4.939248e-08</td>\n",
       "      <td>27.937296</td>\n",
       "      <td>0.0</td>\n",
       "      <td>0.0</td>\n",
       "      <td>0.0</td>\n",
       "      <td>0.0</td>\n",
       "      <td>...</td>\n",
       "      <td>0.0</td>\n",
       "      <td>27062.202874</td>\n",
       "      <td>47.492362</td>\n",
       "      <td>39083.0</td>\n",
       "      <td>0.000000</td>\n",
       "      <td>39083.0</td>\n",
       "      <td>0.000000</td>\n",
       "      <td>39083.0</td>\n",
       "      <td>0.0</td>\n",
       "      <td>39083.0</td>\n",
       "    </tr>\n",
       "    <tr>\n",
       "      <th>18</th>\n",
       "      <td>S2.2</td>\n",
       "      <td>4.167251e-07</td>\n",
       "      <td>0.005000</td>\n",
       "      <td>0.0</td>\n",
       "      <td>1.708147e-07</td>\n",
       "      <td>27.937296</td>\n",
       "      <td>0.0</td>\n",
       "      <td>0.0</td>\n",
       "      <td>0.0</td>\n",
       "      <td>0.0</td>\n",
       "      <td>...</td>\n",
       "      <td>0.0</td>\n",
       "      <td>48575.787544</td>\n",
       "      <td>0.000000</td>\n",
       "      <td>39083.0</td>\n",
       "      <td>74.520405</td>\n",
       "      <td>39083.0</td>\n",
       "      <td>0.000000</td>\n",
       "      <td>39083.0</td>\n",
       "      <td>0.0</td>\n",
       "      <td>39083.0</td>\n",
       "    </tr>\n",
       "    <tr>\n",
       "      <th>19</th>\n",
       "      <td>S2.3</td>\n",
       "      <td>4.171931e-07</td>\n",
       "      <td>0.005000</td>\n",
       "      <td>0.0</td>\n",
       "      <td>2.143272e-07</td>\n",
       "      <td>27.937296</td>\n",
       "      <td>0.0</td>\n",
       "      <td>0.0</td>\n",
       "      <td>0.0</td>\n",
       "      <td>0.0</td>\n",
       "      <td>...</td>\n",
       "      <td>0.0</td>\n",
       "      <td>60881.661319</td>\n",
       "      <td>0.000000</td>\n",
       "      <td>39083.0</td>\n",
       "      <td>78.044870</td>\n",
       "      <td>39083.0</td>\n",
       "      <td>0.000000</td>\n",
       "      <td>39083.0</td>\n",
       "      <td>0.0</td>\n",
       "      <td>39083.0</td>\n",
       "    </tr>\n",
       "    <tr>\n",
       "      <th>20</th>\n",
       "      <td>S_IT_1</td>\n",
       "      <td>0.000000e+00</td>\n",
       "      <td>0.000000</td>\n",
       "      <td>0.0</td>\n",
       "      <td>0.000000e+00</td>\n",
       "      <td>0.000000</td>\n",
       "      <td>0.0</td>\n",
       "      <td>0.0</td>\n",
       "      <td>0.0</td>\n",
       "      <td>0.0</td>\n",
       "      <td>...</td>\n",
       "      <td>0.0</td>\n",
       "      <td>0.000000</td>\n",
       "      <td>0.000000</td>\n",
       "      <td>39083.0</td>\n",
       "      <td>0.000000</td>\n",
       "      <td>39083.0</td>\n",
       "      <td>0.000000</td>\n",
       "      <td>39083.0</td>\n",
       "      <td>0.0</td>\n",
       "      <td>39083.0</td>\n",
       "    </tr>\n",
       "    <tr>\n",
       "      <th>21</th>\n",
       "      <td>S_IT_2</td>\n",
       "      <td>0.000000e+00</td>\n",
       "      <td>0.000000</td>\n",
       "      <td>0.0</td>\n",
       "      <td>0.000000e+00</td>\n",
       "      <td>0.000000</td>\n",
       "      <td>0.0</td>\n",
       "      <td>0.0</td>\n",
       "      <td>0.0</td>\n",
       "      <td>0.0</td>\n",
       "      <td>...</td>\n",
       "      <td>0.0</td>\n",
       "      <td>0.000000</td>\n",
       "      <td>0.000000</td>\n",
       "      <td>39083.0</td>\n",
       "      <td>0.000000</td>\n",
       "      <td>39083.0</td>\n",
       "      <td>0.000000</td>\n",
       "      <td>39083.0</td>\n",
       "      <td>0.0</td>\n",
       "      <td>39083.0</td>\n",
       "    </tr>\n",
       "    <tr>\n",
       "      <th>22</th>\n",
       "      <td>S_IT_3</td>\n",
       "      <td>0.000000e+00</td>\n",
       "      <td>0.000000</td>\n",
       "      <td>0.0</td>\n",
       "      <td>0.000000e+00</td>\n",
       "      <td>0.000000</td>\n",
       "      <td>0.0</td>\n",
       "      <td>0.0</td>\n",
       "      <td>0.0</td>\n",
       "      <td>0.0</td>\n",
       "      <td>...</td>\n",
       "      <td>0.0</td>\n",
       "      <td>0.000000</td>\n",
       "      <td>0.000000</td>\n",
       "      <td>39083.0</td>\n",
       "      <td>0.000000</td>\n",
       "      <td>39083.0</td>\n",
       "      <td>0.000000</td>\n",
       "      <td>39083.0</td>\n",
       "      <td>0.0</td>\n",
       "      <td>39083.0</td>\n",
       "    </tr>\n",
       "    <tr>\n",
       "      <th>23</th>\n",
       "      <td>S_IT_4</td>\n",
       "      <td>0.000000e+00</td>\n",
       "      <td>0.000000</td>\n",
       "      <td>0.0</td>\n",
       "      <td>0.000000e+00</td>\n",
       "      <td>0.000000</td>\n",
       "      <td>0.0</td>\n",
       "      <td>0.0</td>\n",
       "      <td>0.0</td>\n",
       "      <td>0.0</td>\n",
       "      <td>...</td>\n",
       "      <td>0.0</td>\n",
       "      <td>0.000000</td>\n",
       "      <td>0.000000</td>\n",
       "      <td>39083.0</td>\n",
       "      <td>0.000000</td>\n",
       "      <td>39083.0</td>\n",
       "      <td>0.000000</td>\n",
       "      <td>39083.0</td>\n",
       "      <td>0.0</td>\n",
       "      <td>39083.0</td>\n",
       "    </tr>\n",
       "  </tbody>\n",
       "</table>\n",
       "<p>24 rows × 21 columns</p>\n",
       "</div>"
      ],
      "text/plain": [
       "     label  depth_imperv_zero  depth_imperv  depth_perv        runoff  \\\n",
       "0       S5       5.831685e-07      0.005001         0.0  9.549377e-07   \n",
       "1       S6       6.573694e-07      0.005001         0.0  4.817216e-07   \n",
       "2       S7       0.000000e+00      0.000000         0.0  0.000000e+00   \n",
       "3     S3.1       0.000000e+00      0.000000         0.0  0.000000e+00   \n",
       "4     S3.2       3.837669e-07      0.005000         0.0  9.936025e-08   \n",
       "5     S3.3       3.073174e-07      0.005000         0.0  9.613834e-08   \n",
       "6     S4.1       0.000000e+00      0.000000         0.0  0.000000e+00   \n",
       "7     S4.2       4.341040e-07      0.005000         0.0  9.369826e-08   \n",
       "8     S4.3       3.807395e-07      0.005000         0.0  1.845950e-07   \n",
       "9     S4.4       4.062874e-07      0.005000         0.0  2.626789e-07   \n",
       "10  S_FS_1       0.000000e+00      0.000000         0.0  0.000000e+00   \n",
       "11  S_FS_2       0.000000e+00      0.000000         0.0  0.000000e+00   \n",
       "12  S_FS_3       0.000000e+00      0.000000         0.0  0.000000e+00   \n",
       "13  S_FS_4       0.000000e+00      0.000000         0.0  0.000000e+00   \n",
       "14    S1.1       3.729824e-07      0.005000         0.0  1.145692e-07   \n",
       "15    S1.2       3.731901e-07      0.005000         0.0  1.383173e-07   \n",
       "16    S1.3       2.158134e-07      0.005000         0.0  7.144661e-08   \n",
       "17    S2.1       2.157604e-07      0.005000         0.0  4.939248e-08   \n",
       "18    S2.2       4.167251e-07      0.005000         0.0  1.708147e-07   \n",
       "19    S2.3       4.171931e-07      0.005000         0.0  2.143272e-07   \n",
       "20  S_IT_1       0.000000e+00      0.000000         0.0  0.000000e+00   \n",
       "21  S_IT_2       0.000000e+00      0.000000         0.0  0.000000e+00   \n",
       "22  S_IT_3       0.000000e+00      0.000000         0.0  0.000000e+00   \n",
       "23  S_IT_4       0.000000e+00      0.000000         0.0  0.000000e+00   \n",
       "\n",
       "    Infiltration_0  Infiltration_1  Infiltration_2  Infiltration_3  \\\n",
       "0        27.937296             0.0             0.0             0.0   \n",
       "1        27.937296             0.0             0.0             0.0   \n",
       "2        27.937296             0.0             0.0             0.0   \n",
       "3        27.937296             0.0             0.0             0.0   \n",
       "4        27.937296             0.0             0.0             0.0   \n",
       "5        27.937296             0.0             0.0             0.0   \n",
       "6        27.937296             0.0             0.0             0.0   \n",
       "7        27.937296             0.0             0.0             0.0   \n",
       "8        27.937296             0.0             0.0             0.0   \n",
       "9        27.937296             0.0             0.0             0.0   \n",
       "10        0.000000             0.0             0.0             0.0   \n",
       "11        0.000000             0.0             0.0             0.0   \n",
       "12        0.000000             0.0             0.0             0.0   \n",
       "13        0.000000             0.0             0.0             0.0   \n",
       "14       27.937296             0.0             0.0             0.0   \n",
       "15       27.937296             0.0             0.0             0.0   \n",
       "16       27.937296             0.0             0.0             0.0   \n",
       "17       27.937296             0.0             0.0             0.0   \n",
       "18       27.937296             0.0             0.0             0.0   \n",
       "19       27.937296             0.0             0.0             0.0   \n",
       "20        0.000000             0.0             0.0             0.0   \n",
       "21        0.000000             0.0             0.0             0.0   \n",
       "22        0.000000             0.0             0.0             0.0   \n",
       "23        0.000000             0.0             0.0             0.0   \n",
       "\n",
       "    Infiltration_4  ...  runoff_TSS     ponded_TSS  Residential_1_TSS_buildup  \\\n",
       "0              0.0  ...         0.0  194350.172787                   0.000000   \n",
       "1              0.0  ...         0.0   87025.637080                   0.000000   \n",
       "2              0.0  ...         0.0       0.000000                   0.000000   \n",
       "3              0.0  ...         0.0       0.000000                   0.000000   \n",
       "4              0.0  ...         0.0   30671.870595                  45.292438   \n",
       "5              0.0  ...         0.0   37027.548711                   0.000000   \n",
       "6              0.0  ...         0.0       0.000000                   0.000000   \n",
       "7              0.0  ...         0.0   25583.366653                   0.000000   \n",
       "8              0.0  ...         0.0   57434.534850                  43.751502   \n",
       "9              0.0  ...         0.0   76610.743143                   0.000000   \n",
       "10             0.0  ...         0.0       0.000000                   0.000000   \n",
       "11             0.0  ...         0.0       0.000000                   0.000000   \n",
       "12             0.0  ...         0.0       0.000000                   0.000000   \n",
       "13             0.0  ...         0.0       0.000000                   0.000000   \n",
       "14             0.0  ...         0.0   36385.153628                  47.329908   \n",
       "15             0.0  ...         0.0   43902.749785                  63.181725   \n",
       "16             0.0  ...         0.0   39136.109324                  66.469050   \n",
       "17             0.0  ...         0.0   27062.202874                  47.492362   \n",
       "18             0.0  ...         0.0   48575.787544                   0.000000   \n",
       "19             0.0  ...         0.0   60881.661319                   0.000000   \n",
       "20             0.0  ...         0.0       0.000000                   0.000000   \n",
       "21             0.0  ...         0.0       0.000000                   0.000000   \n",
       "22             0.0  ...         0.0       0.000000                   0.000000   \n",
       "23             0.0  ...         0.0       0.000000                   0.000000   \n",
       "\n",
       "    Residential_1_lastSwept  Residential_2_TSS_buildup  \\\n",
       "0                   39083.0                   0.000000   \n",
       "1                   39083.0                   0.000000   \n",
       "2                   39083.0                   0.000000   \n",
       "3                   39083.0                   0.000000   \n",
       "4                   39083.0                   0.000000   \n",
       "5                   39083.0                  52.853495   \n",
       "6                   39083.0                   0.000000   \n",
       "7                   39083.0                  49.818426   \n",
       "8                   39083.0                  91.881467   \n",
       "9                   39083.0                   0.000000   \n",
       "10                  39083.0                   0.000000   \n",
       "11                  39083.0                   0.000000   \n",
       "12                  39083.0                   0.000000   \n",
       "13                  39083.0                   0.000000   \n",
       "14                  39083.0                   0.000000   \n",
       "15                  39083.0                   0.000000   \n",
       "16                  39083.0                   0.000000   \n",
       "17                  39083.0                   0.000000   \n",
       "18                  39083.0                  74.520405   \n",
       "19                  39083.0                  78.044870   \n",
       "20                  39083.0                   0.000000   \n",
       "21                  39083.0                   0.000000   \n",
       "22                  39083.0                   0.000000   \n",
       "23                  39083.0                   0.000000   \n",
       "\n",
       "    Residential_2_lastSwept  Commercial_TSS_buildup  Commercial_lastSwept  \\\n",
       "0                   39083.0              266.298176               39083.0   \n",
       "1                   39083.0              120.463005               39083.0   \n",
       "2                   39083.0                0.000000               39083.0   \n",
       "3                   39083.0                0.000000               39083.0   \n",
       "4                   39083.0                0.000000               39083.0   \n",
       "5                   39083.0                0.000000               39083.0   \n",
       "6                   39083.0                0.000000               39083.0   \n",
       "7                   39083.0                0.000000               39083.0   \n",
       "8                   39083.0                0.000000               39083.0   \n",
       "9                   39083.0               53.997892               39083.0   \n",
       "10                  39083.0                0.000000               39083.0   \n",
       "11                  39083.0                0.000000               39083.0   \n",
       "12                  39083.0                0.000000               39083.0   \n",
       "13                  39083.0                0.000000               39083.0   \n",
       "14                  39083.0                0.000000               39083.0   \n",
       "15                  39083.0                0.000000               39083.0   \n",
       "16                  39083.0                0.000000               39083.0   \n",
       "17                  39083.0                0.000000               39083.0   \n",
       "18                  39083.0                0.000000               39083.0   \n",
       "19                  39083.0                0.000000               39083.0   \n",
       "20                  39083.0                0.000000               39083.0   \n",
       "21                  39083.0                0.000000               39083.0   \n",
       "22                  39083.0                0.000000               39083.0   \n",
       "23                  39083.0                0.000000               39083.0   \n",
       "\n",
       "    LID_TSS_buildup  LID_lastSwept  \n",
       "0               0.0        39083.0  \n",
       "1               0.0        39083.0  \n",
       "2               0.0        39083.0  \n",
       "3               0.0        39083.0  \n",
       "4               0.0        39083.0  \n",
       "5               0.0        39083.0  \n",
       "6               0.0        39083.0  \n",
       "7               0.0        39083.0  \n",
       "8               0.0        39083.0  \n",
       "9               0.0        39083.0  \n",
       "10              0.0        39083.0  \n",
       "11              0.0        39083.0  \n",
       "12              0.0        39083.0  \n",
       "13              0.0        39083.0  \n",
       "14              0.0        39083.0  \n",
       "15              0.0        39083.0  \n",
       "16              0.0        39083.0  \n",
       "17              0.0        39083.0  \n",
       "18              0.0        39083.0  \n",
       "19              0.0        39083.0  \n",
       "20              0.0        39083.0  \n",
       "21              0.0        39083.0  \n",
       "22              0.0        39083.0  \n",
       "23              0.0        39083.0  \n",
       "\n",
       "[24 rows x 21 columns]"
      ]
     },
     "execution_count": 69,
     "metadata": {},
     "output_type": "execute_result"
    }
   ],
   "source": [
    "hsf.subcatchments_frame"
   ]
  }
 ],
 "metadata": {
  "kernelspec": {
   "display_name": "Python 3 (ipykernel)",
   "language": "python",
   "name": "python3"
  },
  "language_info": {
   "codemirror_mode": {
    "name": "ipython",
    "version": 3
   },
   "file_extension": ".py",
   "mimetype": "text/x-python",
   "name": "python",
   "nbconvert_exporter": "python",
   "pygments_lexer": "ipython3",
   "version": "3.9.13"
  }
 },
 "nbformat": 4,
 "nbformat_minor": 1
}