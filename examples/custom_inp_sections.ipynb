{
 "cells": [
  {
   "cell_type": "markdown",
   "source": [
    "# Example for custom input-file sections\n",
    "\n",
    "Based on the new extended section introduced with SWMM 5.2"
   ],
   "metadata": {
    "collapsed": false
   }
  },
  {
   "cell_type": "code",
   "execution_count": 1,
   "metadata": {
    "collapsed": true
   },
   "outputs": [],
   "source": [
    "from numpy import NaN\n",
    "\n",
    "from swmm_api import SwmmInput\n",
    "from swmm_api.input_file.helpers import BaseSectionObject\n",
    "from swmm_api.input_file.sections._identifiers import IDENTIFIERS"
   ]
  },
  {
   "cell_type": "markdown",
   "source": [
    "## Defining the Section names"
   ],
   "metadata": {
    "collapsed": false
   }
  },
  {
   "cell_type": "code",
   "execution_count": 2,
   "outputs": [],
   "source": [
    "STREETS = 'STREETS'  # cross-section geometry for street conduits | new in SWMM 5.2\n",
    "INLETS = 'INLETS'  # design data for storm drain inlets | new in SWMM 5.2\n",
    "INLET_USAGE = 'INLET_USAGE'  # assignment of inlets to street and channel conduits | new in SWMM 5.2"
   ],
   "metadata": {
    "collapsed": false,
    "pycharm": {
     "name": "#%%\n"
    }
   }
  },
  {
   "cell_type": "markdown",
   "source": [
    "## Defining the Section object classes"
   ],
   "metadata": {
    "collapsed": false
   }
  },
  {
   "cell_type": "code",
   "execution_count": 3,
   "outputs": [],
   "source": [
    "class Street(BaseSectionObject):\n",
    "    \"\"\"\n",
    "    Cross-section geometry for street conduits.\n",
    "\n",
    "    Section:\n",
    "        [STREETS]\n",
    "\n",
    "    Purpose:\n",
    "        Describes the cross-section geometry of conduits that represent streets.\n",
    "\n",
    "    Attributes:\n",
    "        name(str): Name assigned to the street cross-section.\n",
    "        width_crown (float): Distance from street’s curb to its crown (ft or m).\n",
    "        height_curb (float): Curb height (ft or m).\n",
    "        slope (float): Street cross slope (%).\n",
    "        n_road (float): Manning’s roughness coefficient (n) of the road surface.\n",
    "        depth_gutter (float | optional): Gutter depression height (in or mm) (default = 0).\n",
    "        width_gutter (float | optional): Depressed gutter width (ft or m) (default = 0).\n",
    "        sides (int | optional): 1 for single sided street or 2 for two-sided street (default = 2).\n",
    "        width_backing (float | optional): Street backing width (ft or m) (default = 0).\n",
    "        slope_backing (float | optional): Street backing slope (%) (default = 0).\n",
    "        n_backing (float | optional): Street backing Manning’s roughness coefficient (n) (default = 0).\n",
    "\n",
    "    Remarks:\n",
    "        If the street has no depressed gutter (a = 0) then the gutter width entry is ignored. If the\n",
    "        street has no backing then the three backing parameters can be omitted.\n",
    "    \"\"\"\n",
    "    _identifier = IDENTIFIERS.name\n",
    "    _table_inp_export = True\n",
    "    _section_label = STREETS\n",
    "\n",
    "    def __init__(self, name, width_crown, height_curb, slope, n_road, depth_gutter=0, width_gutter=0, sides=2,\n",
    "                 width_backing=0, slope_backing=0, n_backing=0):\n",
    "        \"\"\"\n",
    "        Cross-section geometry for street conduits.\n",
    "\n",
    "        Args:\n",
    "            name(str): Name assigned to the street cross-section.\n",
    "            width_crown (float): Distance from street’s curb to its crown (ft or m).\n",
    "            height_curb (float): Curb height (ft or m).\n",
    "            slope (float): Street cross slope (%).\n",
    "            n_road (float): Manning’s roughness coefficient (n) of the road surface.\n",
    "            depth_gutter (float | optional): Gutter depression height (in or mm) (default = 0).\n",
    "            width_gutter (float | optional): Depressed gutter width (ft or m) (default = 0).\n",
    "            sides (int | optional): 1 for single sided street or 2 for two-sided street (default = 2).\n",
    "            width_backing (float | optional): Street backing width (ft or m) (default = 0).\n",
    "            slope_backing (float | optional): Street backing slope (%) (default = 0).\n",
    "            n_backing (float | optional): Street backing Manning’s roughness coefficient (n) (default = 0).\n",
    "        \"\"\"\n",
    "        self.name = str(name)\n",
    "        self.width_crown = float(width_crown)\n",
    "        self.height_curb = float(height_curb)\n",
    "        self.slope = float(slope)\n",
    "        self.n_road = float(n_road)\n",
    "        self.depth_gutter = float(depth_gutter)\n",
    "        self.width_gutter = float(width_gutter)\n",
    "        self.sides = int(sides)\n",
    "        self.width_backing = float(width_backing)\n",
    "        self.slope_backing = float(slope_backing)\n",
    "        self.n_backing = float(n_backing)\n",
    "\n",
    "\n",
    "class Inlet(BaseSectionObject):\n",
    "    \"\"\"\n",
    "    Design data for storm drain inlets.\n",
    "\n",
    "    Section:\n",
    "        [INLETS]\n",
    "\n",
    "    Purpose:\n",
    "        Defines inlet structure designs used to capture street and channel flow that are sent to below\n",
    "        ground sewers.\n",
    "\n",
    "    Format:\n",
    "        ::\n",
    "\n",
    "            Name GRATE/DROP_GRATE Length Width Type (Aopen Vsplash)\n",
    "            Name CURB/DROP_CURB Length Height (Throat)\n",
    "            Name SLOTTED Length Width\n",
    "            Name CUSTOM Dcurve/Rcurve\n",
    "\n",
    "    Parameters:\n",
    "        name (str): name assigned to the inlet structure.\n",
    "        length (float): length of the inlet parallel to the street curb (ft or m).\n",
    "        width (float): width of a GRATE or SLOTTED inlet (ft or m).\n",
    "        height (float): height of a CURB opening inlet (ft or m).\n",
    "        grate_type (str): type of GRATE used (see below).\n",
    "        area_open (float): fraction of a GENERIC grate’s area that is open.\n",
    "        velocity_splash (float): splash over velocity for a GENERIC grate (ft/s or m/s).\n",
    "        throat_angle (str): the throat angle of a CURB opening inlet (HORIZONTAL, INCLINED or VERTICAL).\n",
    "        curve (str): one of:\n",
    "            - name of a Diversion-type curve (captured flow v. approach flow) for a CUSTOM inlet.\n",
    "            - name of a Rating-type curve (captured flow v. water depth) for a CUSTOM inlet.\n",
    "\n",
    "    Remarks:\n",
    "        See Section 3.3.7 for a description of the different types of inlets that SWMM can model.\n",
    "\n",
    "        Use one line for each inlet design except for a combination inlet where one GRATE line\n",
    "        describes its grated inlet and a second CURB line (with the same inlet name) describes its curb\n",
    "        opening inlet.\n",
    "\n",
    "        GRATE, CURB, and SLOTTED inlets are used with STREET conduits, DROP_GRATE and\n",
    "        DROP_CURB inlets with open channels, and a CUSTOM inlet with any conduit.\n",
    "\n",
    "        GRATE and DROP_GRATE types can be any of the following:\n",
    "\n",
    "            - ``P_BAR``-50: Parallel bar grate with bar spacing 17⁄8” on center\n",
    "            - ``P_BAR``-50X100: Parallel bar grate with bar spacing 17⁄8” on center and 3⁄8” diameter lateral rods spaced at 4” on center\n",
    "            - ``P_BAR``-30: Parallel bar grate with 11⁄8” on center bar spacing\n",
    "            - ``CURVED_VANE``: Curved vane grate with 31⁄4” longitudinal bar and 41⁄4” transverse bar spacing on center\n",
    "            - ``TILT_BAR``-45: 45 degree tilt bar grate with 21⁄4” longitudinal bar and 4” transverse bar spacing on center\n",
    "            - ``TILT_BAR``-30: 30 degree tilt bar grate with 31⁄4” and 4” on center longitudinal and lateral bar spacing respectively\n",
    "            - ``RETICULINE``: \"Honeycomb\" pattern of lateral bars and longitudinal bearing bars\n",
    "            - ``GENERIC``: A generic grate design.\n",
    "\n",
    "        Only a GENERIC type grate requires that Aopen and Vsplash values be provided.\n",
    "        The other standard grate types have predetermined values of these parameters.\n",
    "        (Splash over velocity is the minimum velocity that will cause some water to shoot over the inlet thus\n",
    "        reducing its capture efficiency).\n",
    "\n",
    "        A CUSTOM inlet takes the name of either a Diversion curve or a Rating curve as its only\n",
    "        parameter (see the [CURVES] section). Diversion curves are best suited for on-grade\n",
    "        inlets and Rating curves for on-sag inlets.\n",
    "\n",
    "    Examples:\n",
    "        ::\n",
    "\n",
    "            ; A 2-ft x 2-ft parallel bar grate\n",
    "            InletType1 GRATE 2 2 P-BAR-30\n",
    "\n",
    "            ; A combination inlet\n",
    "            InletType2 GRATE 2 2   CURVED_VANE\n",
    "            InletType2 CURB  4 0.5 HORIZONTAL\n",
    "\n",
    "            ; A custom inlet using Curve1 as its capture curve\n",
    "            InletType3 CUSTOM Curve1\n",
    "    \"\"\"\n",
    "    _identifier = (IDENTIFIERS.name, 'kind')\n",
    "    _section_label = INLETS\n",
    "\n",
    "    class TYPES:\n",
    "        GRATE = 'GRATE'\n",
    "        CURB = 'CURB'\n",
    "        DROP_GRATE = 'DROP_GRATE'\n",
    "        DROP_CURB = 'DROP_CURB'\n",
    "        SLOTTED = 'SLOTTED'\n",
    "        CUSTOM = 'CUSTOM'\n",
    "\n",
    "    class THROAT:\n",
    "        HORIZONTAL = 'HORIZONTAL'\n",
    "        INCLINED = 'INCLINED'\n",
    "        VERTICAL = 'VERTICAL'\n",
    "\n",
    "    def __init__(self, name, kind,\n",
    "                 # length, width, height, grate_type, area_open, velocity_splash, throat_angle\n",
    "                 ):\n",
    "        \"\"\"Design data for storm drain inlets.\"\"\"\n",
    "        self.name = name\n",
    "        self.kind = kind\n",
    "\n",
    "    @classmethod\n",
    "    def _convert_lines(cls, multi_line_args):\n",
    "        sub_class_dict = {\n",
    "            Inlet.TYPES.GRATE: InletGrate,\n",
    "            Inlet.TYPES.CURB: InletCurb,\n",
    "            Inlet.TYPES.SLOTTED: InletSlotted,\n",
    "            Inlet.TYPES.CUSTOM: InletCustom,\n",
    "        }\n",
    "        for name, kind, *line_args in multi_line_args:\n",
    "            sub_cls = sub_class_dict[kind]\n",
    "            yield sub_cls.from_inp_line(name, kind, *line_args)\n",
    "\n",
    "\n",
    "class InletGrate(Inlet):\n",
    "    def __init__(self, name, kind=Inlet.TYPES.GRATE, length=None, width=None, grate_type=None, area_open=NaN,\n",
    "                 velocity_splash=NaN):\n",
    "        super().__init__(name, kind)\n",
    "        self.length = float(length)\n",
    "        self.width = float(width)\n",
    "        self.grate_type = str(grate_type)\n",
    "        self.area_open = area_open\n",
    "        self.velocity_splash = velocity_splash\n",
    "\n",
    "\n",
    "class InletCurb(Inlet):\n",
    "    def __init__(self, name, kind=Inlet.TYPES.CURB, length=None, height=None, throat_angle=NaN):\n",
    "        super().__init__(name, kind)\n",
    "        self.length = float(length)\n",
    "        self.height = float(height)\n",
    "        self.throat_angle = throat_angle\n",
    "\n",
    "\n",
    "class InletSlotted(Inlet):\n",
    "    def __init__(self, name, kind=Inlet.TYPES.SLOTTED, length=None, width=None):\n",
    "        super().__init__(name, kind)\n",
    "        self.length = float(length)\n",
    "        self.width = float(width)\n",
    "\n",
    "\n",
    "class InletCustom(Inlet):\n",
    "    def __init__(self, name, kind=Inlet.TYPES.CUSTOM, curve=None):\n",
    "        super().__init__(name, kind)\n",
    "        self.curve = curve\n",
    "\n",
    "\n",
    "class InletUsage(BaseSectionObject):\n",
    "    \"\"\"\n",
    "    Assignment of inlets to street and channel conduits.\n",
    "\n",
    "    Section:\n",
    "        [INLET_USAGE]\n",
    "\n",
    "    Purpose:\n",
    "        Assigns inlet structures to specific street and open channel conduits.\n",
    "\n",
    "    Attributes:\n",
    "        conduit (str): name of a street or open channel conduit containing the inlet.\n",
    "        inlet (str): name of an inlet structure (from the [``INLETS``] section (:class:`Inlet`)) to use.\n",
    "        node (str): name of the sewer node receiving flow captured by the inlet.\n",
    "        num (int | optional): number of replicate inlets placed on each side of the street.\n",
    "        clogged_pct (float | optional): degree to which inlet capacity is reduced due to clogging (%).\n",
    "        flow_max (float | optional): maximum flow that the inlet can capture (flow units).\n",
    "        height_gutter (float | optional): height of local gutter depression (in or mm).\n",
    "        width_gutter (float | optional): width of local gutter depression (ft or m).\n",
    "        placement (str | optional): One of ``AUTOMATIC``, ``ON_GRADE``, or ``ON_SAG`` (:attr:`InletUsage.PLACEMENTS`).\n",
    "\n",
    "        PLACEMENTS: Enum-like for the attribute :attr:`InletUsage.placement` with following members -> {``AUTOMATIC`` | ``ON_GRADE`` | ``ON_SAG``}\n",
    "\n",
    "    Remarks:\n",
    "        Only conduits with a ``STREET`` cross section can be assigned a curb and gutter inlet while\n",
    "        drop inlets can only be assigned to conduits with a ``RECT_OPEN`` or ``TRAPEZOIDAL`` cross\n",
    "        section.\n",
    "\n",
    "        Only the first three parameters are required. The default number of inlets is 1 (for each side\n",
    "        of a two-sided street) while the remaining parameters have default values of 0.\n",
    "\n",
    "        A :attr:`InletUsage.flow_max` value of 0 indicates that the inlet has no flow restriction.\n",
    "\n",
    "        The local gutter depression applies only over the length of the inlet unlike the continuous\n",
    "        depression for a ``STREET`` cross section which exists over the full curb length.\n",
    "\n",
    "        The default inlet placement is AUTOMATIC, meaning that the program uses the network\n",
    "        topography to determine whether an inlet operates on-grade or on-sag. On-grade means the\n",
    "        inlet is located on a continuous grade. On-sag means the inlet is located at a sag or sump point\n",
    "        where all adjacent conduits slope towards the inlet leaving no place for water to flow except\n",
    "        into the inlet.\n",
    "    \"\"\"\n",
    "    _identifier = 'conduit'  # inlet\n",
    "    _table_inp_export = True\n",
    "    _section_label = INLET_USAGE\n",
    "\n",
    "    class PLACEMENTS:\n",
    "        AUTOMATIC = 'AUTOMATIC'\n",
    "        ON_GRADE = 'ON_GRADE'\n",
    "        ON_SAG = 'ON_SAG'\n",
    "\n",
    "    def __init__(self, conduit, inlet, node, num=NaN, clogged_pct=NaN, flow_max=NaN, height_gutter=NaN,\n",
    "                 width_gutter=NaN, placement=NaN):\n",
    "        \"\"\"\n",
    "        Assignment of inlets to street and channel conduits.\n",
    "\n",
    "        Args:\n",
    "            conduit (str): name of a street or open channel conduit containing the inlet.\n",
    "            inlet (str): name of an inlet structure (from the [INLETS] section (:class:`Inlet`)) to use.\n",
    "            node (str): name of the sewer node receiving flow captured by the inlet.\n",
    "            num (int | optional): number of replicate inlets placed on each side of the street.\n",
    "            clogged_pct (float | optional): degree to which inlet capacity is reduced due to clogging (%).\n",
    "            flow_max (float | optional): maximum flow that the inlet can capture (flow units).\n",
    "            height_gutter (float | optional): height of local gutter depression (in or mm).\n",
    "            width_gutter (float | optional): width of local gutter depression (ft or m).\n",
    "            placement (str | optional):  One of ``AUTOMATIC``, ``ON_GRADE``, or ``ON_SAG`` (:attr:`InletUsage.PLACEMENTS`).\n",
    "        \"\"\"\n",
    "        self.conduit = str(conduit)\n",
    "        self.inlet = str(inlet)\n",
    "        self.node = str(node)\n",
    "        self.num = int(num)\n",
    "        self.clogged_pct = float(clogged_pct)\n",
    "        self.flow_max = float(flow_max)\n",
    "        self.height_gutter = float(height_gutter)\n",
    "        self.width_gutter = float(width_gutter)\n",
    "        self.placement = placement"
   ],
   "metadata": {
    "collapsed": false,
    "pycharm": {
     "name": "#%%\n"
    }
   }
  },
  {
   "cell_type": "markdown",
   "source": [
    "## Reading the custom inp-file"
   ],
   "metadata": {
    "collapsed": false
   }
  },
  {
   "cell_type": "code",
   "execution_count": 4,
   "outputs": [],
   "source": [
    "inp = SwmmInput('epaswmm5_apps_manual/Samples/Inlet_Drains_Model.inp',\n",
    "                custom_section_handler={\n",
    "                    STREETS    : Street,\n",
    "                    INLETS     : Inlet,\n",
    "                    INLET_USAGE: InletUsage,\n",
    "                }\n",
    "                )"
   ],
   "metadata": {
    "collapsed": false,
    "pycharm": {
     "name": "#%%\n"
    }
   }
  },
  {
   "cell_type": "code",
   "execution_count": 5,
   "outputs": [
    {
     "name": "stdout",
     "output_type": "stream",
     "text": [
      ";;         width_crown height_curb slope n_road depth_gutter width_gutter sides width_backing slope_backing n_backing\n",
      ";;name                                                                                                               \n",
      "HalfStreet          20         0.5     4  0.016            0            0     1            20             4     0.016\n",
      "FullStreet          20         0.5     4  0.016            0            0     2            20             4     0.016\n"
     ]
    }
   ],
   "source": [
    "print(inp.STREETS.to_inp_lines(fast=False))"
   ],
   "metadata": {
    "collapsed": false,
    "pycharm": {
     "name": "#%%\n"
    }
   }
  },
  {
   "cell_type": "markdown",
   "source": [
    "# Converting unknown sections without creating a new class\n",
    "\n",
    "If you want to modify a section, which has no converters, and you don't want to create a new section class, than you can use a DummySectionObject class."
   ],
   "metadata": {
    "collapsed": false
   }
  },
  {
   "cell_type": "code",
   "execution_count": 6,
   "outputs": [],
   "source": [
    "from swmm_api.input_file.helpers_dummy import DummySectionObject\n",
    "\n",
    "inp = SwmmInput('epaswmm5_apps_manual/Samples/Inlet_Drains_Model.inp',\n",
    "                custom_section_handler={\n",
    "                    STREETS    : DummySectionObject,\n",
    "                    INLETS     : DummySectionObject,\n",
    "                    INLET_USAGE: DummySectionObject,\n",
    "                }\n",
    "                )"
   ],
   "metadata": {
    "collapsed": false,
    "pycharm": {
     "name": "#%%\n"
    }
   }
  },
  {
   "cell_type": "code",
   "execution_count": 7,
   "outputs": [
    {
     "name": "stdout",
     "output_type": "stream",
     "text": [
      ";;parameter_0 parameter_1 parameter_2 parameter_3 parameter_4 parameter_5 parameter_6 parameter_7 parameter_8 parameter_9 parameter_10\n",
      "   HalfStreet          20         0.5           4       0.016           0           0           1          20           4        0.016\n",
      "   FullStreet          20         0.5           4       0.016           0           0           2          20           4        0.016\n"
     ]
    }
   ],
   "source": [
    "print(inp.STREETS.to_inp_lines(fast=False))"
   ],
   "metadata": {
    "collapsed": false,
    "pycharm": {
     "name": "#%%\n"
    }
   }
  },
  {
   "cell_type": "code",
   "execution_count": 8,
   "outputs": [
    {
     "data": {
      "text/plain": "[   DummySectionObject(parameter_0='HalfStreet', parameter_1='20', parameter_2='0.5', parameter_3='4', parameter_4='0.016', parameter_5='0', parameter_6='0', parameter_7='1', parameter_8='20', parameter_9='4', parameter_10='0.016'),\n    DummySectionObject(parameter_0='FullStreet', parameter_1='20', parameter_2='0.5', parameter_3='4', parameter_4='0.016', parameter_5='0', parameter_6='0', parameter_7='2', parameter_8='20', parameter_9='4', parameter_10='0.016')]"
     },
     "execution_count": 8,
     "metadata": {},
     "output_type": "execute_result"
    }
   ],
   "source": [
    "inp.STREETS.copy()"
   ],
   "metadata": {
    "collapsed": false,
    "pycharm": {
     "name": "#%%\n"
    }
   }
  }
 ],
 "metadata": {
  "kernelspec": {
   "display_name": "Python 3",
   "language": "python",
   "name": "python3"
  },
  "language_info": {
   "codemirror_mode": {
    "name": "ipython",
    "version": 2
   },
   "file_extension": ".py",
   "mimetype": "text/x-python",
   "name": "python",
   "nbconvert_exporter": "python",
   "pygments_lexer": "ipython2",
   "version": "2.7.6"
  }
 },
 "nbformat": 4,
 "nbformat_minor": 0
}